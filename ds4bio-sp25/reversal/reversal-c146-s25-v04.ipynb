{
 "cells": [
  {
   "cell_type": "markdown",
   "metadata": {},
   "source": [
    "# Reversal Lab: Reversal Competition\n",
    "### Data Science for Biology\n",
    "Developed by Steven E. Brenner"
   ]
  },
  {
   "cell_type": "markdown",
   "metadata": {},
   "source": [
    "## Instructions\n",
    "\n",
    "Provide blocks of code that take a string 's' and put the reverse of that string into 'r'.\n",
    "For each one, print out 's' and 'r' unless instructed otherwise.\n",
    "\n",
    "The primary evaluation will be on which team comes up with the largest number of distinct ways of reversing the string, which should be listed in as many code blocks as needed at the bottom of the assignment (under \"count the reversals\"). Feel free to use that space to experiment.\n",
    "\n",
    "Fill in the 3 boxes with the rapid, concise, and (optionally) obscure examples for the additional competitions.\n",
    "\n",
    "Bonus prizes may be awarded for best team name, as well as the fastest, shortest, and most obscure examples. Winners get bragging rights for perpetuity. \n",
    "\n",
    "You will be graded only on completion for this lab."
   ]
  },
  {
   "cell_type": "markdown",
   "metadata": {},
   "source": [
    "## Group Team **[List Team Name Here]**\n",
    "This should be a creative name for your team.\n",
    "\n",
    "Team members: **[List members here]**\n"
   ]
  },
  {
   "cell_type": "markdown",
   "metadata": {},
   "source": [
    "### Fastest code \n",
    "\n",
    "Use the code framework and example string below to test the speed of your fastest code.  \n",
    "\n",
    "Note that `%%timeit` counts the time for the entire cell, including assigning the string to `s`\n",
    "\n",
    "Therefore, we first figure out how long it takes to just do that assignment, and then we\n",
    "calculate the time to put the reverse of that string into `r`.\n",
    "\n",
    "Here do NOT print the sequences, as those could dominate the timing.\n",
    "\n",
    "Note: Repeat your code from \"all examples\" below as part of the regular set of examples to have it counted. <span style=\"color: red;\">\n",
    "\n",
    "Our string for this one will be a lowercase, punctuation- and space-free version of **`\"Madam, in Eden, I'm Adam.\"`**\n",
    "Everyone must use the same string, so timing will be consistent.  Then copy and paste the timings you had for each into the box below"
   ]
  },
  {
   "cell_type": "code",
   "execution_count": 1,
   "metadata": {},
   "outputs": [
    {
     "name": "stdout",
     "output_type": "stream",
     "text": [
      "6.86 ns ± 0.842 ns per loop (mean ± std. dev. of 100 runs, 100,000 loops each)\n"
     ]
    }
   ],
   "source": [
    "%%timeit -n100000 -r 100 \n",
    "\n",
    "s = \"madaminedenimadam\"\n",
    "\n",
    "# Don't change this code block!\n",
    "# This will be the speed of just doing the string assignment and reading this comment"
   ]
  },
  {
   "cell_type": "code",
   "execution_count": 4,
   "metadata": {},
   "outputs": [
    {
     "name": "stdout",
     "output_type": "stream",
     "text": [
      "57.6 ns ± 3.03 ns per loop (mean ± std. dev. of 100 runs, 100,000 loops each)\n"
     ]
    }
   ],
   "source": [
    "%%timeit -n100000 -r 100 \n",
    "\n",
    "s = \"madaminedenimadam\"\n",
    "\n",
    "r = s[::-1]\n",
    "\n",
    "# Change this code block!\n",
    "# This will be the speed of the string assignment, reversal, and reading this comment"
   ]
  },
  {
   "cell_type": "markdown",
   "metadata": {},
   "source": [
    "#### Code speed \n",
    "\n",
    "Copy into this box the two lines of output from the code boxes above, and then list the difference, as that will be roughly the runtime of your reversing code.  **Replace the lines below with the output that you got, and edit difference between them**\n",
    "\n",
    "It should look something like:\n",
    "\n",
    "19 ns ± 4.88 ns per loop (mean ± std. dev. of 100 runs, 100,000 loops each)\n",
    "\n",
    "171 ns ± 38.7 ns per loop (mean ± std. dev. of 100 runs, 100,000 loops each)\n",
    "\n",
    "Difference in runtime = **152ns**\n",
    "\n",
    "#### Your code speed\n",
    "\n",
    "6.86 ns ± 0.842 ns per loop (mean ± std. dev. of 100 runs, 100,000 loops each)\n",
    "\n",
    "57.6 ns ± 3.03 ns per loop (mean ± std. dev. of 100 runs, 100,000 loops each)\n",
    "\n",
    "Difference in runtime = **50.74ns**"
   ]
  },
  {
   "cell_type": "markdown",
   "metadata": {},
   "source": [
    "### Concise code\n",
    "\n",
    "Enter your code with the fewest characters below to reverse the string successfully.  \n",
    "\n",
    "Precisely repeat your code example below as part of the regular set of \"all examples\", including printing \n",
    "the original and reversed sequence.  Use any string you like, although one is provided to you by default.."
   ]
  },
  {
   "cell_type": "code",
   "execution_count": 3,
   "metadata": {},
   "outputs": [
    {
     "name": "stdout",
     "output_type": "stream",
     "text": [
      "String  : You lose \n",
      "Reversed: esol uoY\n"
     ]
    }
   ],
   "source": [
    "s = \"You lose\"  # Concise quip from laconic President Calvin Coolidge\n",
    "\n",
    "# Your reversing code here \n",
    "r = s[::-1]\n",
    "\n",
    "print (\"String  :\",s,\"\\nReversed:\",r)"
   ]
  },
  {
   "cell_type": "markdown",
   "metadata": {},
   "source": [
    "### Obscure code\n",
    "\n",
    "Enter your code that most effectively obscures that r will be assigned the reverse of string s.  \n",
    "\n",
    "This need not be one of your examples below (it may just use an obscured version of those). \n",
    "\n",
    "If is is the same as one of your examples below, precisely repeat your code example here.\n",
    "\n",
    "Print the original and reversed sequence.  Do not change the original sequence s"
   ]
  },
  {
   "cell_type": "code",
   "execution_count": null,
   "metadata": {},
   "outputs": [],
   "source": [
    "clergy_concerns = \"dennis nell edna leon nedra anita rolf nora alice carol leo jane reed denadale dasil rae penny lana dave denny lena ida bernadette ben ray lila nina jo ira mara sara mario jan ina lily arne bette dan reba diane lynn ed eva dana lynne pearl isabel ada ned dee rena joel lora secil aaron flora tina arden noel and ellen sinned\"\n",
    "s = clergy_concerns.replace(\" \", \"\")\n",
    "\n",
    "# Your reversing code here\n",
    "\n",
    "print (\"String  :\",s,\"\\nReversed:\",r)\n"
   ]
  },
  {
   "cell_type": "markdown",
   "metadata": {},
   "source": [
    "## Count the reversals\n",
    "\n",
    "Have one code block for each reversal. Add additional code boxes as needed.\n",
    "\n",
    "Arrange the most similar approaches together\n",
    "\n",
    "You can pick the phrase to reverse.\n",
    "\n",
    "Feel free to add comments about your approach (why you like it, how you came up with it, etc.)"
   ]
  },
  {
   "cell_type": "code",
   "execution_count": 7,
   "metadata": {},
   "outputs": [
    {
     "name": "stdout",
     "output_type": "stream",
     "text": [
      "String  : It is a tale / Told by an idiot, full of sound and fury, / Signifying nothing. \n",
      "Reversed: .gnihton gniyfingiS / ,yruf dna dnuos fo lluf ,toidi na yb dloT / elat a si tI\n"
     ]
    }
   ],
   "source": [
    "# Approach 1\n",
    "s = \"It is a tale / Told by an idiot, full of sound and fury, / Signifying nothing.\"\n",
    "\n",
    "# Your reversing code here\n",
    "def reverse_string(s):\n",
    "    if len(s) == 0:\n",
    "        return \"\"\n",
    "    temp = s[0]\n",
    "    return reverse_string(s[1:]) + temp\n",
    "    \n",
    "r = reverse_string(s)\n",
    "\n",
    "print (\"String  :\",s,\"\\nReversed:\",r)\n"
   ]
  },
  {
   "cell_type": "code",
   "execution_count": 9,
   "metadata": {},
   "outputs": [
    {
     "name": "stdout",
     "output_type": "stream",
     "text": [
      "String  : Definition of a college professor: someone who talks in other people's sleep. \n",
      "Reversed: .peels s'elpoep rehto ni sklat ohw enoemos :rosseforp egelloc a fo noitinifeD\n"
     ]
    }
   ],
   "source": [
    "# Approach 2\n",
    "import collections\n",
    "\n",
    "s = \"Definition of a college professor: someone who talks in other people's sleep.\" # W.H. Auden\n",
    "\n",
    "# Your reversing code here\n",
    "# We create a linked List\n",
    "linked_list = collections.deque()\n",
    "\n",
    "# use doubled ended queue and appendLeft to reverse 0_0\n",
    "for char in s:\n",
    "    linked_list.appendleft(char)\n",
    "\n",
    "r = ''.join(linked_list)\n",
    "\n",
    "print (\"String  :\",s,\"\\nReversed:\",r)\n"
   ]
  },
  {
   "cell_type": "code",
   "execution_count": 16,
   "metadata": {},
   "outputs": [
    {
     "name": "stdout",
     "output_type": "stream",
     "text": [
      "String  : Let's drink a toast as each of us recalls / Ivy-covered professors in ivy-covered halls \n",
      "Reversed: sllah derevoc-yvi ni srosseforp derevoc-yvI / sllacer su fo hcae sa tsaot a knird s'teL\n"
     ]
    }
   ],
   "source": [
    "# Approach 3\n",
    "s = \"Let's drink a toast as each of us recalls / Ivy-covered professors in ivy-covered halls\" # Tom Lehrer, \"Bright College Days\"\n",
    "\n",
    "# Your reversing code here\n",
    "linked_list = collections.deque()\n",
    "\n",
    "for char in s:\n",
    "    linked_list.append(char)\n",
    "\n",
    "# Reverse the deque\n",
    "linked_list.reverse()\n",
    "\n",
    "r = ''.join(linked_list)\n",
    "\n",
    "print (\"String  :\",s,\"\\nReversed:\",r)\n"
   ]
  },
  {
   "cell_type": "code",
   "execution_count": 28,
   "metadata": {},
   "outputs": [
    {
     "name": "stdout",
     "output_type": "stream",
     "text": [
      "tensor([[    2,     0, 46234,     5,  7213,     9,     5,  6755,    35,  1368,\n",
      "          3019,  3137,   139,  3304,   281,     2]])\n",
      "output the reverse of the string: hola como estas\n",
      "String  : hola como estas\n",
      "Reversed: hola como estas\n"
     ]
    }
   ],
   "source": [
    "from transformers import BartForConditionalGeneration, BartTokenizer\n",
    "\n",
    "# Load pre-trained model and tokenizer\n",
    "model_name = 'facebook/bart-large'\n",
    "model = BartForConditionalGeneration.from_pretrained(model_name)\n",
    "tokenizer = BartTokenizer.from_pretrained(model_name)\n",
    "\n",
    "def reverse_string_with_llm(s):\n",
    "    # Prepare the input prompt\n",
    "    prompt = f\"output the reverse of the string: {s}\"\n",
    "\n",
    "    # Encode the input prompt\n",
    "    inputs = tokenizer(prompt, return_tensors='pt')\n",
    "\n",
    "    # Generate the output\n",
    "    outputs = model.generate(inputs['input_ids'], max_length=100, num_return_sequences=1)\n",
    "    print(outputs)\n",
    "\n",
    "    # Decode the output\n",
    "    reversed_string = tokenizer.decode(outputs[0], skip_special_tokens=True)\n",
    "    print(reversed_string)\n",
    "    # Extract the reversed string from the output\n",
    "    reversed_string = reversed_string.split(':')[-1].strip()\n",
    "\n",
    "    return reversed_string\n",
    "\n",
    "# Example usage\n",
    "s = \"hola como estas\"\n",
    "r = reverse_string_with_llm(s)\n",
    "\n",
    "print(\"String  :\", s)\n",
    "print(\"Reversed:\", r)"
   ]
  },
  {
   "cell_type": "code",
   "execution_count": null,
   "metadata": {},
   "outputs": [],
   "source": []
  }
 ],
 "metadata": {
  "kernelspec": {
   "display_name": "3.11.9",
   "language": "python",
   "name": "python3"
  },
  "language_info": {
   "codemirror_mode": {
    "name": "ipython",
    "version": 3
   },
   "file_extension": ".py",
   "mimetype": "text/x-python",
   "name": "python",
   "nbconvert_exporter": "python",
   "pygments_lexer": "ipython3",
   "version": "3.11.9"
  }
 },
 "nbformat": 4,
 "nbformat_minor": 4
}
