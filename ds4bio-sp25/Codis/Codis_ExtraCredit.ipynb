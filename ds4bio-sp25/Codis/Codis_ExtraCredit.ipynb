{
 "cells": [
  {
   "cell_type": "markdown",
   "id": "ef5709d6-dc5e-4b33-bf80-f62a63a34fe7",
   "metadata": {},
   "source": [
    "***\n",
    "## 4. Extra Credit Mini-Projects"
   ]
  },
  {
   "cell_type": "markdown",
   "id": "58b434e6-8675-4cbf-8174-084d3e5a40d4",
   "metadata": {},
   "source": [
    "Most assignments in this course will include optional extra credit questions. These questions are designed as starting points for students to explore more free-form mini projects. Therefore, there is no skeleton code and minimal guidance for these questions. Students are welcome to go beyond the scope of the question or adapt the question as necessary to answer their own scientific questions of interest. You are welcome to create as many coding cells as you would like for these mini-projects. In order to get extra credit, students should make a reasonable attempt (as judged by the grader) on at least one question and write a brief report.\n",
    "\n",
    "Write a summary on your methodology and your findings, highlighting key results and any interesting observations. The length of the report does not matter, as long as it answers all of the following questions:\n",
    "- What was your scientific goal with this project?\n",
    "- What methods did you use and why?\n",
    "- What were the key results you found for each method you implemented?\n",
    "- Were there any limitations in your methods?\n",
    "- What additional observations or comments can you make on your findings? What is the greater biological relevance or implication?\n",
    "- Are there any additional questions you would want to explore?"
   ]
  },
  {
   "cell_type": "code",
   "execution_count": null,
   "id": "6b630b48-f50d-4333-a643-0b3c2ffb7e39",
   "metadata": {},
   "outputs": [],
   "source": [
    "# BEGIN QUESTION\n",
    "name: extra_credit"
   ]
  },
  {
   "cell_type": "markdown",
   "id": "b2cf5eb7-0bb1-4f2f-a035-c0cbf1691fef",
   "metadata": {},
   "source": [
    "<!-- BEGIN QUESTION -->\n",
    "<font color = #d14d0f>**EC Mini-Project A: Comparing Diploid Distributions**</font>\n",
    "\n",
    "Explore differences in the STR distributions of each chromosome at the same STR locus (e.g XXXX vs XXXX.1). How common is it for there to be different allele frequencies at an STR locus for each chromosome? Why would there be a difference? Do you see any odd diplotypes with the STR for TPOX and TPOX.1? Consider any methods you could use to statistically determine if the distribution for each STR loci is different on each chromosome, and apply the method."
   ]
  },
  {
   "cell_type": "markdown",
   "id": "3d834947-2b0c-486c-ab06-6a8e96b8dfab",
   "metadata": {},
   "source": [
    "<font color = #d14d0f>**EC Mini-Project B: Ethnicity Biases**</font>\n",
    "\n",
    "The original `raw_profiles` DataFrame includes a column `\"Group\"`, which indicates the ethnicity of the individual. How could someone's ethnicity affect their probability of being a match or close match to someone else in the CODIS data? Explore the data and create visualization or other supporting statistics to build your argument. "
   ]
  },
  {
   "cell_type": "markdown",
   "id": "77ab5c1d-cd9e-48df-beab-720a93fc8689",
   "metadata": {},
   "source": [
    "<font color = #d14d0f>**EC Mini-Project C: STR Profiles by Ethnicity**</font>\n",
    "\n",
    "The original `raw_profiles` DataFrame includes a column `\"Group\"`, which indicates the ethnicity of the individual. Explore how STR profiles vary across ethnic groups using the `euclideanDist` function. How much variation is there between different ethnicities? Could ethnicity be predicted from STR profile?"
   ]
  },
  {
   "cell_type": "markdown",
   "id": "11ec46bf-4861-4383-a69f-ad70f9f5a8ff",
   "metadata": {},
   "source": [
    "<font color = #d14d0f>**EC Mini-Project D: Probability of Matching**</font>\n",
    "\n",
    "D1. In question 4, we assumed each fingerprint was equally likely (i.e there was a uniform distribution of each allele combination). What is the probability of two individuals having a matching fingerprint, considering the frequencies of each allele combination? \n",
    "\n",
    "D2. How many people would need to be in a population in order for there to be a >50% chance of at least two people having identical fingerprints, assuming uniform distribution of any given fingerprint? Also assume there are no monozygotic twins and other genetic relationships. What about non-uniform (using allele combination frequencies from this dataset)?\n",
    "\n",
    "D3. STRs are not independent due to ancestry (no Hardy-Weinberg Equilibrium) or linkage. One could assume that individuals who are closely related may have more similar STR fingerprints. How could CODIS be used to predict the degree of relation between two individuals? What other considerations and limitations would need to be made?"
   ]
  },
  {
   "cell_type": "code",
   "execution_count": null,
   "id": "76edebbf-17a1-49b1-9845-0b5f5afa4742",
   "metadata": {},
   "outputs": [],
   "source": [
    "#YOUR CODE HERE. ADD ADDITIONAL CODE CELLS AS NEEDED."
   ]
  },
  {
   "cell_type": "markdown",
   "id": "6a53826b-a3c7-4ec0-bb5d-2a15d7019603",
   "metadata": {},
   "source": [
    "**EXTRA CREDIT REPORT: [insert project choice here]** <br>\n",
    "\n",
    "*DOUBLE-CLICK TO EDIT THIS CELL AND TYPE YOUR REPORT*"
   ]
  },
  {
   "cell_type": "code",
   "execution_count": null,
   "id": "80e9fa19-b383-45cc-9349-41682f0e14ac",
   "metadata": {},
   "outputs": [],
   "source": [
    "# END QUESTION"
   ]
  }
 ],
 "metadata": {
  "kernelspec": {
   "display_name": "Python [conda env:base] *",
   "language": "python",
   "name": "conda-base-py"
  },
  "language_info": {
   "codemirror_mode": {
    "name": "ipython",
    "version": 3
   },
   "file_extension": ".py",
   "mimetype": "text/x-python",
   "name": "python",
   "nbconvert_exporter": "python",
   "pygments_lexer": "ipython3",
   "version": "3.11.0"
  }
 },
 "nbformat": 4,
 "nbformat_minor": 5
}
