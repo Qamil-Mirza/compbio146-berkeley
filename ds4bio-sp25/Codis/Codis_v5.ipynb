{
 "cells": [
  {
   "cell_type": "code",
   "execution_count": 2,
   "metadata": {
    "deletable": false,
    "editable": false,
    "trusted": false
   },
   "outputs": [],
   "source": [
    "# Initialize Otter\n",
    "import otter\n",
    "grader = otter.Notebook(\"Codis_v5.ipynb\")"
   ]
  },
  {
   "cell_type": "markdown",
   "metadata": {},
   "source": [
    "# CODIS: Analyzing STR Profiles and DNA Forensics\n",
    "### Data Science for Biology\n",
    "\n",
    "**Notebook developed by:** *Shishi Luo, Sarp Dora Kurtoglu, Kinsey Long*<br>\n",
    "**Supervised by:** *Steven Brenner*<br>\n",
    "\n",
    "### Learning Outcomes\n",
    "\n",
    "In this notebook, you will learn about and practice:\n",
    "* Intermediate Pandas methods\n",
    "* Seaborn histograms\n",
    "* Probability\n",
    "* Nested for loops\n",
    "* STRs used for forensics in CODIS"
   ]
  },
  {
   "cell_type": "markdown",
   "metadata": {},
   "source": [
    "---\n",
    "### Helpful Data Science Resources\n",
    "Here are some resources you can check out while doing this notebook:\n",
    "\n",
    "- [Introductory documentation for pandas](https://pandas.pydata.org/docs/user_guide/10min.html)\n",
    "- [Conditional Probability with Khan Academy](https://www.khanacademy.org/math/ap-statistics/probability-ap/stats-conditional-probability/v/bayes-theorem-visualized)\n",
    "\n",
    "### Peer Consulting\n",
    "\n",
    "If you find yourself having trouble with any content in this notebook, Data Peer Consultants are an excellent resource. Click [here](https://dlab.berkeley.edu/training/frontdesk-info) to locate live help.\n",
    "\n",
    "Peer Consultants are there to answer all data-related questions, whether it be about the content of this notebook, applications of data science in the world, or other data science courses offered at Berkeley.\n",
    "\n",
    "---"
   ]
  },
  {
   "cell_type": "markdown",
   "metadata": {},
   "source": [
    "For this assignment, we will primarily be using the 'pandas' library. "
   ]
  },
  {
   "cell_type": "raw",
   "metadata": {},
   "source": [
    "!pip install seaborn==0.13.2"
   ]
  },
  {
   "cell_type": "code",
   "execution_count": 3,
   "metadata": {
    "execution": {
     "iopub.execute_input": "2025-02-28T08:01:51.758641Z",
     "iopub.status.busy": "2025-02-28T08:01:51.757923Z",
     "iopub.status.idle": "2025-02-28T08:01:52.562915Z",
     "shell.execute_reply": "2025-02-28T08:01:52.562460Z",
     "shell.execute_reply.started": "2025-02-28T08:01:51.758585Z"
    },
    "trusted": false
   },
   "outputs": [
    {
     "name": "stdout",
     "output_type": "stream",
     "text": [
      "All necessary packages have been imported!\n"
     ]
    }
   ],
   "source": [
    "import numpy as np\n",
    "import pandas as pd\n",
    "import seaborn as sns\n",
    "\n",
    "import warnings\n",
    "warnings.simplefilter(action='ignore', category=FutureWarning)\n",
    "\n",
    "print(\"All necessary packages have been imported!\")"
   ]
  },
  {
   "cell_type": "markdown",
   "metadata": {},
   "source": [
    "## Background\n",
    "FBI uses a system called CODIS (Combined DNA Index System) to help support and solve criminal cases. The DNA Profile of a suspect is compared against large DNA databases to look for a match. These profiles are determined by DNA Short tandem repeat (STR) Analysis with information about allele(s) at the 20 CODIS Core Loci. \n",
    "\n",
    "The FBI FAQ about these is [here.](https://www.fbi.gov/resources/dna-fingerprint-act-of-2005-expungement-policy/codis-and-ndis-fact-sheet)<br>\n",
    "A description of how these are used is [here.](https://www.nature.com/scitable/topicpage/forensics-dna-fingerprinting-and-codis-736)\n",
    "\n",
    "Until December 31, 2016, there were 13 CODIS Core Loci:\n",
    "\n",
    "CSF1PO, FGA, THO1, TPOX, VWA, D3S1358, D5S818, D7S820, D8S1179, D13S317, D16S539, D18S51, D21S11\n",
    "\n",
    "Later on, 7 more were added, to create a set of 20 CODIS Core Loci:\n",
    "\n",
    "CSF1PO, FGA, THO1, TPOX, VWA, D3S1358, D5S818, D7S820, D8S1179, D13S317, D16S539, D18S51, D21S11, D1S1656, D2S441, D2S1338, D10S1248, D12S391, D19S433, D22S1045\n",
    "\n",
    "In this assignment, we will be using a small set of CODIS data.\n"
   ]
  },
  {
   "cell_type": "markdown",
   "metadata": {},
   "source": [
    "## Import the Data\n",
    "\n",
    "Let's read the raw data in comma separated values format, collected by NIST (National Institute of Standards and Technology) which you can find in the `Data` folder under the name `CODIS_profiles.csv`.  "
   ]
  },
  {
   "cell_type": "code",
   "execution_count": 4,
   "metadata": {
    "execution": {
     "iopub.execute_input": "2025-02-28T08:01:58.346148Z",
     "iopub.status.busy": "2025-02-28T08:01:58.345467Z",
     "iopub.status.idle": "2025-02-28T08:01:58.390955Z",
     "shell.execute_reply": "2025-02-28T08:01:58.390680Z",
     "shell.execute_reply.started": "2025-02-28T08:01:58.346093Z"
    },
    "trusted": false
   },
   "outputs": [
    {
     "data": {
      "text/html": [
       "<div>\n",
       "<style scoped>\n",
       "    .dataframe tbody tr th:only-of-type {\n",
       "        vertical-align: middle;\n",
       "    }\n",
       "\n",
       "    .dataframe tbody tr th {\n",
       "        vertical-align: top;\n",
       "    }\n",
       "\n",
       "    .dataframe thead th {\n",
       "        text-align: right;\n",
       "    }\n",
       "</style>\n",
       "<table border=\"1\" class=\"dataframe\">\n",
       "  <thead>\n",
       "    <tr style=\"text-align: right;\">\n",
       "      <th></th>\n",
       "      <th>Group</th>\n",
       "      <th>SampleCode</th>\n",
       "      <th>AMEL</th>\n",
       "      <th>AMEL.1</th>\n",
       "      <th>CSF1PO</th>\n",
       "      <th>CSF1PO.1</th>\n",
       "      <th>D10S1248</th>\n",
       "      <th>D10S1248.1</th>\n",
       "      <th>D12S391</th>\n",
       "      <th>D12S391.1</th>\n",
       "      <th>...</th>\n",
       "      <th>DYS456</th>\n",
       "      <th>DYS458</th>\n",
       "      <th>DYS481</th>\n",
       "      <th>DYS533</th>\n",
       "      <th>DYS549</th>\n",
       "      <th>DYS570</th>\n",
       "      <th>DYS576</th>\n",
       "      <th>DYS635</th>\n",
       "      <th>DYS643</th>\n",
       "      <th>Y-GATA-H4</th>\n",
       "    </tr>\n",
       "  </thead>\n",
       "  <tbody>\n",
       "    <tr>\n",
       "      <th>0</th>\n",
       "      <td>Cauc</td>\n",
       "      <td>BC11352</td>\n",
       "      <td>X</td>\n",
       "      <td>Y</td>\n",
       "      <td>11</td>\n",
       "      <td>13</td>\n",
       "      <td>13</td>\n",
       "      <td>15</td>\n",
       "      <td>17.0</td>\n",
       "      <td>18.0</td>\n",
       "      <td>...</td>\n",
       "      <td>15</td>\n",
       "      <td>18</td>\n",
       "      <td>23</td>\n",
       "      <td>12</td>\n",
       "      <td>13</td>\n",
       "      <td>16</td>\n",
       "      <td>19</td>\n",
       "      <td>20</td>\n",
       "      <td>9</td>\n",
       "      <td>12</td>\n",
       "    </tr>\n",
       "    <tr>\n",
       "      <th>1</th>\n",
       "      <td>Hisp</td>\n",
       "      <td>GA05070</td>\n",
       "      <td>X</td>\n",
       "      <td>Y</td>\n",
       "      <td>10</td>\n",
       "      <td>12</td>\n",
       "      <td>12</td>\n",
       "      <td>14</td>\n",
       "      <td>17.3</td>\n",
       "      <td>23.0</td>\n",
       "      <td>...</td>\n",
       "      <td>17</td>\n",
       "      <td>15</td>\n",
       "      <td>25</td>\n",
       "      <td>11</td>\n",
       "      <td>12</td>\n",
       "      <td>16</td>\n",
       "      <td>17</td>\n",
       "      <td>22</td>\n",
       "      <td>11</td>\n",
       "      <td>12</td>\n",
       "    </tr>\n",
       "    <tr>\n",
       "      <th>2</th>\n",
       "      <td>Hisp</td>\n",
       "      <td>GA05071</td>\n",
       "      <td>X</td>\n",
       "      <td>Y</td>\n",
       "      <td>11</td>\n",
       "      <td>15</td>\n",
       "      <td>14</td>\n",
       "      <td>16</td>\n",
       "      <td>19.0</td>\n",
       "      <td>20.0</td>\n",
       "      <td>...</td>\n",
       "      <td>15</td>\n",
       "      <td>16</td>\n",
       "      <td>22</td>\n",
       "      <td>12</td>\n",
       "      <td>13</td>\n",
       "      <td>18</td>\n",
       "      <td>18</td>\n",
       "      <td>23</td>\n",
       "      <td>10</td>\n",
       "      <td>12</td>\n",
       "    </tr>\n",
       "    <tr>\n",
       "      <th>3</th>\n",
       "      <td>Cauc</td>\n",
       "      <td>GC03394</td>\n",
       "      <td>X</td>\n",
       "      <td>Y</td>\n",
       "      <td>10</td>\n",
       "      <td>12</td>\n",
       "      <td>15</td>\n",
       "      <td>16</td>\n",
       "      <td>19.0</td>\n",
       "      <td>19.0</td>\n",
       "      <td>...</td>\n",
       "      <td>13</td>\n",
       "      <td>16</td>\n",
       "      <td>22</td>\n",
       "      <td>12</td>\n",
       "      <td>13</td>\n",
       "      <td>18</td>\n",
       "      <td>16</td>\n",
       "      <td>21</td>\n",
       "      <td>9</td>\n",
       "      <td>11</td>\n",
       "    </tr>\n",
       "    <tr>\n",
       "      <th>4</th>\n",
       "      <td>Cauc</td>\n",
       "      <td>GT36864</td>\n",
       "      <td>X</td>\n",
       "      <td>Y</td>\n",
       "      <td>10</td>\n",
       "      <td>12</td>\n",
       "      <td>15</td>\n",
       "      <td>17</td>\n",
       "      <td>17.3</td>\n",
       "      <td>20.0</td>\n",
       "      <td>...</td>\n",
       "      <td>14</td>\n",
       "      <td>15</td>\n",
       "      <td>24</td>\n",
       "      <td>11</td>\n",
       "      <td>13</td>\n",
       "      <td>20</td>\n",
       "      <td>16</td>\n",
       "      <td>21</td>\n",
       "      <td>12</td>\n",
       "      <td>11</td>\n",
       "    </tr>\n",
       "  </tbody>\n",
       "</table>\n",
       "<p>5 rows × 77 columns</p>\n",
       "</div>"
      ],
      "text/plain": [
       "  Group SampleCode AMEL AMEL.1  CSF1PO  CSF1PO.1  D10S1248  D10S1248.1  \\\n",
       "0  Cauc    BC11352    X      Y      11        13        13          15   \n",
       "1  Hisp    GA05070    X      Y      10        12        12          14   \n",
       "2  Hisp    GA05071    X      Y      11        15        14          16   \n",
       "3  Cauc    GC03394    X      Y      10        12        15          16   \n",
       "4  Cauc    GT36864    X      Y      10        12        15          17   \n",
       "\n",
       "   D12S391  D12S391.1  ...  DYS456  DYS458  DYS481  DYS533  DYS549  DYS570  \\\n",
       "0     17.0       18.0  ...      15      18      23      12      13      16   \n",
       "1     17.3       23.0  ...      17      15      25      11      12      16   \n",
       "2     19.0       20.0  ...      15      16      22      12      13      18   \n",
       "3     19.0       19.0  ...      13      16      22      12      13      18   \n",
       "4     17.3       20.0  ...      14      15      24      11      13      20   \n",
       "\n",
       "   DYS576  DYS635  DYS643  Y-GATA-H4  \n",
       "0      19      20       9         12  \n",
       "1      17      22      11         12  \n",
       "2      18      23      10         12  \n",
       "3      16      21       9         11  \n",
       "4      16      21      12         11  \n",
       "\n",
       "[5 rows x 77 columns]"
      ]
     },
     "execution_count": 4,
     "metadata": {},
     "output_type": "execute_result"
    }
   ],
   "source": [
    "#Just run this cell\n",
    "raw_profiles = pd.read_csv(\"data/CODIS_profiles.csv\")\n",
    "raw_profiles.head()"
   ]
  },
  {
   "cell_type": "markdown",
   "metadata": {},
   "source": [
    "This is an example DNA database used by the FBI. The first row contains headings, including the names of all 20 CODIS Core Loci. Each row after the first one corresponds to an individual and their unique counts for each of the CODIS Core Locus. The alleles here refer to the number of STR repeats in each CODIS Core Loci. Most loci are named as XXXX and XXXX.1. These represent the same locus on the homologous chromosomes. Considering both represents diploid characteristics. For example, the first individual in the dataset has 11 for CSF1PO and 13 for CSF1PO.1. This means that on one chromosome they have 11 repeats at the CSF1PO locus, while on the other chromosome they have 13 repeats at the CSF1PO locus.  Each allele at a locus is named by the number of short tandem repeats; e.g., 6 repeats would be called \"allele 6.\"  (This might seem obvious, but often alleles are named in different ways.) By convention, the smaller number of STR counts is in the XXXX column, and the larger number of STR counts is in the XXXX.1 column."
   ]
  },
  {
   "cell_type": "markdown",
   "metadata": {},
   "source": [
    "## Restricting to CODIS original core loci\n",
    "For this part of the project, we're just going to use the original 13 CODIS loci: TPOX, D3S1358, FGA, D5S818, CSF1PO, D7S820, D8S1179, TH01, VWA, D13S317, D16S539, D18S51, D21S11.\n",
    "\n",
    "To keep things simple for this part of the lab, we will be considering only one allele from each person, by ignoring the columns with name of the form XXXXXXX.1. We'll also ignore the first two columns which contain ethnic information and the unique identifier."
   ]
  },
  {
   "cell_type": "markdown",
   "metadata": {
    "deletable": false,
    "editable": false
   },
   "source": [
    "<font color = #d14d0f>**QUESTION 1**:</font> Create a new DataFrame `CODIS_profiles` which contains data for only the 13 CODIS core loci of each individual. Use the list `CODIS_13_loci`, which contains all 13 STR loci used for DNA fingerprinting as described below, in your code for creating the table. "
   ]
  },
  {
   "cell_type": "code",
   "execution_count": 5,
   "metadata": {
    "execution": {
     "iopub.execute_input": "2025-02-28T08:03:27.433331Z",
     "iopub.status.busy": "2025-02-28T08:03:27.432223Z",
     "iopub.status.idle": "2025-02-28T08:03:27.559647Z",
     "shell.execute_reply": "2025-02-28T08:03:27.559300Z",
     "shell.execute_reply.started": "2025-02-28T08:03:27.433270Z"
    },
    "tags": [
     "otter_answer_cell"
    ],
    "trusted": false
   },
   "outputs": [
    {
     "data": {
      "text/html": [
       "<div>\n",
       "<style scoped>\n",
       "    .dataframe tbody tr th:only-of-type {\n",
       "        vertical-align: middle;\n",
       "    }\n",
       "\n",
       "    .dataframe tbody tr th {\n",
       "        vertical-align: top;\n",
       "    }\n",
       "\n",
       "    .dataframe thead th {\n",
       "        text-align: right;\n",
       "    }\n",
       "</style>\n",
       "<table border=\"1\" class=\"dataframe\">\n",
       "  <thead>\n",
       "    <tr style=\"text-align: right;\">\n",
       "      <th></th>\n",
       "      <th>TPOX</th>\n",
       "      <th>D3S1358</th>\n",
       "      <th>FGA</th>\n",
       "      <th>D5S818</th>\n",
       "      <th>CSF1PO</th>\n",
       "      <th>D7S820</th>\n",
       "      <th>D8S1179</th>\n",
       "      <th>TH01</th>\n",
       "      <th>vWA</th>\n",
       "      <th>D13S317</th>\n",
       "      <th>D16S539</th>\n",
       "      <th>D18S51</th>\n",
       "      <th>D21S11</th>\n",
       "    </tr>\n",
       "  </thead>\n",
       "  <tbody>\n",
       "    <tr>\n",
       "      <th>0</th>\n",
       "      <td>8</td>\n",
       "      <td>14.0</td>\n",
       "      <td>24.0</td>\n",
       "      <td>10</td>\n",
       "      <td>11</td>\n",
       "      <td>10.0</td>\n",
       "      <td>13</td>\n",
       "      <td>6.0</td>\n",
       "      <td>17</td>\n",
       "      <td>13</td>\n",
       "      <td>8</td>\n",
       "      <td>13.0</td>\n",
       "      <td>28.0</td>\n",
       "    </tr>\n",
       "    <tr>\n",
       "      <th>1</th>\n",
       "      <td>8</td>\n",
       "      <td>16.0</td>\n",
       "      <td>25.0</td>\n",
       "      <td>11</td>\n",
       "      <td>10</td>\n",
       "      <td>10.0</td>\n",
       "      <td>10</td>\n",
       "      <td>7.0</td>\n",
       "      <td>14</td>\n",
       "      <td>10</td>\n",
       "      <td>10</td>\n",
       "      <td>16.0</td>\n",
       "      <td>30.0</td>\n",
       "    </tr>\n",
       "    <tr>\n",
       "      <th>2</th>\n",
       "      <td>8</td>\n",
       "      <td>14.0</td>\n",
       "      <td>23.0</td>\n",
       "      <td>11</td>\n",
       "      <td>11</td>\n",
       "      <td>7.0</td>\n",
       "      <td>13</td>\n",
       "      <td>7.0</td>\n",
       "      <td>16</td>\n",
       "      <td>11</td>\n",
       "      <td>12</td>\n",
       "      <td>17.0</td>\n",
       "      <td>30.2</td>\n",
       "    </tr>\n",
       "    <tr>\n",
       "      <th>3</th>\n",
       "      <td>8</td>\n",
       "      <td>15.0</td>\n",
       "      <td>21.0</td>\n",
       "      <td>11</td>\n",
       "      <td>10</td>\n",
       "      <td>11.0</td>\n",
       "      <td>12</td>\n",
       "      <td>6.0</td>\n",
       "      <td>17</td>\n",
       "      <td>11</td>\n",
       "      <td>12</td>\n",
       "      <td>15.0</td>\n",
       "      <td>30.0</td>\n",
       "    </tr>\n",
       "    <tr>\n",
       "      <th>4</th>\n",
       "      <td>9</td>\n",
       "      <td>15.0</td>\n",
       "      <td>19.0</td>\n",
       "      <td>9</td>\n",
       "      <td>10</td>\n",
       "      <td>8.0</td>\n",
       "      <td>13</td>\n",
       "      <td>7.0</td>\n",
       "      <td>16</td>\n",
       "      <td>11</td>\n",
       "      <td>11</td>\n",
       "      <td>14.0</td>\n",
       "      <td>31.2</td>\n",
       "    </tr>\n",
       "  </tbody>\n",
       "</table>\n",
       "</div>"
      ],
      "text/plain": [
       "   TPOX  D3S1358   FGA  D5S818  CSF1PO  D7S820  D8S1179  TH01  vWA  D13S317  \\\n",
       "0     8     14.0  24.0      10      11    10.0       13   6.0   17       13   \n",
       "1     8     16.0  25.0      11      10    10.0       10   7.0   14       10   \n",
       "2     8     14.0  23.0      11      11     7.0       13   7.0   16       11   \n",
       "3     8     15.0  21.0      11      10    11.0       12   6.0   17       11   \n",
       "4     9     15.0  19.0       9      10     8.0       13   7.0   16       11   \n",
       "\n",
       "   D16S539  D18S51  D21S11  \n",
       "0        8    13.0    28.0  \n",
       "1       10    16.0    30.0  \n",
       "2       12    17.0    30.2  \n",
       "3       12    15.0    30.0  \n",
       "4       11    14.0    31.2  "
      ]
     },
     "execution_count": 5,
     "metadata": {},
     "output_type": "execute_result"
    }
   ],
   "source": [
    "CODIS_13_loci = ['TPOX', 'D3S1358', 'FGA', 'D5S818', \n",
    "            'CSF1PO', 'D7S820', 'D8S1179', 'TH01', 'vWA',\n",
    "            'D13S317', 'D16S539', 'D18S51', 'D21S11']\n",
    "\n",
    "CODIS_profiles = raw_profiles[CODIS_13_loci]\n",
    "\n",
    "CODIS_profiles.head() #DO NOT CHANGE THIS LINE"
   ]
  },
  {
   "cell_type": "code",
   "execution_count": 6,
   "metadata": {
    "deletable": false,
    "editable": false,
    "trusted": false
   },
   "outputs": [
    {
     "data": {
      "text/html": [
       "<p><strong><pre style='display: inline;'>q1</pre></strong> passed! 🎉</p>"
      ],
      "text/plain": [
       "q1 results: All test cases passed!"
      ]
     },
     "execution_count": 6,
     "metadata": {},
     "output_type": "execute_result"
    }
   ],
   "source": [
    "grader.check(\"q1\")"
   ]
  },
  {
   "cell_type": "markdown",
   "metadata": {},
   "source": [
    "## Exploration and Visualization\n",
    "The following code plots the distribution of the STR counts for the locus 'TPOX' using the `seaborn` package, abbreviated as `sns`. You can read the documentation for the `sns.histplot(data)` method [here](https://seaborn.pydata.org/generated/seaborn.histplot.html).\n",
    "\n",
    "In Data 8, we plotted a histogram using `Table.hist(column_label)`. The primary difference for the seaborn histplot is the way the dataframe is input as a parameter, instead of the visualization function being called on the Table object.\n",
    "\n",
    "An important note is that STR count is a discrete variable, not continuous. Therefore, it is important that we include the `discrete = True` parameter, which centers our x-axis values under the bar."
   ]
  },
  {
   "cell_type": "code",
   "execution_count": 7,
   "metadata": {
    "execution": {
     "iopub.execute_input": "2025-02-28T08:04:22.502730Z",
     "iopub.status.busy": "2025-02-28T08:04:22.501884Z",
     "iopub.status.idle": "2025-02-28T08:04:22.762437Z",
     "shell.execute_reply": "2025-02-28T08:04:22.742692Z",
     "shell.execute_reply.started": "2025-02-28T08:04:22.502660Z"
    },
    "trusted": false
   },
   "outputs": [
    {
     "data": {
      "text/plain": [
       "Text(0, 0.5, 'Number of Individuals')"
      ]
     },
     "execution_count": 7,
     "metadata": {},
     "output_type": "execute_result"
    },
    {
     "data": {
      "image/png": "[encoded data removed]",
      "text/plain": [
       "<Figure size 640x480 with 1 Axes>"
      ]
     },
     "metadata": {},
     "output_type": "display_data"
    }
   ],
   "source": [
    "#Just run this cell\n",
    "ax = sns.histplot(CODIS_profiles, x = \"TPOX\", discrete=True)\n",
    "ax.set_title(\"Distribution of TPOX STR counts\")\n",
    "ax.set_xlabel(\"TPOX STR counts\")\n",
    "ax.set_ylabel(\"Number of Individuals\")"
   ]
  },
  {
   "cell_type": "markdown",
   "metadata": {
    "deletable": false,
    "editable": false
   },
   "source": [
    "You'll see that the values (the alleles in this case) range from 6 to 11 with a peak at 8. This means that within the population in our DNA dataset, having 8 counts at the TPOX CODIS Core locus is the most common case.\n",
    "\n",
    "<!-- BEGIN QUESTION -->\n",
    "<font color = #d14d0f>**QUESTION 2**:</font> Fill in the code below to create separate bar charts for each CODIS locus, including TPOX, to get a sense of the allelic variation and how concentrated the distributions might be. Make sure each bar chart has an appropriate title and axis labels.\n",
    ">Hint: You can use [f-strings](https://www.geeksforgeeks.org/formatted-string-literals-f-strings-python/) to substitute variables within strings.\n",
    ">Hint: You can use [sns.FacetGrid](https://seaborn.pydata.org/generated/seaborn.FacetGrid.html) to create subplots.\n"
   ]
  },
  {
   "cell_type": "code",
   "execution_count": 8,
   "metadata": {
    "execution": {
     "iopub.execute_input": "2025-02-28T08:04:27.665781Z",
     "iopub.status.busy": "2025-02-28T08:04:27.665251Z",
     "iopub.status.idle": "2025-02-28T08:04:28.637478Z",
     "shell.execute_reply": "2025-02-28T08:04:28.637256Z",
     "shell.execute_reply.started": "2025-02-28T08:04:27.665722Z"
    },
    "tags": [
     "otter_answer_cell"
    ],
    "trusted": false
   },
   "outputs": [
    {
     "data": {
      "text/plain": [
       "<seaborn.axisgrid.FacetGrid at 0x7fa233391190>"
      ]
     },
     "execution_count": 8,
     "metadata": {},
     "output_type": "execute_result"
    },
    {
     "data": {
      "image/png": "[encoded data removed]",
      "text/plain": [
       "<Figure size 1200x1200 with 13 Axes>"
      ]
     },
     "metadata": {},
     "output_type": "display_data"
    }
   ],
   "source": [
    "\n",
    "# Reshape data into long format\n",
    "df_long = CODIS_profiles.melt(var_name=\"Locus\", value_name=\"STR Count\")\n",
    "\n",
    "# Create FacetGrid for subplots\n",
    "g = sns.FacetGrid(df_long, col=\"Locus\", col_wrap=4, sharex=False, sharey=False)\n",
    "\n",
    "# Map histograms to each facet\n",
    "g.map_dataframe(sns.histplot, x=\"STR Count\", discrete=True)\n",
    "\n",
    "# Adjust titles\n",
    "g.set_titles(col_template=\"{col_name} STR Counts\")\n",
    "\n",
    "# Adjust labels\n",
    "g.set_axis_labels(\"STR Counts\", \"Number of Individuals\")\n",
    "\n"
   ]
  },
  {
   "cell_type": "markdown",
   "metadata": {
    "deletable": false,
    "editable": false
   },
   "source": [
    "<!-- END QUESTION -->"
   ]
  },
  {
   "cell_type": "markdown",
   "metadata": {},
   "source": [
    "## Upper Bound on the Match Probability\n",
    "The distribution of alleles for each STR locus in the law enforcement sample is not representative of the entire United States population. When we think about how this data was gathered, only individuals who had crossed paths with the law could have provided sample DNA to build the database. It is fair to assume that there most likely are certain groups that were compelled to provide samples at greater or lesser frequencies contributing to the DNA database. \n",
    "\n",
    "However, in an hypothetical situation, if we were to assume that the distribution of alleles for each STR locus in this sample is representative of the population, we can use it to estimate the probability that a suspect's DNA matches the DNA at the crime scene just by chance, when considering only the shorter TPOX STR allele.\n",
    "\n",
    "Under that hypothetical situation, if we drew individuals at random from the population, it would be reasonable to expect that their alleles for the 'TPOX' STR locus would be distributed approximately as shown below.\n",
    "\n",
    "The code below is the Pandas equivalent to the Data 8 `Table.group()` method.\n",
    "\n"
   ]
  },
  {
   "cell_type": "code",
   "execution_count": 9,
   "metadata": {
    "execution": {
     "iopub.execute_input": "2025-02-28T08:04:46.960362Z",
     "iopub.status.busy": "2025-02-28T08:04:46.959885Z",
     "iopub.status.idle": "2025-02-28T08:04:46.974466Z",
     "shell.execute_reply": "2025-02-28T08:04:46.973887Z",
     "shell.execute_reply.started": "2025-02-28T08:04:46.960331Z"
    },
    "trusted": false
   },
   "outputs": [
    {
     "data": {
      "text/html": [
       "<div>\n",
       "<style scoped>\n",
       "    .dataframe tbody tr th:only-of-type {\n",
       "        vertical-align: middle;\n",
       "    }\n",
       "\n",
       "    .dataframe tbody tr th {\n",
       "        vertical-align: top;\n",
       "    }\n",
       "\n",
       "    .dataframe thead th {\n",
       "        text-align: right;\n",
       "    }\n",
       "</style>\n",
       "<table border=\"1\" class=\"dataframe\">\n",
       "  <thead>\n",
       "    <tr style=\"text-align: right;\">\n",
       "      <th></th>\n",
       "      <th>count</th>\n",
       "    </tr>\n",
       "    <tr>\n",
       "      <th>TPOX</th>\n",
       "      <th></th>\n",
       "    </tr>\n",
       "  </thead>\n",
       "  <tbody>\n",
       "    <tr>\n",
       "      <th>5</th>\n",
       "      <td>1</td>\n",
       "    </tr>\n",
       "    <tr>\n",
       "      <th>6</th>\n",
       "      <td>63</td>\n",
       "    </tr>\n",
       "    <tr>\n",
       "      <th>7</th>\n",
       "      <td>15</td>\n",
       "    </tr>\n",
       "    <tr>\n",
       "      <th>8</th>\n",
       "      <td>702</td>\n",
       "    </tr>\n",
       "    <tr>\n",
       "      <th>9</th>\n",
       "      <td>118</td>\n",
       "    </tr>\n",
       "    <tr>\n",
       "      <th>10</th>\n",
       "      <td>39</td>\n",
       "    </tr>\n",
       "    <tr>\n",
       "      <th>11</th>\n",
       "      <td>94</td>\n",
       "    </tr>\n",
       "    <tr>\n",
       "      <th>12</th>\n",
       "      <td>4</td>\n",
       "    </tr>\n",
       "  </tbody>\n",
       "</table>\n",
       "</div>"
      ],
      "text/plain": [
       "      count\n",
       "TPOX       \n",
       "5         1\n",
       "6        63\n",
       "7        15\n",
       "8       702\n",
       "9       118\n",
       "10       39\n",
       "11       94\n",
       "12        4"
      ]
     },
     "execution_count": 9,
     "metadata": {},
     "output_type": "execute_result"
    }
   ],
   "source": [
    "#Just run this cell\n",
    "tpox_counts = CODIS_profiles.groupby('TPOX').agg(\"count\").iloc[:, [0]].rename({\"D3S1358\": \"count\"}, axis=1)\n",
    "tpox_counts"
   ]
  },
  {
   "cell_type": "markdown",
   "metadata": {},
   "source": [
    "The probability that a random individual has a specific allele \"x\" for a STR locus would be: <br>\n",
    "(number of people with allele \"x\" in sample) / (number of people in sample) \n",
    "\n",
    "For example, the most common TPOX allele, allele 8, would be calculated like so:"
   ]
  },
  {
   "cell_type": "code",
   "execution_count": 10,
   "metadata": {
    "execution": {
     "iopub.execute_input": "2025-02-28T08:04:49.251143Z",
     "iopub.status.busy": "2025-02-28T08:04:49.249424Z",
     "iopub.status.idle": "2025-02-28T08:04:49.260902Z",
     "shell.execute_reply": "2025-02-28T08:04:49.260250Z",
     "shell.execute_reply.started": "2025-02-28T08:04:49.251102Z"
    },
    "trusted": false
   },
   "outputs": [
    {
     "data": {
      "text/plain": [
       "0.678"
      ]
     },
     "execution_count": 10,
     "metadata": {},
     "output_type": "execute_result"
    }
   ],
   "source": [
    "#Just run this cell\n",
    "np.round(tpox_counts.iloc[:, 0].sort_values(ascending=False).iloc[0] / sum(tpox_counts.iloc[:, 0]), 3)"
   ]
  },
  {
   "cell_type": "markdown",
   "metadata": {
    "deletable": false,
    "editable": false
   },
   "source": [
    "<font color = #d14d0f>**QUESTION 3a**:</font> Suppose that the DNA fingerprint at a crime scene has the most common allele in each of the 13 STR locus in the CODIS set. Assign the probability that a randomly drawn individual would match to the variable `probability_most_common`.\n",
    "\n",
    ">Note: For this question, and throughout, assume that the probability of having a certain allele at any STR loci is independent of one another. You do not have to follow the skeleton code provided."
   ]
  },
  {
   "cell_type": "code",
   "execution_count": 11,
   "metadata": {
    "execution": {
     "iopub.execute_input": "2025-02-28T08:04:52.922599Z",
     "iopub.status.busy": "2025-02-28T08:04:52.921841Z",
     "iopub.status.idle": "2025-02-28T08:04:52.949514Z",
     "shell.execute_reply": "2025-02-28T08:04:52.949035Z",
     "shell.execute_reply.started": "2025-02-28T08:04:52.922540Z"
    },
    "tags": [
     "otter_answer_cell"
    ],
    "trusted": false
   },
   "outputs": [
    {
     "name": "stdout",
     "output_type": "stream",
     "text": [
      "The probability of a random individual having the most common allele for all 13 STR loci is 8.34e-07.\n"
     ]
    }
   ],
   "source": [
    "# Question 3a\n",
    "probability_most_common = 1 \n",
    "for locus in CODIS_13_loci:\n",
    "    # First get a frequency table for each locus\n",
    "    frequency_df = CODIS_profiles.groupby(locus).agg(\"count\").iloc[:, [0]].rename({CODIS_13_loci[0]: \"count\"}, axis=1)\n",
    "    # then using the method described in the prev scell, calculate the probability of the most common allele for each locus\n",
    "    prob_of_locus = np.round(frequency_df.iloc[:, 0].sort_values(ascending=False).iloc[0] / sum(frequency_df.iloc[:, 0]), 3)\n",
    "    probability_most_common *= prob_of_locus\n",
    "\n",
    "#Do not change this code\n",
    "print(f\"The probability of a random individual having the most common allele for all 13 STR loci is {probability_most_common:.2e}.\")"
   ]
  },
  {
   "cell_type": "code",
   "execution_count": 12,
   "metadata": {
    "deletable": false,
    "editable": false,
    "trusted": false
   },
   "outputs": [
    {
     "data": {
      "text/html": [
       "<p><strong><pre style='display: inline;'>q3a</pre></strong> passed! 💯</p>"
      ],
      "text/plain": [
       "q3a results: All test cases passed!"
      ]
     },
     "execution_count": 12,
     "metadata": {},
     "output_type": "execute_result"
    }
   ],
   "source": [
    "grader.check(\"q3a\")"
   ]
  },
  {
   "cell_type": "markdown",
   "metadata": {
    "deletable": false,
    "editable": false
   },
   "source": [
    "<font color = #d14d0f>**QUESTION 3b**:</font> Suppose that the DNA fingerprint at a crime scene has the **least** common allele in the 13 STR locus in the CODIS set. Modify your previous code to assign the variable `probability_least_common` to the probability that a randomly drawn individual would match it."
   ]
  },
  {
   "cell_type": "code",
   "execution_count": 13,
   "metadata": {
    "execution": {
     "iopub.execute_input": "2025-02-28T08:05:01.024527Z",
     "iopub.status.busy": "2025-02-28T08:05:01.023777Z",
     "iopub.status.idle": "2025-02-28T08:05:01.052066Z",
     "shell.execute_reply": "2025-02-28T08:05:01.051655Z",
     "shell.execute_reply.started": "2025-02-28T08:05:01.024469Z"
    },
    "tags": [
     "otter_answer_cell"
    ],
    "trusted": false
   },
   "outputs": [
    {
     "name": "stdout",
     "output_type": "stream",
     "text": [
      "The probability of a random individual having the most common allele for all 13 STR loci is 9.547e-37.\n"
     ]
    }
   ],
   "source": [
    "# Question 3b\n",
    "probability_least_common = 1\n",
    "for locus in CODIS_13_loci:\n",
    "    frequency_df = CODIS_profiles.groupby(locus).agg(\"count\").iloc[:, [0]]\n",
    "    prob_of_locus = frequency_df.iloc[:, 0].sort_values(ascending=True).iloc[0]/sum(frequency_df.iloc[:, 0])\n",
    "    probability_least_common *= prob_of_locus\n",
    "\n",
    "#Do not change this code\n",
    "print(f\"The probability of a random individual having the most common allele for all 13 STR loci is {probability_least_common:.3e}.\")"
   ]
  },
  {
   "cell_type": "code",
   "execution_count": 14,
   "metadata": {
    "deletable": false,
    "editable": false,
    "trusted": false
   },
   "outputs": [
    {
     "data": {
      "text/html": [
       "<p><strong><pre style='display: inline;'>q3b</pre></strong> passed! 🙌</p>"
      ],
      "text/plain": [
       "q3b results: All test cases passed!"
      ]
     },
     "execution_count": 14,
     "metadata": {},
     "output_type": "execute_result"
    }
   ],
   "source": [
    "grader.check(\"q3b\")"
   ]
  },
  {
   "cell_type": "markdown",
   "metadata": {
    "deletable": false,
    "editable": false
   },
   "source": [
    "<!-- BEGIN QUESTION -->\n",
    "<font color = #d14d0f>**QUESTION 3c**:</font> List at least two ways in which the probabilities you calculated above are not fully reflective of reality."
   ]
  },
  {
   "cell_type": "markdown",
   "metadata": {
    "deletable": false,
    "editable": false
   },
   "source": [
    "**ANSWER:** \n",
    "\n",
    "1. We are assuming independence between loci. The assumption that the STR locus is indpendent is an approximation as in reality, there could be weak genetic correlation among loci due to population substructure. For example, if a subpopulation has a distinct ancestry, certain alleles may be more prevalent in that group of people relative to the general population.\n",
    "\n",
    "2. As we talked about in class, we also have to consider the sampling bias in CODIS Data. Since the CODIS allele frequencies are derived from specific populations samples, it might not reflect the genetic diversity of an entire population. This would lead to underrepresentation or even overrepresentation of specific ethnic groups"
   ]
  },
  {
   "cell_type": "markdown",
   "metadata": {
    "deletable": false,
    "editable": false
   },
   "source": [
    "<!-- END QUESTION -->"
   ]
  },
  {
   "cell_type": "markdown",
   "metadata": {},
   "source": [
    "## Counting the Number of Possible Fingerprints\n"
   ]
  },
  {
   "cell_type": "markdown",
   "metadata": {
    "deletable": false,
    "editable": false
   },
   "source": [
    "<font color = #d14d0f>**QUESTION 4a**:</font> Suppose this dataset with only one allele per person includes all possible alleles for each STR locus. How many unique DNA fingerprints are possible with the 13 selected STR loci with only one allele per person?"
   ]
  },
  {
   "cell_type": "code",
   "execution_count": 15,
   "metadata": {},
   "outputs": [
    {
     "data": {
      "text/plain": [
       "TPOX       1036\n",
       "D3S1358    1036\n",
       "FGA        1036\n",
       "D5S818     1036\n",
       "CSF1PO     1036\n",
       "D7S820     1036\n",
       "D8S1179    1036\n",
       "TH01       1036\n",
       "vWA        1036\n",
       "D13S317    1036\n",
       "D16S539    1036\n",
       "D18S51     1036\n",
       "D21S11     1036\n",
       "dtype: int64"
      ]
     },
     "execution_count": 15,
     "metadata": {},
     "output_type": "execute_result"
    }
   ],
   "source": [
    "CODIS_profiles.count()"
   ]
  },
  {
   "cell_type": "code",
   "execution_count": 16,
   "metadata": {
    "execution": {
     "iopub.execute_input": "2025-02-28T08:05:13.062567Z",
     "iopub.status.busy": "2025-02-28T08:05:13.062022Z",
     "iopub.status.idle": "2025-02-28T08:05:13.151166Z",
     "shell.execute_reply": "2025-02-28T08:05:13.150813Z",
     "shell.execute_reply.started": "2025-02-28T08:05:13.062529Z"
    },
    "tags": [
     "otter_answer_cell"
    ],
    "trusted": false
   },
   "outputs": [
    {
     "name": "stdout",
     "output_type": "stream",
     "text": [
      "The number of unique DNA fingerprints using the 13 STR loci is 4,029,465,968,640.\n"
     ]
    }
   ],
   "source": [
    "# Question 4a\n",
    "unique_STR_combinations = 1\n",
    "for locus in CODIS_13_loci:\n",
    "    frequency_df = CODIS_profiles.groupby(locus).agg(\"count\").iloc[:, [0]]\n",
    "    number_of_alleles = len(frequency_df)\n",
    "    unique_STR_combinations *= number_of_alleles\n",
    "\n",
    "#Do not change this code\n",
    "print(f\"The number of unique DNA fingerprints using the 13 STR loci is {f'{unique_STR_combinations:,}'}.\")\n"
   ]
  },
  {
   "cell_type": "code",
   "execution_count": 17,
   "metadata": {},
   "outputs": [
    {
     "data": {
      "text/plain": [
       "TPOX\n",
       "5       1\n",
       "6      63\n",
       "7      15\n",
       "8     702\n",
       "9     118\n",
       "10     39\n",
       "11     94\n",
       "12      4\n",
       "Name: D3S1358, dtype: int64"
      ]
     },
     "execution_count": 17,
     "metadata": {},
     "output_type": "execute_result"
    }
   ],
   "source": [
    "CODIS_profiles.groupby(CODIS_13_loci[0]).agg(\"count\").iloc[:, 0]"
   ]
  },
  {
   "cell_type": "code",
   "execution_count": 18,
   "metadata": {
    "deletable": false,
    "editable": false,
    "trusted": false
   },
   "outputs": [
    {
     "data": {
      "text/html": [
       "<p><strong><pre style='display: inline;'>q4a</pre></strong> passed! ✨</p>"
      ],
      "text/plain": [
       "q4a results: All test cases passed!"
      ]
     },
     "execution_count": 18,
     "metadata": {},
     "output_type": "execute_result"
    }
   ],
   "source": [
    "grader.check(\"q4a\")"
   ]
  },
  {
   "cell_type": "markdown",
   "metadata": {
    "deletable": false,
    "editable": false
   },
   "source": [
    "<font color = #d14d0f>**QUESTION 4b**:</font> If each of these fingerprints were equally likely, what is the probability of having a specific fingerprint, such as one found at a crime scene? Assign your answer to `uniform_prob`. Note that in reality, different fingerprints are not equally likely and often have different probabilities as shown in Question 3."
   ]
  },
  {
   "cell_type": "code",
   "execution_count": 19,
   "metadata": {
    "execution": {
     "iopub.execute_input": "2025-02-28T08:05:20.652668Z",
     "iopub.status.busy": "2025-02-28T08:05:20.651913Z",
     "iopub.status.idle": "2025-02-28T08:05:20.659520Z",
     "shell.execute_reply": "2025-02-28T08:05:20.658542Z",
     "shell.execute_reply.started": "2025-02-28T08:05:20.652608Z"
    },
    "tags": [
     "otter_answer_cell"
    ],
    "trusted": false
   },
   "outputs": [
    {
     "name": "stdout",
     "output_type": "stream",
     "text": [
      "The probability of someone having any given fingerprint is 2.482e-13.\n"
     ]
    }
   ],
   "source": [
    "# Question 4b\n",
    "uniform_prob = 1 / unique_STR_combinations\n",
    "\n",
    "print(f\"The probability of someone having any given fingerprint is {uniform_prob:.3e}.\")"
   ]
  },
  {
   "cell_type": "code",
   "execution_count": 20,
   "metadata": {
    "deletable": false,
    "editable": false,
    "trusted": false
   },
   "outputs": [
    {
     "data": {
      "text/html": [
       "<p><strong><pre style='display: inline;'>q4b</pre></strong> passed! 🍀</p>"
      ],
      "text/plain": [
       "q4b results: All test cases passed!"
      ]
     },
     "execution_count": 20,
     "metadata": {},
     "output_type": "execute_result"
    }
   ],
   "source": [
    "grader.check(\"q4b\")"
   ]
  },
  {
   "cell_type": "markdown",
   "metadata": {
    "deletable": false,
    "editable": false
   },
   "source": [
    "<font color = #d14d0f>**QUESTION 4c**:</font> If we assume all finger prints are likely what is the probability that two random individuals both have a specific given fingerprint (such as one at a crime scene) i.e., that all 3 are the same? Assign your answer to `p_two_fingerprints`."
   ]
  },
  {
   "cell_type": "code",
   "execution_count": 21,
   "metadata": {
    "execution": {
     "iopub.execute_input": "2025-02-28T08:05:26.057220Z",
     "iopub.status.busy": "2025-02-28T08:05:26.056728Z",
     "iopub.status.idle": "2025-02-28T08:05:26.063681Z",
     "shell.execute_reply": "2025-02-28T08:05:26.062778Z",
     "shell.execute_reply.started": "2025-02-28T08:05:26.057185Z"
    },
    "tags": [
     "otter_answer_cell"
    ],
    "trusted": false
   },
   "outputs": [
    {
     "name": "stdout",
     "output_type": "stream",
     "text": [
      "The probability of two random individuals having a specific fingerprint is 6.159e-26\n"
     ]
    }
   ],
   "source": [
    "p_two_fingerprints = uniform_prob * uniform_prob\n",
    "\n",
    "print(f\"The probability of two random individuals having a specific fingerprint is {p_two_fingerprints:.3e}\")"
   ]
  },
  {
   "cell_type": "code",
   "execution_count": 22,
   "metadata": {
    "deletable": false,
    "editable": false,
    "trusted": false
   },
   "outputs": [
    {
     "data": {
      "text/html": [
       "<p><strong><pre style='display: inline;'>q4c</pre></strong> passed! 🌈</p>"
      ],
      "text/plain": [
       "q4c results: All test cases passed!"
      ]
     },
     "execution_count": 22,
     "metadata": {},
     "output_type": "execute_result"
    }
   ],
   "source": [
    "grader.check(\"q4c\")"
   ]
  },
  {
   "cell_type": "markdown",
   "metadata": {},
   "source": [
    "## Comparing fingerprints\n",
    "For these next two questions, we will keep assuming that each of the fingerprints are equally likely within the population. \n",
    "\n",
    "The function below calculates the Euclidean distance between two fingerprints. Euclidean distance is a measure of the straight-line distance between two points in Euclidean space. Euclidean distance is often used as a measure of similarity or dissimilarity between data points. If two points are more dissimilar, they should have a larger distance. There are some limitations of using Euclidean distance - for example, it weights each parameter equally in the distance calculation."
   ]
  },
  {
   "cell_type": "code",
   "execution_count": 23,
   "metadata": {
    "execution": {
     "iopub.execute_input": "2025-02-28T08:05:31.077243Z",
     "iopub.status.busy": "2025-02-28T08:05:31.076557Z",
     "iopub.status.idle": "2025-02-28T08:05:31.083284Z",
     "shell.execute_reply": "2025-02-28T08:05:31.082121Z",
     "shell.execute_reply.started": "2025-02-28T08:05:31.077190Z"
    },
    "trusted": false
   },
   "outputs": [],
   "source": [
    "#Just run this cell.\n",
    "def euclideanDist(fingerprint1, fingerprint2):\n",
    "    '''given two DNA fingerprints (vectors of the same length) outputs the Euclidean distance'''\n",
    "    return np.sum(np.sqrt((fingerprint1 - fingerprint2)**2))"
   ]
  },
  {
   "cell_type": "markdown",
   "metadata": {
    "deletable": false,
    "editable": false
   },
   "source": [
    "<font color = #d14d0f>**QUESTION 5a**:</font> Fill in the code below to calculate all pairwise distances between each individual in the dataset.\n",
    "- Remember that each row, not column, in our DataFrame represents a unique individual.\n",
    "- Make sure you do not double-count a pairwise distance. Remember that both `euclideanDist(a, b)` and `euclideanDist(b, a)` will calculate the same distance between person `a` and person `b`. Also, you do not want to include redundant distances, like euclideanDist(a, a).\n",
    "\n",
    "> Note: It may take around a minute for the cell to run.\n"
   ]
  },
  {
   "cell_type": "code",
   "execution_count": 24,
   "metadata": {},
   "outputs": [
    {
     "data": {
      "text/plain": [
       "1036"
      ]
     },
     "execution_count": 24,
     "metadata": {},
     "output_type": "execute_result"
    }
   ],
   "source": [
    "len(CODIS_profiles)"
   ]
  },
  {
   "cell_type": "code",
   "execution_count": 25,
   "metadata": {},
   "outputs": [
    {
     "data": {
      "text/plain": [
       "1036"
      ]
     },
     "execution_count": 25,
     "metadata": {},
     "output_type": "execute_result"
    }
   ],
   "source": [
    "CODIS_profiles.shape[0]"
   ]
  },
  {
   "cell_type": "code",
   "execution_count": 48,
   "metadata": {
    "execution": {
     "iopub.execute_input": "2025-02-28T08:05:32.326125Z",
     "iopub.status.busy": "2025-02-28T08:05:32.325395Z",
     "iopub.status.idle": "2025-02-28T08:06:26.986939Z",
     "shell.execute_reply": "2025-02-28T08:06:26.986379Z",
     "shell.execute_reply.started": "2025-02-28T08:05:32.326067Z"
    },
    "trusted": false
   },
   "outputs": [],
   "source": [
    "# Question 5a\n",
    "# calculate \n",
    "distances = []\n",
    "for i in range(CODIS_profiles.shape[0]):\n",
    "    for j in range(i+1, CODIS_profiles.shape[0]):\n",
    "        distance = euclideanDist(CODIS_profiles.iloc[i], CODIS_profiles.iloc[j])\n",
    "        distances.append(distance)\n",
    "        #print(f\"Distance between individual {i} and individual {j} is {distance:.2f}\")"
   ]
  },
  {
   "cell_type": "code",
   "execution_count": 49,
   "metadata": {
    "deletable": false,
    "editable": false,
    "trusted": false
   },
   "outputs": [
    {
     "data": {
      "text/html": [
       "<p><strong><pre style='display: inline;'>q5a</pre></strong> passed! 🎉</p>"
      ],
      "text/plain": [
       "q5a results: All test cases passed!"
      ]
     },
     "execution_count": 49,
     "metadata": {},
     "output_type": "execute_result"
    }
   ],
   "source": [
    "grader.check(\"q5a\")"
   ]
  },
  {
   "cell_type": "markdown",
   "metadata": {
    "deletable": false,
    "editable": false
   },
   "source": [
    "<!-- BEGIN QUESTION -->\n",
    "<font color = #d14d0f>**QUESTION 5b**:</font> Display a bar chart showing the distribution of the pairwise distances. Set the number of bins to 20, and include an appropriate title and axes labels."
   ]
  },
  {
   "cell_type": "code",
   "execution_count": 28,
   "metadata": {
    "execution": {
     "iopub.execute_input": "2025-02-28T08:08:58.147379Z",
     "iopub.status.busy": "2025-02-28T08:08:58.146939Z",
     "iopub.status.idle": "2025-02-28T08:08:58.502163Z",
     "shell.execute_reply": "2025-02-28T08:08:58.501920Z",
     "shell.execute_reply.started": "2025-02-28T08:08:58.147348Z"
    },
    "tags": [
     "otter_answer_cell"
    ],
    "trusted": false
   },
   "outputs": [
    {
     "data": {
      "text/plain": [
       "Text(0, 0.5, 'Number of Pairs of Individuals')"
      ]
     },
     "execution_count": 28,
     "metadata": {},
     "output_type": "execute_result"
    },
    {
     "data": {
      "image/png": "[encoded data removed]",
      "text/plain": [
       "<Figure size 640x480 with 1 Axes>"
      ]
     },
     "metadata": {},
     "output_type": "display_data"
    }
   ],
   "source": [
    "#Problem 5b\n",
    "ax = sns.histplot(distances, bins=20)\n",
    "ax.set_title(\"Distribution of Euclidean Distances between DNA Fingerprints\")\n",
    "ax.set_xlabel(\"Euclidean Distance\")\n",
    "ax.set_ylabel(\"Number of Pairs of Individuals\")"
   ]
  },
  {
   "cell_type": "markdown",
   "metadata": {
    "deletable": false,
    "editable": false
   },
   "source": [
    "<!-- END QUESTION -->"
   ]
  },
  {
   "cell_type": "markdown",
   "metadata": {
    "deletable": false,
    "editable": false
   },
   "source": [
    "<font color = #d14d0f>**QUESTION 6a**:</font> Adapt your code from Question 5a so that it determines the row indices of the individuals with the shortest Euclidean distance. The row indices of the individuals should be saved in `identity_1` and `identity_2`, and the distance between them should be saved in `shortest_dist`.  \n",
    "\n",
    "> **Note:** It may take around a minute for the cell to run.  \n",
    "\n",
    "> In our testing of the lab in 2025, we find that this cell, even when properly coded, may sometimes crash the Kernel. If this happens, please restart and re-run your cells.\n"
   ]
  },
  {
   "cell_type": "code",
   "execution_count": 29,
   "metadata": {
    "execution": {
     "iopub.execute_input": "2025-02-28T08:09:02.823812Z",
     "iopub.status.busy": "2025-02-28T08:09:02.823136Z",
     "iopub.status.idle": "2025-02-28T08:09:58.376248Z",
     "shell.execute_reply": "2025-02-28T08:09:58.375625Z",
     "shell.execute_reply.started": "2025-02-28T08:09:02.823759Z"
    },
    "tags": [
     "otter_answer_cell"
    ],
    "trusted": false
   },
   "outputs": [
    {
     "name": "stdout",
     "output_type": "stream",
     "text": [
      "Individuals 3 and 730 have the shortest Euclidean distance of 3.0 units.\n"
     ]
    }
   ],
   "source": [
    "#Question 6a\n",
    "shortest_dist = np.inf #Initializes the shortest_distance as infinity\n",
    "identity_1 = 0 #Initializes the identity of the first individual\n",
    "identity_2 = 0 #Initializes the identity of the\n",
    "\n",
    "for i in range(CODIS_profiles.shape[0]):\n",
    "    for j in range(i+1, CODIS_profiles.shape[0]):\n",
    "        distance = euclideanDist(CODIS_profiles.iloc[i], CODIS_profiles.iloc[j])\n",
    "        if distance < shortest_dist:\n",
    "            shortest_dist = distance\n",
    "            identity_1 = i\n",
    "            identity_2 = j\n",
    "\n",
    "print(f\"\"\"Individuals {identity_1} and {identity_2} have the shortest Euclidean distance of {shortest_dist} units.\"\"\")"
   ]
  },
  {
   "cell_type": "code",
   "execution_count": 30,
   "metadata": {
    "deletable": false,
    "editable": false,
    "trusted": false
   },
   "outputs": [
    {
     "data": {
      "text/html": [
       "<p><strong><pre style='display: inline;'>q6a</pre></strong> passed! 🎉</p>"
      ],
      "text/plain": [
       "q6a results: All test cases passed!"
      ]
     },
     "execution_count": 30,
     "metadata": {},
     "output_type": "execute_result"
    }
   ],
   "source": [
    "grader.check(\"q6a\")"
   ]
  },
  {
   "cell_type": "markdown",
   "metadata": {
    "deletable": false,
    "editable": false
   },
   "source": [
    "<font color = #d14d0f>**QUESTION 6b**:</font> Create the DataFrame `id_comparison` to allow you to manually compare the STR counts of the two individuals determined in Question 6a. The DataFrame indices should be the STR loci, and it should have two columns: `\"Person 1\"` and `\"Person 2\"`, which include the STR counts for the individuals. The `\"Person 1\"` column should contain data from the person with the lower index number."
   ]
  },
  {
   "cell_type": "code",
   "execution_count": 31,
   "metadata": {
    "execution": {
     "iopub.execute_input": "2025-02-28T08:11:00.511912Z",
     "iopub.status.busy": "2025-02-28T08:11:00.511277Z",
     "iopub.status.idle": "2025-02-28T08:11:00.527529Z",
     "shell.execute_reply": "2025-02-28T08:11:00.526959Z",
     "shell.execute_reply.started": "2025-02-28T08:11:00.511856Z"
    },
    "tags": [
     "otter_answer_cell"
    ],
    "trusted": false
   },
   "outputs": [
    {
     "data": {
      "text/html": [
       "<div>\n",
       "<style scoped>\n",
       "    .dataframe tbody tr th:only-of-type {\n",
       "        vertical-align: middle;\n",
       "    }\n",
       "\n",
       "    .dataframe tbody tr th {\n",
       "        vertical-align: top;\n",
       "    }\n",
       "\n",
       "    .dataframe thead th {\n",
       "        text-align: right;\n",
       "    }\n",
       "</style>\n",
       "<table border=\"1\" class=\"dataframe\">\n",
       "  <thead>\n",
       "    <tr style=\"text-align: right;\">\n",
       "      <th></th>\n",
       "      <th>Person 1</th>\n",
       "      <th>Person 2</th>\n",
       "    </tr>\n",
       "  </thead>\n",
       "  <tbody>\n",
       "    <tr>\n",
       "      <th>TPOX</th>\n",
       "      <td>8.0</td>\n",
       "      <td>8.0</td>\n",
       "    </tr>\n",
       "    <tr>\n",
       "      <th>D3S1358</th>\n",
       "      <td>15.0</td>\n",
       "      <td>15.0</td>\n",
       "    </tr>\n",
       "    <tr>\n",
       "      <th>FGA</th>\n",
       "      <td>21.0</td>\n",
       "      <td>21.0</td>\n",
       "    </tr>\n",
       "    <tr>\n",
       "      <th>D5S818</th>\n",
       "      <td>11.0</td>\n",
       "      <td>11.0</td>\n",
       "    </tr>\n",
       "    <tr>\n",
       "      <th>CSF1PO</th>\n",
       "      <td>10.0</td>\n",
       "      <td>10.0</td>\n",
       "    </tr>\n",
       "    <tr>\n",
       "      <th>D7S820</th>\n",
       "      <td>11.0</td>\n",
       "      <td>11.0</td>\n",
       "    </tr>\n",
       "    <tr>\n",
       "      <th>D8S1179</th>\n",
       "      <td>12.0</td>\n",
       "      <td>12.0</td>\n",
       "    </tr>\n",
       "    <tr>\n",
       "      <th>TH01</th>\n",
       "      <td>6.0</td>\n",
       "      <td>6.0</td>\n",
       "    </tr>\n",
       "    <tr>\n",
       "      <th>vWA</th>\n",
       "      <td>17.0</td>\n",
       "      <td>18.0</td>\n",
       "    </tr>\n",
       "    <tr>\n",
       "      <th>D13S317</th>\n",
       "      <td>11.0</td>\n",
       "      <td>11.0</td>\n",
       "    </tr>\n",
       "    <tr>\n",
       "      <th>D16S539</th>\n",
       "      <td>12.0</td>\n",
       "      <td>11.0</td>\n",
       "    </tr>\n",
       "    <tr>\n",
       "      <th>D18S51</th>\n",
       "      <td>15.0</td>\n",
       "      <td>16.0</td>\n",
       "    </tr>\n",
       "    <tr>\n",
       "      <th>D21S11</th>\n",
       "      <td>30.0</td>\n",
       "      <td>30.0</td>\n",
       "    </tr>\n",
       "  </tbody>\n",
       "</table>\n",
       "</div>"
      ],
      "text/plain": [
       "         Person 1  Person 2\n",
       "TPOX          8.0       8.0\n",
       "D3S1358      15.0      15.0\n",
       "FGA          21.0      21.0\n",
       "D5S818       11.0      11.0\n",
       "CSF1PO       10.0      10.0\n",
       "D7S820       11.0      11.0\n",
       "D8S1179      12.0      12.0\n",
       "TH01          6.0       6.0\n",
       "vWA          17.0      18.0\n",
       "D13S317      11.0      11.0\n",
       "D16S539      12.0      11.0\n",
       "D18S51       15.0      16.0\n",
       "D21S11       30.0      30.0"
      ]
     },
     "execution_count": 31,
     "metadata": {},
     "output_type": "execute_result"
    }
   ],
   "source": [
    "#Question 6b\n",
    "id_comparison = pd.DataFrame({\"Person 1\": CODIS_profiles.iloc[identity_1], \"Person 2\": CODIS_profiles.iloc[identity_2]})\n",
    "\n",
    "id_comparison"
   ]
  },
  {
   "cell_type": "code",
   "execution_count": 32,
   "metadata": {
    "deletable": false,
    "editable": false,
    "trusted": false
   },
   "outputs": [
    {
     "data": {
      "text/html": [
       "<p><strong><pre style='display: inline;'>q6b</pre></strong> passed! 🌈</p>"
      ],
      "text/plain": [
       "q6b results: All test cases passed!"
      ]
     },
     "execution_count": 32,
     "metadata": {},
     "output_type": "execute_result"
    }
   ],
   "source": [
    "grader.check(\"q6b\")"
   ]
  },
  {
   "cell_type": "markdown",
   "metadata": {},
   "source": [
    "## Diploidy\n",
    "\n",
    "So far, we only looked at the STR lenght of an allele on one chromosome the shorter alleles for our probability calculations. The original `raw_profiles` DataFrame contains STR alleles for the both chromosomes. The individual's STR count at the same STR locus on their second chromosome is in columns that end with \".1\". In this section, we are going to also be considering diploid profiles.  "
   ]
  },
  {
   "cell_type": "markdown",
   "metadata": {
    "deletable": false
   },
   "source": [
    "<font color = #d14d0f>**QUESTION 7a**:</font> \n",
    "## Creating a Diploid STR Profile DataFrame\n",
    "\n",
    "From the original `raw_profiles` DataFrame, you need to create a DataFrame `diploid_profiles` that contains the STR profiles of both chromosomes for each of the original 13 CODIS core loci. \n",
    "\n",
    "The `diploid_profiles` DataFrame should have **26 columns**, as each of the original **13 loci** (stored in `CODIS_13_loci`) has two associated values (one for each chromosome). \n",
    "\n",
    "### Step 1: Generate the List of 26 Column Names\n",
    "\n",
    "First, create a list `CODIS_13_loci_diploid_iterated` that contains the required **26 column names**. This can be done by iterating through `CODIS_13_loci` and appending an additional column name with a `\".1\"` suffix for each locus.\n",
    "\n",
    "### Next...List and Nested List Comprehensions in Python\n",
    "\n",
    "We’re now going to create the `CODIS_13_loci_diploid` list in a more **Pythonic** way using a list comprehension.  \n",
    "\n",
    "A **list comprehension** is a concise way to create a list by applying an expression to each item in an iterable, optionally filtering elements.  \n",
    "\n",
    "A **nested list comprehension** extends this by processing multi-dimensional data in a single step.  \n",
    "\n",
    "The code here uses a **nested list comprehension** to iterate over all the original 13 column headers, producing all pairs of old and new column headers. This is then flattened into a regular list containing all the column headers we need.  \n",
    "\n",
    "For more details, check out the [Python Docs on List Comprehensions](https://docs.python.org/3/tutorial/datastructures.html#list-comprehensions).\n",
    "\n",
    "\n",
    "We save the value in **`CODIS_13_loci_diploid_list_comprehension`**.\n"
   ]
  },
  {
   "cell_type": "code",
   "execution_count": 33,
   "metadata": {
    "tags": [
     "otter_answer_cell"
    ],
    "trusted": false
   },
   "outputs": [
    {
     "name": "stdout",
     "output_type": "stream",
     "text": [
      "['TPOX', 'TPOX.1', 'D3S1358', 'D3S1358.1', 'FGA', 'FGA.1', 'D5S818', 'D5S818.1', 'CSF1PO', 'CSF1PO.1', 'D7S820', 'D7S820.1', 'D8S1179', 'D8S1179.1', 'TH01', 'TH01.1', 'vWA', 'vWA.1', 'D13S317', 'D13S317.1', 'D16S539', 'D16S539.1', 'D18S51', 'D18S51.1', 'D21S11', 'D21S11.1']\n"
     ]
    }
   ],
   "source": [
    "CODIS_13_loci_diploid_iterated = []\n",
    "\n",
    "# Iterate through each locus in CODIS_13_loci to generate the list of 26 column names\n",
    "\n",
    "for locus in  CODIS_13_loci:\n",
    "    second_chr_loci =  locus + \".1\"\n",
    "    CODIS_13_loci_diploid_iterated.append(locus) #First chromosome label\n",
    "    CODIS_13_loci_diploid_iterated.append(second_chr_loci) #Second chromosome label\n",
    "\n",
    "#This should yeild column names\n",
    "print(CODIS_13_loci_diploid_iterated)"
   ]
  },
  {
   "cell_type": "code",
   "execution_count": 34,
   "metadata": {
    "trusted": false
   },
   "outputs": [
    {
     "name": "stdout",
     "output_type": "stream",
     "text": [
      "['TPOX', 'TPOX.1', 'D3S1358', 'D3S1358.1', 'FGA', 'FGA.1', 'D5S818', 'D5S818.1', 'CSF1PO', 'CSF1PO.1', 'D7S820', 'D7S820.1', 'D8S1179', 'D8S1179.1', 'TH01', 'TH01.1', 'vWA', 'vWA.1', 'D13S317', 'D13S317.1', 'D16S539', 'D16S539.1', 'D18S51', 'D18S51.1', 'D21S11', 'D21S11.1']\n"
     ]
    }
   ],
   "source": [
    "#Just run this list comprehension \n",
    "CODIS_13_loci_diploid_list_comprehension = [item for locus in CODIS_13_loci for item in (locus, locus + \".1\")]\n",
    "print(CODIS_13_loci_diploid_list_comprehension)"
   ]
  },
  {
   "cell_type": "markdown",
   "metadata": {},
   "source": [
    "<font color = #d14d0f>**QUESTION 7b**:</font> \n",
    "##### Creating the `diploid_profiles` DataFrame\n",
    "\n",
    "Now, create the DataFrame **`diploid_profiles`** with the needed 26 columns from **`raw_profiles`**, making use of the list **`CODIS_13_loci_diploid_iterated`** or **`CODIS_13_loci_diploid_comprehension`**.\n",
    "\n"
   ]
  },
  {
   "cell_type": "code",
   "execution_count": 35,
   "metadata": {
    "trusted": true
   },
   "outputs": [
    {
     "data": {
      "text/html": [
       "<div>\n",
       "<style scoped>\n",
       "    .dataframe tbody tr th:only-of-type {\n",
       "        vertical-align: middle;\n",
       "    }\n",
       "\n",
       "    .dataframe tbody tr th {\n",
       "        vertical-align: top;\n",
       "    }\n",
       "\n",
       "    .dataframe thead th {\n",
       "        text-align: right;\n",
       "    }\n",
       "</style>\n",
       "<table border=\"1\" class=\"dataframe\">\n",
       "  <thead>\n",
       "    <tr style=\"text-align: right;\">\n",
       "      <th></th>\n",
       "      <th>TPOX</th>\n",
       "      <th>TPOX.1</th>\n",
       "      <th>D3S1358</th>\n",
       "      <th>D3S1358.1</th>\n",
       "      <th>FGA</th>\n",
       "      <th>FGA.1</th>\n",
       "      <th>D5S818</th>\n",
       "      <th>D5S818.1</th>\n",
       "      <th>CSF1PO</th>\n",
       "      <th>CSF1PO.1</th>\n",
       "      <th>...</th>\n",
       "      <th>vWA</th>\n",
       "      <th>vWA.1</th>\n",
       "      <th>D13S317</th>\n",
       "      <th>D13S317.1</th>\n",
       "      <th>D16S539</th>\n",
       "      <th>D16S539.1</th>\n",
       "      <th>D18S51</th>\n",
       "      <th>D18S51.1</th>\n",
       "      <th>D21S11</th>\n",
       "      <th>D21S11.1</th>\n",
       "    </tr>\n",
       "  </thead>\n",
       "  <tbody>\n",
       "    <tr>\n",
       "      <th>0</th>\n",
       "      <td>8</td>\n",
       "      <td>8</td>\n",
       "      <td>14.0</td>\n",
       "      <td>17</td>\n",
       "      <td>24.0</td>\n",
       "      <td>24.0</td>\n",
       "      <td>10</td>\n",
       "      <td>11</td>\n",
       "      <td>11</td>\n",
       "      <td>13</td>\n",
       "      <td>...</td>\n",
       "      <td>17</td>\n",
       "      <td>17</td>\n",
       "      <td>13</td>\n",
       "      <td>13</td>\n",
       "      <td>8</td>\n",
       "      <td>12</td>\n",
       "      <td>13.0</td>\n",
       "      <td>15.0</td>\n",
       "      <td>28.0</td>\n",
       "      <td>30.0</td>\n",
       "    </tr>\n",
       "    <tr>\n",
       "      <th>1</th>\n",
       "      <td>8</td>\n",
       "      <td>12</td>\n",
       "      <td>16.0</td>\n",
       "      <td>18</td>\n",
       "      <td>25.0</td>\n",
       "      <td>26.0</td>\n",
       "      <td>11</td>\n",
       "      <td>12</td>\n",
       "      <td>10</td>\n",
       "      <td>12</td>\n",
       "      <td>...</td>\n",
       "      <td>14</td>\n",
       "      <td>19</td>\n",
       "      <td>10</td>\n",
       "      <td>11</td>\n",
       "      <td>10</td>\n",
       "      <td>10</td>\n",
       "      <td>16.0</td>\n",
       "      <td>18.0</td>\n",
       "      <td>30.0</td>\n",
       "      <td>33.2</td>\n",
       "    </tr>\n",
       "    <tr>\n",
       "      <th>2</th>\n",
       "      <td>8</td>\n",
       "      <td>11</td>\n",
       "      <td>14.0</td>\n",
       "      <td>17</td>\n",
       "      <td>23.0</td>\n",
       "      <td>25.0</td>\n",
       "      <td>11</td>\n",
       "      <td>12</td>\n",
       "      <td>11</td>\n",
       "      <td>15</td>\n",
       "      <td>...</td>\n",
       "      <td>16</td>\n",
       "      <td>17</td>\n",
       "      <td>11</td>\n",
       "      <td>12</td>\n",
       "      <td>12</td>\n",
       "      <td>12</td>\n",
       "      <td>17.0</td>\n",
       "      <td>17.0</td>\n",
       "      <td>30.2</td>\n",
       "      <td>32.2</td>\n",
       "    </tr>\n",
       "    <tr>\n",
       "      <th>3</th>\n",
       "      <td>8</td>\n",
       "      <td>8</td>\n",
       "      <td>15.0</td>\n",
       "      <td>18</td>\n",
       "      <td>21.0</td>\n",
       "      <td>21.0</td>\n",
       "      <td>11</td>\n",
       "      <td>12</td>\n",
       "      <td>10</td>\n",
       "      <td>12</td>\n",
       "      <td>...</td>\n",
       "      <td>17</td>\n",
       "      <td>18</td>\n",
       "      <td>11</td>\n",
       "      <td>11</td>\n",
       "      <td>12</td>\n",
       "      <td>13</td>\n",
       "      <td>15.0</td>\n",
       "      <td>17.0</td>\n",
       "      <td>30.0</td>\n",
       "      <td>31.0</td>\n",
       "    </tr>\n",
       "    <tr>\n",
       "      <th>4</th>\n",
       "      <td>9</td>\n",
       "      <td>11</td>\n",
       "      <td>15.0</td>\n",
       "      <td>16</td>\n",
       "      <td>19.0</td>\n",
       "      <td>21.0</td>\n",
       "      <td>9</td>\n",
       "      <td>12</td>\n",
       "      <td>10</td>\n",
       "      <td>12</td>\n",
       "      <td>...</td>\n",
       "      <td>16</td>\n",
       "      <td>18</td>\n",
       "      <td>11</td>\n",
       "      <td>11</td>\n",
       "      <td>11</td>\n",
       "      <td>12</td>\n",
       "      <td>14.0</td>\n",
       "      <td>19.0</td>\n",
       "      <td>31.2</td>\n",
       "      <td>32.2</td>\n",
       "    </tr>\n",
       "  </tbody>\n",
       "</table>\n",
       "<p>5 rows × 26 columns</p>\n",
       "</div>"
      ],
      "text/plain": [
       "   TPOX  TPOX.1  D3S1358  D3S1358.1   FGA  FGA.1  D5S818  D5S818.1  CSF1PO  \\\n",
       "0     8       8     14.0         17  24.0   24.0      10        11      11   \n",
       "1     8      12     16.0         18  25.0   26.0      11        12      10   \n",
       "2     8      11     14.0         17  23.0   25.0      11        12      11   \n",
       "3     8       8     15.0         18  21.0   21.0      11        12      10   \n",
       "4     9      11     15.0         16  19.0   21.0       9        12      10   \n",
       "\n",
       "   CSF1PO.1  ...  vWA  vWA.1  D13S317  D13S317.1  D16S539  D16S539.1  D18S51  \\\n",
       "0        13  ...   17     17       13         13        8         12    13.0   \n",
       "1        12  ...   14     19       10         11       10         10    16.0   \n",
       "2        15  ...   16     17       11         12       12         12    17.0   \n",
       "3        12  ...   17     18       11         11       12         13    15.0   \n",
       "4        12  ...   16     18       11         11       11         12    14.0   \n",
       "\n",
       "   D18S51.1  D21S11  D21S11.1  \n",
       "0      15.0    28.0      30.0  \n",
       "1      18.0    30.0      33.2  \n",
       "2      17.0    30.2      32.2  \n",
       "3      17.0    30.0      31.0  \n",
       "4      19.0    31.2      32.2  \n",
       "\n",
       "[5 rows x 26 columns]"
      ]
     },
     "execution_count": 35,
     "metadata": {},
     "output_type": "execute_result"
    }
   ],
   "source": [
    "#Assign the new columns as part of the Data frame\n",
    "diploid_profiles = raw_profiles[CODIS_13_loci_diploid_list_comprehension]\n",
    "diploid_profiles.head()  "
   ]
  },
  {
   "cell_type": "code",
   "execution_count": 36,
   "metadata": {
    "deletable": false,
    "editable": false,
    "trusted": false
   },
   "outputs": [
    {
     "data": {
      "text/html": [
       "<p><strong><pre style='display: inline;'>q7</pre></strong> passed! 💯</p>"
      ],
      "text/plain": [
       "q7 results: All test cases passed!"
      ]
     },
     "execution_count": 36,
     "metadata": {},
     "output_type": "execute_result"
    }
   ],
   "source": [
    "grader.check(\"q7\")"
   ]
  },
  {
   "cell_type": "markdown",
   "metadata": {
    "deletable": false,
    "editable": false
   },
   "source": [
    "<!-- BEGIN QUESTION -->\n",
    "<font color = #d14d0f>**QUESTION 8**:</font> Create an overlaid bar chart that shows the STR count distribution of both TPOX and TPOX.1. Make sure to set an appropriate binwidth, title, legend, and axes labels."
   ]
  },
  {
   "cell_type": "code",
   "execution_count": 37,
   "metadata": {
    "execution": {
     "iopub.execute_input": "2025-02-28T08:11:19.355403Z",
     "iopub.status.busy": "2025-02-28T08:11:19.354888Z",
     "iopub.status.idle": "2025-02-28T08:11:19.502650Z",
     "shell.execute_reply": "2025-02-28T08:11:19.502274Z",
     "shell.execute_reply.started": "2025-02-28T08:11:19.355363Z"
    },
    "tags": [
     "otter_answer_cell"
    ],
    "trusted": false
   },
   "outputs": [
    {
     "data": {
      "text/plain": [
       "Text(0, 0.5, 'Str Count')"
      ]
     },
     "execution_count": 37,
     "metadata": {},
     "output_type": "execute_result"
    },
    {
     "data": {
      "image/png": "[encoded data removed]",
      "text/plain": [
       "<Figure size 640x480 with 1 Axes>"
      ]
     },
     "metadata": {},
     "output_type": "display_data"
    }
   ],
   "source": [
    "ax = sns.histplot(diploid_profiles[[\"TPOX\", \"TPOX.1\"]], binwidth=20, discrete=True)\n",
    "ax.set_title(\"STR count distributution TPOX and TPOX.1\")\n",
    "ax.set_xlabel(\"Allele\")\n",
    "ax.set_ylabel(\"Str Count\")"
   ]
  },
  {
   "cell_type": "markdown",
   "metadata": {
    "deletable": false,
    "editable": false
   },
   "source": [
    "<!-- END QUESTION -->"
   ]
  },
  {
   "cell_type": "markdown",
   "metadata": {
    "deletable": false,
    "editable": false
   },
   "source": [
    "<font color = #d14d0f>**QUESTION 9**:</font> Create a DataFrame `tpox_diploid_counts`, which shows the distribution frequency of each combination of alleles for TPOX. It should have two index columns `\"TPOX\"` and `\"TPOX.1\"`, containing the alleles, and one column called `\"count\"`, containing the number of individuals in `diploid_profiles` with that combination of alleles. The DataFrame should also be sorted in descending order by the `\"count\"` column.\n",
    "\n",
    ">Hint:  <br>\n",
    "    - You may want to slightly modify the example code that is provided before Question 3. <br>\n",
    "    - Feel free to use multiple lines of code, as long as your final DataFrame is `tpox_diploid_counts`. \n",
    "\n",
    ">Note:  <br>\n",
    "    - You might notice that the output DataFrame shows what appear as blank spaces for \"TPOX\" in the first column. These are just merged cells that indicate the block of empty rows share the same value."
   ]
  },
  {
   "cell_type": "code",
   "execution_count": 38,
   "metadata": {
    "execution": {
     "iopub.execute_input": "2025-02-28T08:11:23.287708Z",
     "iopub.status.busy": "2025-02-28T08:11:23.287024Z",
     "iopub.status.idle": "2025-02-28T08:11:23.307091Z",
     "shell.execute_reply": "2025-02-28T08:11:23.306537Z",
     "shell.execute_reply.started": "2025-02-28T08:11:23.287653Z"
    },
    "tags": [
     "otter_answer_cell"
    ],
    "trusted": false
   },
   "outputs": [
    {
     "data": {
      "text/html": [
       "<div>\n",
       "<style scoped>\n",
       "    .dataframe tbody tr th:only-of-type {\n",
       "        vertical-align: middle;\n",
       "    }\n",
       "\n",
       "    .dataframe tbody tr th {\n",
       "        vertical-align: top;\n",
       "    }\n",
       "\n",
       "    .dataframe thead th {\n",
       "        text-align: right;\n",
       "    }\n",
       "</style>\n",
       "<table border=\"1\" class=\"dataframe\">\n",
       "  <thead>\n",
       "    <tr style=\"text-align: right;\">\n",
       "      <th></th>\n",
       "      <th></th>\n",
       "      <th>count</th>\n",
       "    </tr>\n",
       "    <tr>\n",
       "      <th>TPOX</th>\n",
       "      <th>TPOX.1</th>\n",
       "      <th></th>\n",
       "    </tr>\n",
       "  </thead>\n",
       "  <tbody>\n",
       "    <tr>\n",
       "      <th rowspan=\"3\" valign=\"top\">8</th>\n",
       "      <th>11</th>\n",
       "      <td>241</td>\n",
       "    </tr>\n",
       "    <tr>\n",
       "      <th>8</th>\n",
       "      <td>233</td>\n",
       "    </tr>\n",
       "    <tr>\n",
       "      <th>9</th>\n",
       "      <td>127</td>\n",
       "    </tr>\n",
       "    <tr>\n",
       "      <th>9</th>\n",
       "      <th>11</th>\n",
       "      <td>65</td>\n",
       "    </tr>\n",
       "    <tr>\n",
       "      <th>11</th>\n",
       "      <th>11</th>\n",
       "      <td>58</td>\n",
       "    </tr>\n",
       "    <tr>\n",
       "      <th rowspan=\"2\" valign=\"top\">8</th>\n",
       "      <th>10</th>\n",
       "      <td>57</td>\n",
       "    </tr>\n",
       "    <tr>\n",
       "      <th>12</th>\n",
       "      <td>44</td>\n",
       "    </tr>\n",
       "    <tr>\n",
       "      <th>11</th>\n",
       "      <th>12</th>\n",
       "      <td>36</td>\n",
       "    </tr>\n",
       "    <tr>\n",
       "      <th>10</th>\n",
       "      <th>11</th>\n",
       "      <td>31</td>\n",
       "    </tr>\n",
       "    <tr>\n",
       "      <th>9</th>\n",
       "      <th>9</th>\n",
       "      <td>22</td>\n",
       "    </tr>\n",
       "  </tbody>\n",
       "</table>\n",
       "</div>"
      ],
      "text/plain": [
       "             count\n",
       "TPOX TPOX.1       \n",
       "8    11        241\n",
       "     8         233\n",
       "     9         127\n",
       "9    11         65\n",
       "11   11         58\n",
       "8    10         57\n",
       "     12         44\n",
       "11   12         36\n",
       "10   11         31\n",
       "9    9          22"
      ]
     },
     "execution_count": 38,
     "metadata": {},
     "output_type": "execute_result"
    }
   ],
   "source": [
    "tpox_diploid_counts = diploid_profiles.groupby([\"TPOX\", \"TPOX.1\"]).size().reset_index(name=\"count\")\n",
    "tpox_diploid_counts.set_index([\"TPOX\", \"TPOX.1\"], inplace=True)\n",
    "tpox_diploid_counts.sort_values(by='count', ascending=False, inplace=True)\n",
    "#Do not change this line\n",
    "tpox_diploid_counts.head(10)"
   ]
  },
  {
   "cell_type": "code",
   "execution_count": 39,
   "metadata": {
    "deletable": false,
    "editable": false,
    "trusted": false
   },
   "outputs": [
    {
     "data": {
      "text/html": [
       "<p><strong><pre style='display: inline;'>q9</pre></strong> passed! 💯</p>"
      ],
      "text/plain": [
       "q9 results: All test cases passed!"
      ]
     },
     "execution_count": 39,
     "metadata": {},
     "output_type": "execute_result"
    }
   ],
   "source": [
    "grader.check(\"q9\")"
   ]
  },
  {
   "cell_type": "markdown",
   "metadata": {
    "deletable": false,
    "editable": false
   },
   "source": [
    "<font color = #d14d0f>**QUESTION 10a**:</font> Create a DataFrame `STR_combinations`, which has three columns `\"STR locus\"`, `\"Most Common Allele Combination\"` and `\"Probability\"`. For each of the 13 loci, determine the most commonly observed pair of alleles and the probability (as a proportion) that a random individual would have that pair of alleles. The most common allele combination of a locus should be formatted as \"(allele_1, allele_2)\" as a string. The probability should be rounded to 2 decimal places.\n",
    "\n",
    ">Hint:  <br>\n",
    "    - You may want to consider how you can apply the DataFrame in Question 9. <br>\n",
    "    - `df.index.values` will extract the indices of a DataFrame as an array. If there are multiple layers of indices, it they be output as an array of tuples. <br>\n",
    "    - You do not have to follow the skeleton code provided."
   ]
  },
  {
   "cell_type": "code",
   "execution_count": 41,
   "metadata": {
    "execution": {
     "iopub.execute_input": "2025-02-28T08:11:30.664511Z",
     "iopub.status.busy": "2025-02-28T08:11:30.663977Z",
     "iopub.status.idle": "2025-02-28T08:11:30.709592Z",
     "shell.execute_reply": "2025-02-28T08:11:30.709229Z",
     "shell.execute_reply.started": "2025-02-28T08:11:30.664475Z"
    },
    "tags": [
     "otter_answer_cell"
    ],
    "trusted": false
   },
   "outputs": [
    {
     "data": {
      "text/html": [
       "<div>\n",
       "<style scoped>\n",
       "    .dataframe tbody tr th:only-of-type {\n",
       "        vertical-align: middle;\n",
       "    }\n",
       "\n",
       "    .dataframe tbody tr th {\n",
       "        vertical-align: top;\n",
       "    }\n",
       "\n",
       "    .dataframe thead th {\n",
       "        text-align: right;\n",
       "    }\n",
       "</style>\n",
       "<table border=\"1\" class=\"dataframe\">\n",
       "  <thead>\n",
       "    <tr style=\"text-align: right;\">\n",
       "      <th></th>\n",
       "      <th>STR locus</th>\n",
       "      <th>Most Common Allele Combination</th>\n",
       "      <th>Probability</th>\n",
       "    </tr>\n",
       "  </thead>\n",
       "  <tbody>\n",
       "    <tr>\n",
       "      <th>0</th>\n",
       "      <td>TPOX</td>\n",
       "      <td>(8, 11)</td>\n",
       "      <td>0.23</td>\n",
       "    </tr>\n",
       "    <tr>\n",
       "      <th>1</th>\n",
       "      <td>D3S1358</td>\n",
       "      <td>(15.0, 16.0)</td>\n",
       "      <td>0.17</td>\n",
       "    </tr>\n",
       "    <tr>\n",
       "      <th>2</th>\n",
       "      <td>FGA</td>\n",
       "      <td>(21.0, 22.0)</td>\n",
       "      <td>0.07</td>\n",
       "    </tr>\n",
       "    <tr>\n",
       "      <th>3</th>\n",
       "      <td>D5S818</td>\n",
       "      <td>(11, 12)</td>\n",
       "      <td>0.23</td>\n",
       "    </tr>\n",
       "    <tr>\n",
       "      <th>4</th>\n",
       "      <td>CSF1PO</td>\n",
       "      <td>(11, 12)</td>\n",
       "      <td>0.18</td>\n",
       "    </tr>\n",
       "    <tr>\n",
       "      <th>5</th>\n",
       "      <td>D7S820</td>\n",
       "      <td>(10.0, 11.0)</td>\n",
       "      <td>0.15</td>\n",
       "    </tr>\n",
       "    <tr>\n",
       "      <th>6</th>\n",
       "      <td>D8S1179</td>\n",
       "      <td>(13, 14)</td>\n",
       "      <td>0.12</td>\n",
       "    </tr>\n",
       "    <tr>\n",
       "      <th>7</th>\n",
       "      <td>TH01</td>\n",
       "      <td>(6.0, 7.0)</td>\n",
       "      <td>0.12</td>\n",
       "    </tr>\n",
       "    <tr>\n",
       "      <th>8</th>\n",
       "      <td>vWA</td>\n",
       "      <td>(16, 17)</td>\n",
       "      <td>0.12</td>\n",
       "    </tr>\n",
       "    <tr>\n",
       "      <th>9</th>\n",
       "      <td>D13S317</td>\n",
       "      <td>(11, 12)</td>\n",
       "      <td>0.18</td>\n",
       "    </tr>\n",
       "    <tr>\n",
       "      <th>10</th>\n",
       "      <td>D16S539</td>\n",
       "      <td>(11, 12)</td>\n",
       "      <td>0.15</td>\n",
       "    </tr>\n",
       "    <tr>\n",
       "      <th>11</th>\n",
       "      <td>D18S51</td>\n",
       "      <td>(15.0, 16.0)</td>\n",
       "      <td>0.05</td>\n",
       "    </tr>\n",
       "    <tr>\n",
       "      <th>12</th>\n",
       "      <td>D21S11</td>\n",
       "      <td>(29.0, 30.0)</td>\n",
       "      <td>0.09</td>\n",
       "    </tr>\n",
       "  </tbody>\n",
       "</table>\n",
       "</div>"
      ],
      "text/plain": [
       "   STR locus Most Common Allele Combination  Probability\n",
       "0       TPOX                        (8, 11)         0.23\n",
       "1    D3S1358                   (15.0, 16.0)         0.17\n",
       "2        FGA                   (21.0, 22.0)         0.07\n",
       "3     D5S818                       (11, 12)         0.23\n",
       "4     CSF1PO                       (11, 12)         0.18\n",
       "5     D7S820                   (10.0, 11.0)         0.15\n",
       "6    D8S1179                       (13, 14)         0.12\n",
       "7       TH01                     (6.0, 7.0)         0.12\n",
       "8        vWA                       (16, 17)         0.12\n",
       "9    D13S317                       (11, 12)         0.18\n",
       "10   D16S539                       (11, 12)         0.15\n",
       "11    D18S51                   (15.0, 16.0)         0.05\n",
       "12    D21S11                   (29.0, 30.0)         0.09"
      ]
     },
     "execution_count": 41,
     "metadata": {},
     "output_type": "execute_result"
    }
   ],
   "source": [
    "STR_combinations = pd.DataFrame({\"STR locus\": [],\n",
    "                                \"Most Common Allele Combination\": [],\n",
    "                                \"Probability\": []})\n",
    "\n",
    "for locus in CODIS_13_loci:\n",
    "    diploid_counts = diploid_profiles.groupby([locus, locus + \".1\"]).size().reset_index(name=\"count\")\n",
    "    most_common_allele_combination = diploid_counts.sort_values(by=\"count\", ascending=False).iloc[0]\n",
    "    most_common_count = most_common_allele_combination[\"count\"]\n",
    "    most_common_proportion = round(most_common_count / diploid_counts[\"count\"].sum(), 2)\n",
    "    STR_combinations.loc[len(STR_combinations)] = [locus,\n",
    "                                                    f\"({most_common_allele_combination[locus]}, {most_common_allele_combination[locus + '.1']})\",\n",
    "                                                    most_common_proportion]\n",
    "\n",
    "\n",
    "STR_combinations"
   ]
  },
  {
   "cell_type": "code",
   "execution_count": 42,
   "metadata": {},
   "outputs": [
    {
     "data": {
      "text/plain": [
       "Index(['TPOX', 'TPOX.1', 'D3S1358', 'D3S1358.1', 'FGA', 'FGA.1', 'D5S818',\n",
       "       'D5S818.1', 'CSF1PO', 'CSF1PO.1', 'D7S820', 'D7S820.1', 'D8S1179',\n",
       "       'D8S1179.1', 'TH01', 'TH01.1', 'vWA', 'vWA.1', 'D13S317', 'D13S317.1',\n",
       "       'D16S539', 'D16S539.1', 'D18S51', 'D18S51.1', 'D21S11', 'D21S11.1'],\n",
       "      dtype='object')"
      ]
     },
     "execution_count": 42,
     "metadata": {},
     "output_type": "execute_result"
    }
   ],
   "source": [
    "diploid_profiles.columns"
   ]
  },
  {
   "cell_type": "code",
   "execution_count": 43,
   "metadata": {
    "deletable": false,
    "editable": false,
    "trusted": false
   },
   "outputs": [
    {
     "data": {
      "text/html": [
       "<p><strong style='color: red;'><pre style='display: inline;'>q10a</pre> results:</strong></p><p><strong><pre style='display: inline;'>q10a - 1</pre> result:</strong></p><pre>    ✅ Test case passed</pre><p><strong><pre style='display: inline;'>q10a - 2</pre> result:</strong></p><pre>    ✅ Test case passed</pre><p><strong><pre style='display: inline;'>q10a - 3</pre> result:</strong></p><pre>    ❌ Test case failed\n",
       "    Trying:\n",
       "        len(str(sorted(STR_combinations['Probability'])[0]))\n",
       "    Expecting:\n",
       "        7\n",
       "    **********************************************************************\n",
       "    Line 1, in q10a 2\n",
       "    Failed example:\n",
       "        len(str(sorted(STR_combinations['Probability'])[0]))\n",
       "    Expected:\n",
       "        7\n",
       "    Got:\n",
       "        4\n",
       "</pre>"
      ],
      "text/plain": [
       "q10a results:\n",
       "    q10a - 1 result:\n",
       "        ✅ Test case passed\n",
       "\n",
       "    q10a - 2 result:\n",
       "        ✅ Test case passed\n",
       "\n",
       "    q10a - 3 result:\n",
       "        ❌ Test case failed\n",
       "        Trying:\n",
       "            len(str(sorted(STR_combinations['Probability'])[0]))\n",
       "        Expecting:\n",
       "            7\n",
       "        **********************************************************************\n",
       "        Line 1, in q10a 2\n",
       "        Failed example:\n",
       "            len(str(sorted(STR_combinations['Probability'])[0]))\n",
       "        Expected:\n",
       "            7\n",
       "        Got:\n",
       "            4"
      ]
     },
     "execution_count": 43,
     "metadata": {},
     "output_type": "execute_result"
    }
   ],
   "source": [
    "grader.check(\"q10a\")"
   ]
  },
  {
   "cell_type": "markdown",
   "metadata": {
    "deletable": false,
    "editable": false
   },
   "source": [
    "<font color = #d14d0f>**QUESTION 10b**:</font> Calculate the probability that a random individual has the most common allele pair combination for all of the 13 STR loci and assign your result to `probability_most_common_combination`."
   ]
  },
  {
   "cell_type": "code",
   "execution_count": 44,
   "metadata": {
    "execution": {
     "iopub.execute_input": "2025-02-28T08:12:07.704591Z",
     "iopub.status.busy": "2025-02-28T08:12:07.703878Z",
     "iopub.status.idle": "2025-02-28T08:12:07.712506Z",
     "shell.execute_reply": "2025-02-28T08:12:07.711581Z",
     "shell.execute_reply.started": "2025-02-28T08:12:07.704534Z"
    },
    "tags": [
     "otter_answer_cell"
    ],
    "trusted": false
   },
   "outputs": [
    {
     "name": "stdout",
     "output_type": "stream",
     "text": [
      "The probability that a random individual has the most common allele pair combination for each of the 13 STR loci is 3.569e-12.\n"
     ]
    }
   ],
   "source": [
    "probability_most_common_combination = np.prod(STR_combinations[\"Probability\"])\n",
    "print(f\"The probability that a random individual has the most common allele pair combination for each of the 13 STR loci is {probability_most_common_combination:.3e}.\")"
   ]
  },
  {
   "cell_type": "code",
   "execution_count": 45,
   "metadata": {
    "deletable": false,
    "editable": false,
    "trusted": false
   },
   "outputs": [
    {
     "data": {
      "text/html": [
       "<p><strong><pre style='display: inline;'>q10b</pre></strong> passed! 🌈</p>"
      ],
      "text/plain": [
       "q10b results: All test cases passed!"
      ]
     },
     "execution_count": 45,
     "metadata": {},
     "output_type": "execute_result"
    }
   ],
   "source": [
    "grader.check(\"q10b\")"
   ]
  },
  {
   "cell_type": "markdown",
   "metadata": {},
   "source": [
    "<font color = #d14d0f>**QUESTION 10c**:</font> How does your answer in 10a relate to the world population and why does this matter?"
   ]
  },
  {
   "cell_type": "markdown",
   "metadata": {},
   "source": [
    "**Answer 10c**: The most common allele combinations are not universal across all populations. If we ignore population structure, forensic DNA match may overestimate or undersestimate probabilities potentially leading to wrongful convictions. In short this matters because understanding population genetics is really important for precise interpretation DNA evidence in forensic science "
   ]
  },
  {
   "cell_type": "markdown",
   "metadata": {},
   "source": [
    "<!-- END QUESTION -->"
   ]
  },
  {
   "cell_type": "markdown",
   "metadata": {},
   "source": [
    "\n",
    "---\n",
    "\n",
    "### Congratulations! You have finished the notebook! ##\n",
    "\n",
    "---"
   ]
  },
  {
   "cell_type": "markdown",
   "metadata": {
    "deletable": false,
    "editable": false
   },
   "source": [
    "## Submission\n",
    "\n",
    "Make sure you have run all cells in your notebook in order before running the cell below, so that all images/graphs appear in the output. The cell below will generate a zip file for you to submit. **Please save before exporting!**\n",
    "\n",
    "Save, then download the zip file and submit it to the Gradescope autograder assignment. Then, extract the written solutions PDF and upload to the written work lab assignment."
   ]
  },
  {
   "cell_type": "code",
   "execution_count": 50,
   "metadata": {
    "deletable": false,
    "editable": false,
    "trusted": false
   },
   "outputs": [
    {
     "name": "stdout",
     "output_type": "stream",
     "text": [
      "Running your submission against local test cases...\n",
      "\n",
      "\n",
      "Your submission received the following results when run against available test cases:\n",
      "\n",
      "    q1 results: All test cases passed!\n",
      "\n",
      "    q3a results: All test cases passed!\n",
      "\n",
      "    q3b results: All test cases passed!\n",
      "\n",
      "    q4a results: All test cases passed!\n",
      "\n",
      "    q4b results: All test cases passed!\n",
      "\n",
      "    q4c results: All test cases passed!\n",
      "\n",
      "    q5a results: All test cases passed!\n",
      "\n",
      "    q6a results: All test cases passed!\n",
      "\n",
      "    q6b results: All test cases passed!\n",
      "\n",
      "    q7 results: All test cases passed!\n",
      "\n",
      "    q9 results: All test cases passed!\n",
      "\n",
      "    q10a results:\n",
      "        q10a - 1 result:\n",
      "            ✅ Test case passed\n",
      "\n",
      "        q10a - 2 result:\n",
      "            ✅ Test case passed\n",
      "\n",
      "        q10a - 3 result:\n",
      "            ❌ Test case failed\n",
      "            Trying:\n",
      "                len(str(sorted(STR_combinations['Probability'])[0]))\n",
      "            Expecting:\n",
      "                7\n",
      "            **********************************************************************\n",
      "            Line 1, in q10a 2\n",
      "            Failed example:\n",
      "                len(str(sorted(STR_combinations['Probability'])[0]))\n",
      "            Expected:\n",
      "                7\n",
      "            Got:\n",
      "                4\n",
      "\n",
      "    q10b results: All test cases passed!\n"
     ]
    },
    {
     "data": {
      "text/html": [
       "\n",
       "                    <p>\n",
       "                        Your submission has been exported. Click\n",
       "                        <a href=\"Codis_v5_2025_03_10T20_16_01_359673.zip\" download=\"Codis_v5_2025_03_10T20_16_01_359673.zip\" target=\"_blank\">here</a> to download\n",
       "                        the zip file.\n",
       "                    </p>\n",
       "                "
      ],
      "text/plain": [
       "<IPython.core.display.HTML object>"
      ]
     },
     "metadata": {},
     "output_type": "display_data"
    }
   ],
   "source": [
    "# Save your notebook first, then run this cell to export your submission.\n",
    "grader.export(run_tests=True)"
   ]
  },
  {
   "cell_type": "markdown",
   "metadata": {},
   "source": [
    " "
   ]
  }
 ],
 "metadata": {
  "kernelspec": {
   "display_name": "3.11.9",
   "language": "python",
   "name": "python3"
  },
  "language_info": {
   "codemirror_mode": {
    "name": "ipython",
    "version": 3
   },
   "file_extension": ".py",
   "mimetype": "text/x-python",
   "name": "python",
   "nbconvert_exporter": "python",
   "pygments_lexer": "ipython3",
   "version": "3.11.9"
  },
  "otter": {
   "OK_FORMAT": true,
   "tests": {
    "q1": {
     "name": "q1",
     "points": 1,
     "suites": [
      {
       "cases": [
        {
         "code": ">>> type(CODIS_profiles) == pd.DataFrame\nTrue",
         "hidden": false,
         "locked": false
        },
        {
         "code": ">>> CODIS_profiles.shape\n(1036, 13)",
         "hidden": false,
         "locked": false
        },
        {
         "code": ">>> ' '.join(sorted(CODIS_profiles.columns.to_list()))\n'CSF1PO D13S317 D16S539 D18S51 D21S11 D3S1358 D5S818 D7S820 D8S1179 FGA TH01 TPOX vWA'",
         "hidden": false,
         "locked": false
        }
       ],
       "scored": true,
       "setup": "",
       "teardown": "",
       "type": "doctest"
      }
     ]
    },
    "q10a": {
     "name": "q10a",
     "points": 6,
     "suites": [
      {
       "cases": [
        {
         "code": ">>> STR_combinations.shape\n(13, 3)",
         "hidden": false,
         "locked": false
        },
        {
         "code": ">>> [type(STR_combinations['STR locus'].iloc[0]), type(STR_combinations['Most Common Allele Combination'].iloc[0])] == [str, str]\nTrue",
         "hidden": false,
         "locked": false
        },
        {
         "code": ">>> len(str(sorted(STR_combinations['Probability'])[0]))\n7",
         "hidden": false,
         "locked": false
        }
       ],
       "scored": true,
       "setup": "",
       "teardown": "",
       "type": "doctest"
      }
     ]
    },
    "q10b": {
     "name": "q10b",
     "points": 3,
     "suites": [
      {
       "cases": [
        {
         "code": ">>> 0 < probability_most_common_combination < 1\nTrue",
         "hidden": false,
         "locked": false
        }
       ],
       "scored": true,
       "setup": "",
       "teardown": "",
       "type": "doctest"
      }
     ]
    },
    "q3a": {
     "name": "q3a",
     "points": 3,
     "suites": [
      {
       "cases": [
        {
         "code": ">>> 0 < probability_most_common < 1\nTrue",
         "hidden": false,
         "locked": false
        }
       ],
       "scored": true,
       "setup": "",
       "teardown": "",
       "type": "doctest"
      }
     ]
    },
    "q3b": {
     "name": "q3b",
     "points": 2,
     "suites": [
      {
       "cases": [
        {
         "code": ">>> 0 < probability_least_common < 1\nTrue",
         "hidden": false,
         "locked": false
        }
       ],
       "scored": true,
       "setup": "",
       "teardown": "",
       "type": "doctest"
      }
     ]
    },
    "q4a": {
     "name": "q4a",
     "points": 3,
     "suites": [
      {
       "cases": [
        {
         "code": ">>> 10 ** 6 < unique_STR_combinations < 10 ** 15\nTrue",
         "hidden": false,
         "locked": false
        }
       ],
       "scored": true,
       "setup": "",
       "teardown": "",
       "type": "doctest"
      }
     ]
    },
    "q4b": {
     "name": "q4b",
     "points": 1,
     "suites": [
      {
       "cases": [
        {
         "code": ">>> 0 < uniform_prob < 0.01\nTrue",
         "hidden": false,
         "locked": false
        }
       ],
       "scored": true,
       "setup": "",
       "teardown": "",
       "type": "doctest"
      }
     ]
    },
    "q4c": {
     "name": "q4c",
     "points": 2,
     "suites": [
      {
       "cases": [
        {
         "code": ">>> 0 < p_two_fingerprints <= uniform_prob\nTrue",
         "hidden": false,
         "locked": false
        }
       ],
       "scored": true,
       "setup": "",
       "teardown": "",
       "type": "doctest"
      }
     ]
    },
    "q5a": {
     "name": "q5a",
     "points": 5,
     "suites": [
      {
       "cases": [
        {
         "code": ">>> len(distances)\n536130",
         "hidden": false,
         "locked": false
        },
        {
         "code": ">>> np.round(np.mean(distances), 3)\n18.6",
         "hidden": false,
         "locked": false
        }
       ],
       "scored": true,
       "setup": "",
       "teardown": "",
       "type": "doctest"
      }
     ]
    },
    "q6a": {
     "name": "q6a",
     "points": 4,
     "suites": [
      {
       "cases": [
        {
         "code": ">>> 0 < shortest_dist < 10\nTrue",
         "hidden": false,
         "locked": false
        },
        {
         "code": ">>> [type(identity_1), type(identity_2)] == [int, int]\nTrue",
         "hidden": false,
         "locked": false
        }
       ],
       "scored": true,
       "setup": "",
       "teardown": "",
       "type": "doctest"
      }
     ]
    },
    "q6b": {
     "name": "q6b",
     "points": 2,
     "suites": [
      {
       "cases": [
        {
         "code": ">>> id_comparison.shape\n(13, 2)",
         "hidden": false,
         "locked": false
        }
       ],
       "scored": true,
       "setup": "",
       "teardown": "",
       "type": "doctest"
      }
     ]
    },
    "q7": {
     "name": "q7",
     "points": 4,
     "suites": [
      {
       "cases": [
        {
         "code": ">>> diploid_profiles.shape\n(1036, 26)",
         "hidden": false,
         "locked": false
        }
       ],
       "scored": true,
       "setup": "",
       "teardown": "",
       "type": "doctest"
      }
     ]
    },
    "q9": {
     "name": "q9",
     "points": 5,
     "suites": [
      {
       "cases": [
        {
         "code": ">>> tpox_diploid_counts.shape\n(28, 1)",
         "hidden": false,
         "locked": false
        },
        {
         "code": ">>> tpox_diploid_counts.index.to_list()[len(tpox_diploid_counts) // 5]\n(8, 10)",
         "hidden": false,
         "locked": false
        },
        {
         "code": ">>> tpox_diploid_counts['count'].iloc[0]\n241",
         "hidden": false,
         "locked": false
        }
       ],
       "scored": true,
       "setup": "",
       "teardown": "",
       "type": "doctest"
      }
     ]
    }
   }
  }
 },
 "nbformat": 4,
 "nbformat_minor": 4
}
