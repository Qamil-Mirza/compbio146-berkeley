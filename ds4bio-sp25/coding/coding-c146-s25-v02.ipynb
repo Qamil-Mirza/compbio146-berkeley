{
 "cells": [
  {
   "cell_type": "markdown",
   "metadata": {
    "id": "LjiXZb2eo-v0"
   },
   "source": [
    "# [DS4Bio] Coding: Python Coding of Genetic Coding\n",
    "### Data Science for Biology\n",
    "**Notebook developed by:** *Sarp Dora Kurtoglu, Kinsey Long*<br>\n",
    "**Supervised by:** *Steven E. Brenner*\n",
    "\n",
    "### Learning Outcomes\n",
    "\n",
    "In this notebook, you will review or learn about:\n",
    "* String manipulation\n",
    "* Building for loops for counting\n",
    "* Building functions\n",
    "* Using dictionaries\n",
    "* Input validation\n",
    "\n",
    "In this assignment, we will explore ways to write Python code for modeling transcription and translation.\n",
    "***"
   ]
  },
  {
   "cell_type": "markdown",
   "metadata": {
    "id": "Zc5oMGifOWfI"
   },
   "source": [
    "### Helpful Data Science Resources\n",
    "Here are some resources you can check out while doing this notebook.\n",
    "\n",
    "- [Reference Sheet for the datascience Module](http://data8.org/sp22/python-reference.html)<br>\n",
    "- [Documentation for the datascience Module](http://data8.org/datascience/index.html)\n",
    "- [Khan Academy Overview of Transcription](https://www.khanacademy.org/science/ap-biology/gene-expression-and-regulation/transcription-and-rna-processing/a/overview-of-transcription)\n",
    "- [Khan Academy Overview of Translation](https://www.khanacademy.org/science/ap-biology/gene-expression-and-regulation/translation/a/translation-overview)\n",
    "\n",
    "### Peer Consulting\n",
    "\n",
    "If you find yourself having trouble with any content in this notebook, Data Peer Consultants are an excellent resource. Click [here](https://cdss.berkeley.edu/dsus/advising/data-science-peer-advising-dspa) to locate live help.\n",
    "\n",
    "Peer Consultants are there to answer all data-related questions, whether it be about the content of this notebook, applications of data science in the world, or other data science courses offered at Berkeley.\n",
    "\n",
    "---"
   ]
  },
  {
   "cell_type": "markdown",
   "metadata": {
    "id": "v2n9ftEiOkl2"
   },
   "source": [
    "To prepare our notebook environment, run the following cell which imports the necessary packages. It will print `All necessary packages have been imported.` below the cell when it's completed importing.\n",
    "\n",
    "This notebook includes the same packages as the intro lab. It also include `re`, which stands for `regex`, a package often used for more sophisticated string operations. "
   ]
  },
  {
   "cell_type": "code",
   "execution_count": 1,
   "metadata": {
    "id": "Ve2IaKygZL2Z"
   },
   "outputs": [
    {
     "name": "stdout",
     "output_type": "stream",
     "text": [
      "All necessary packages have been imported.\n"
     ]
    }
   ],
   "source": [
    "# Run this cell\n",
    "from datascience import *\n",
    "%matplotlib inline\n",
    "import matplotlib.pyplot as plt\n",
    "import numpy as np\n",
    "import scipy.stats as sp\n",
    "import re\n",
    "plt.style.use('fivethirtyeight')\n",
    "from IPython.display import Image\n",
    "print(\"All necessary packages have been imported.\")"
   ]
  },
  {
   "cell_type": "markdown",
   "metadata": {
    "id": "bVCQIm_8o-v6"
   },
   "source": [
    "***\n",
    "## Introduction"
   ]
  },
  {
   "cell_type": "markdown",
   "metadata": {},
   "source": [
    "#### **The Central Dogma**\n",
    "\n",
    "The **central dogma of molecular biology** is a ***theory*** stating that genetic information flows in one direction, from DNA --> RNA --> protein. This is predominantly true, but there are some exceptions. The conversion of information from DNA to RNA is called **transcription** and the conversion of information from RNA to protein is called **translation**.\n",
    "\n",
    "<div>\n",
    "<img src=\"images/central_dogma.jpg\" width=\"300\"/>\n",
    "</div>\n",
    "\n",
    "*Image Source: [Khan Academy](https://www.khanacademy.org/science/ap-biology/gene-expression-and-regulation/translation/a/intro-to-gene-expression-central-dogma)*"
   ]
  },
  {
   "cell_type": "markdown",
   "metadata": {
    "id": "2VsDmDsgo-v6",
    "jp-MarkdownHeadingCollapsed": true
   },
   "source": [
    "#### **Transcription**\n",
    "\n",
    "In this lab, we will look at the DNA sequence of Green Fluorescept Protein (GFP). GFP is a naturally fluorescent protein that has become a prominent tool for biology researchers to visualize structures. The coding strand of GFP DNA (5' -> 3') can be sourced from [NCBI](https://www.ncbi.nlm.nih.gov/nuccore/L29345.1). \n",
    "\n",
    "A diagram of transcription is shown below:\n",
    "\n",
    "<div>\n",
    "<img src=\"images/transcription.jpg\" alt=\"Transcription\"\n",
    "     style=\"width:475px;height:225px;\">\n",
    "</div>\n",
    "\n",
    "*Source: [Khan Academy](https://www.khanacademy.org/science/ap-biology/gene-expression-and-regulation/transcription-and-rna-processing/a/overview-of-transcription)*\n",
    "\n",
    "During transcription, RNA polymerase reads in a 3' -> 5' direction on the template strand, synthesizing the new complementary mRNA in a 5' -> 3' direction. The template strand is the strand that is actually transcribed. The coding strand is the complementary DNA strand to the template strand. The resulting mRNA has a similar sequence to the coding strand, but with uracil instead of thymine. \n",
    "\n",
    "Conventionally, DNA sequences are written in a 5' -> 3' direction and the coding strand is used to report the DNA sequence of a gene. In this assignment, we will start with the **5' -> 3' template strand** of GFP and computationally transcribe it into mRNA. Later, we will computationally translate that mRNA into the amino acid sequence.\n",
    "\n",
    "#### **Translation**\n",
    "\n",
    "DNA translation is a fundamental process in molecular biology, where mRNA is used as a guide to generate an amino acid sequence. Each set of three nucleotides on the mRNA, called a **codon**, corresponds to a specific amino acid, the building block of proteins. Transfer RNA (tRNA) molecules bring the appropriate amino acids to the ribosome, matching their anticodon sequences to the mRNA codons. The ribosome facilitates the formation of peptide bonds between these amino acids, sequentially building a polypeptide chain. This chain folds into a functional protein, determined by the original DNA sequence."
   ]
  },
  {
   "cell_type": "markdown",
   "metadata": {
    "id": "Zm_RSqwLo-v9"
   },
   "source": [
    "***\n",
    "### 1. Template Strand of GFP\n",
    "\n",
    "To begin, we will assign the 5' -> 3' template strand of GFP to the variable `template_strand`\n"
   ]
  },
  {
   "cell_type": "code",
   "execution_count": 2,
   "metadata": {
    "id": "FzsgMj6Co-v9"
   },
   "outputs": [
    {
     "data": {
      "text/plain": [
       "'atacactccagtagcctatttaataagaaaatagcccctattaataacatcaataaattattcataaaattttaatgaatctataaatatataaataaagtctcagcctgaatttaaccaggaaccctgagaatttagtaattgttcggacactttagtgtcaattggaagtctggacatttatttgtatagttcatccatgccatgtgtaatcccagcagctgttacaaactcaagaaggatcatgtgatctctcttttcgttgggatctttggaaagggcagattgtgtggacaggtaatggttgtctggtaaaaggacagggccatcgccaattggagtattttgttgataatggtctgctaattgaacgcttccatctttaatgttgtgtctaattttgaagttaactttgattccattctttggtttgtctgccatgatgtatacattatgtgagttatagttgtattccattttgtgtccaagaatgtttccatcttctttaaaatcaataccttttaactcgattctattaacaagggtatcaccttcaaacttgacttcagcacgtgtcttgtagttcccgtcatctttgtaaaatatagttctttcctgtacataaccttcgggcatggcactcttgaaaaagtcatgctgtttcatatgatctgggtatcttgaaaagcattgaacaccataagagaaagtagtgacaagtgttggccatggaacaggtagcttcccagtagtgcaaataaatttaagggtaagttttccgtatgttgcatcaccttcaccctctccactgacagagaatttttgcccattaacatcgccatctaattcaacaagaattgggacaactccagtgaaaagttcttctcctttactcatctttgttatcttttattcgtgtgta'"
      ]
     },
     "execution_count": 2,
     "metadata": {},
     "output_type": "execute_result"
    }
   ],
   "source": [
    "#Just run this cell\n",
    "template_strand = \"atacactccagtagcctatttaataagaaaatagcccctattaataacatcaataaattattcataaaattttaatgaatctataaatatataaataaagtctcagcctgaatttaaccaggaaccctgagaatttagtaattgttcggacactttagtgtcaattggaagtctggacatttatttgtatagttcatccatgccatgtgtaatcccagcagctgttacaaactcaagaaggatcatgtgatctctcttttcgttgggatctttggaaagggcagattgtgtggacaggtaatggttgtctggtaaaaggacagggccatcgccaattggagtattttgttgataatggtctgctaattgaacgcttccatctttaatgttgtgtctaattttgaagttaactttgattccattctttggtttgtctgccatgatgtatacattatgtgagttatagttgtattccattttgtgtccaagaatgtttccatcttctttaaaatcaataccttttaactcgattctattaacaagggtatcaccttcaaacttgacttcagcacgtgtcttgtagttcccgtcatctttgtaaaatatagttctttcctgtacataaccttcgggcatggcactcttgaaaaagtcatgctgtttcatatgatctgggtatcttgaaaagcattgaacaccataagagaaagtagtgacaagtgttggccatggaacaggtagcttcccagtagtgcaaataaatttaagggtaagttttccgtatgttgcatcaccttcaccctctccactgacagagaatttttgcccattaacatcgccatctaattcaacaagaattgggacaactccagtgaaaagttcttctcctttactcatctttgttatcttttattcgtgtgta\"\n",
    "template_strand"
   ]
  },
  {
   "cell_type": "markdown",
   "metadata": {
    "id": "0otoHvRxo-v-"
   },
   "source": [
    "<font color = #d14d0f>**QUESTION 1**:</font> How many nucleotides long is the GFP template strand? (1 point)\n",
    ">*Hint:<br>- The built-in function `len(__)` could be useful.*\n",
    "<br> - Use the code cell below."
   ]
  },
  {
   "cell_type": "code",
   "execution_count": 3,
   "metadata": {
    "id": "JTjzHvT9o-v-"
   },
   "outputs": [
    {
     "name": "stdout",
     "output_type": "stream",
     "text": [
      "The GFP sequence is 922 nucleotides long.\n"
     ]
    }
   ],
   "source": [
    "# Question 1 -- YOUR CODE HERE\n",
    "gfp_length = len(template_strand)\n",
    "\n",
    "print(f\"The GFP sequence is {gfp_length} nucleotides long.\")"
   ]
  },
  {
   "cell_type": "markdown",
   "metadata": {
    "id": "XmJhFgz4o-v_"
   },
   "source": [
    "<font color = #d14d0f>**QUESTION 2a**:</font> What is the percentage of adenosine (a) nucleotides in the GFP template strand? How about guanine? Thymine? Cytosine? Fill in the skeleton code below. (4 points)\n",
    ">*Hint:<br>- Think about iteration and how we can use it throught the specific variable we want.*"
   ]
  },
  {
   "cell_type": "code",
   "execution_count": 4,
   "metadata": {
    "id": "C8EOjiJDo-v_"
   },
   "outputs": [
    {
     "name": "stdout",
     "output_type": "stream",
     "text": [
      "The sequence is 28.850325379609544% A\n",
      "The sequence is 34.924078091106296% T\n",
      "The sequence is 17.787418655097614% G\n",
      "The sequence is 18.43817787418655% C\n"
     ]
    }
   ],
   "source": [
    "# Question 2a -- YOUR CODE HERE\n",
    "# Intialize variables that will represent the counts of each nucleotide.\n",
    "adenosine = 0\n",
    "thymine = 0\n",
    "guanine = 0\n",
    "cytosine = 0\n",
    "\n",
    "# Iterate through the template strand string using a for loop and conditional statements. What happens when it recognizes a nucleotide?\n",
    "for character in template_strand:\n",
    "  if character == 'a':\n",
    "    adenosine += 1\n",
    "  elif character == 't':\n",
    "    thymine += 1\n",
    "  elif character == 'g':\n",
    "    guanine += 1\n",
    "  elif character == 'c':\n",
    "    cytosine += 1\n",
    "\n",
    "#Let's get the length of the string to calculate the percent\n",
    "length = len(template_strand)\n",
    "\n",
    "#Use the nucleotide counts and the total length of the sequence to calculate the nucleotide percentages (NOT fractions). \n",
    "percentage_adenosine = adenosine / length * 100\n",
    "percentage_thymine = thymine / length * 100\n",
    "percentage_guanine = guanine / length * 100\n",
    "percentage_cytosine = cytosine / length * 100\n",
    "\n",
    "print(f\"The sequence is {percentage_adenosine}% A\")\n",
    "print(f\"The sequence is {percentage_thymine}% T\")\n",
    "print(f\"The sequence is {percentage_guanine}% G\")\n",
    "print(f\"The sequence is {percentage_cytosine}% C\")"
   ]
  },
  {
   "cell_type": "markdown",
   "metadata": {},
   "source": [
    "Notice how the percentages you calculated in the previous equation show a large number of seemingly significant figures. Considering the length of our GFP sequence, this is not an appropriate number of significant figures to report the nucleotide frequencies.\n",
    "\n",
    "<font color = #d14d0f>**QUESTION 2b**:</font> Use `np.round(float, number_of_decimal_places)` to round each of the percentages calculated in Question 2a to an appropriate number of decimal places. (2 points)\n",
    "\n",
    "> - The new percentages should have the same number of significant figures as the length of the GFP sequence.<br>\n",
    "> - You must use the variables `percentage_adenosine`, `percentage_thymine`, `percentage_guanine`, and `percentage_cytosine`, instead of copy and pasting the float values directly."
   ]
  },
  {
   "cell_type": "code",
   "execution_count": 5,
   "metadata": {},
   "outputs": [
    {
     "name": "stdout",
     "output_type": "stream",
     "text": [
      "The sequence is 28.85% A\n",
      "The sequence is 34.92% T\n",
      "The sequence is 17.79% G\n",
      "The sequence is 18.44% C\n",
      "Sanity check sum: 100.0\n"
     ]
    }
   ],
   "source": [
    "# YOUR CODE HERE\n",
    "percentage_adenosine_sigfig = round(percentage_adenosine, 2)\n",
    "percentage_thymine_sigfig = round(percentage_thymine, 2)\n",
    "percentage_guanine_sigfig = round(percentage_guanine, 2)\n",
    "percentage_cytosine_sigfig = round(percentage_cytosine, 2)\n",
    "\n",
    "#DO NOT CHANGE THIS CODE\n",
    "print(f\"The sequence is {percentage_adenosine_sigfig}% A\")\n",
    "print(f\"The sequence is {percentage_thymine_sigfig}% T\")\n",
    "print(f\"The sequence is {percentage_guanine_sigfig}% G\")\n",
    "print(f\"The sequence is {percentage_cytosine_sigfig}% C\")\n",
    "\n",
    "print(f\"Sanity check sum: {percentage_adenosine_sigfig + percentage_thymine_sigfig + percentage_guanine_sigfig + percentage_cytosine_sigfig}\")"
   ]
  },
  {
   "cell_type": "markdown",
   "metadata": {},
   "source": [
    "The GC content of DNA is the proportion of guanine and cytosine bases as a fraction of all bases. It is an important statistic for several reasons. The GC content of DNA influences the stability of the DNA molecule, as G-C pairs form stronger bonds than A-T pairs, leading to greater stability in high GC regions. This impacts DNA's melting temperature, replication, and transcription, especially since high GC areas can form complex structures. Moreover, GC content varies across different organisms and affects gene regulation (in both DNA and RNA) and expression. In biotechnological applications, such as PCR primer design, GC content is vital for determining specificity and efficiency. It is also used to understand horizontal gene transfer.\n",
    "\n",
    "\n",
    "<font color = #d14d0f>**QUESTION 3**:</font> Build a function `gc_content` that calculates the GC content (as a percentage) of an input sequence. It should report the GC content to 1 decimal place. Then, call the function to calculate the GC content of the GFP template strand. (3 points)\n",
    ">*Hint:<br>- Feel free to use an approach similar to Question 2, or your own approach.*"
   ]
  },
  {
   "cell_type": "code",
   "execution_count": 6,
   "metadata": {},
   "outputs": [
    {
     "name": "stdout",
     "output_type": "stream",
     "text": [
      "The GC content of GFP is 36.2%.\n"
     ]
    }
   ],
   "source": [
    "# Question 3 -- YOUR CODE HERE\n",
    "def gc_content(sequence):\n",
    "    g_content = sequence.count('g')\n",
    "    c_content = sequence.count('c')\n",
    "    length = len(sequence)\n",
    "    gc_content = (g_content + c_content) / length * 100\n",
    "    return np.round(gc_content, 1)\n",
    "\n",
    "gc_content_gfp = gc_content(template_strand)\n",
    "\n",
    "print(f\"The GC content of GFP is {gc_content_gfp}%.\")"
   ]
  },
  {
   "cell_type": "markdown",
   "metadata": {
    "id": "0nkCIayEo-wA"
   },
   "source": [
    "***\n",
    "## 2. Transcription"
   ]
  },
  {
   "cell_type": "markdown",
   "metadata": {
    "id": "HK104Ubko-wA"
   },
   "source": [
    "<font color = #d14d0f>**QUESTION 4a**:</font> Now, we would like to computationally transcribe the GFP template strand into mRNA. First, create a dictionary called `base_pairs` to pair the 4 DNA nucleotides with their complementary RNA nucleotides for transcription purposes. (2 points)\n",
    "> - Hint: Keep in mind that RNA does not have exactly the same nucleotide bases as DNA."
   ]
  },
  {
   "cell_type": "markdown",
   "metadata": {
    "id": "J_ozlubooZcF"
   },
   "source": [
    "<div>\n",
    "<img src=\"images/base_pairs.jpg\" alt=\"Base Pairs mRNA\"\n",
    "     style=\"width:475px;height:225px;\">\n",
    "</div>"
   ]
  },
  {
   "cell_type": "code",
   "execution_count": 7,
   "metadata": {
    "id": "yweIos9Io-wA"
   },
   "outputs": [],
   "source": [
    "# Question 4a -- YOUR CODE HERE\n",
    "\n",
    "base_pairs = {\n",
    "    \"g\": \"c\" ,\n",
    "    \"c\": \"g\" ,\n",
    "    \"a\": \"t\" ,\n",
    "    \"t\": \"a\" ,\n",
    "}"
   ]
  },
  {
   "cell_type": "markdown",
   "metadata": {
    "id": "7ol0qhkco-wB"
   },
   "source": [
    "<font color = #d14d0f>**QUESTION 4b**:</font> Now, write a function `transcribe()` that takes a DNA template strand sequence (**5'-> 3'**) and outputs the resulting mRNA transcript (**5'->3'**) that is produced. (5 points)\n",
    ">Hint:\n",
    "<br>- **Strand direction is very important in this question.** What is the directional relationship between the template strand and mRNA transcript?\n",
    "<br>- There are a many possible approaches to this question. In one approach, you could try implementing a for loop and the dictionary method `.get()`. Feel free to use your own approach and as many lines of code as you need.\n",
    "<br>- You can check your work by looking at the printed result of `q4b_check`, which transcribes an input sequence of `'atcg'`. What do you expect it to output if your function works correctly?"
   ]
  },
  {
   "cell_type": "code",
   "execution_count": 8,
   "metadata": {
    "id": "AByvxUKWo-wB"
   },
   "outputs": [
    {
     "name": "stdout",
     "output_type": "stream",
     "text": [
      "cgau\n"
     ]
    }
   ],
   "source": [
    "# Question 4b -- YOUR CODE HERE\n",
    "def transcribe(seq):\n",
    "    # Initialize an empty string to store the transcribed sequence\n",
    "    transcribed_seq = \"\"\n",
    "    \n",
    "    # Iterate through the input sequence and use the base_pairs\n",
    "    for nucleotide in seq:\n",
    "        transcribed_seq += base_pairs[nucleotide]\n",
    "\n",
    "    # For each t nucleotide in the transcribe sequence, replace it with a u\n",
    "    transcribed_seq = transcribed_seq.replace(\"t\", \"u\")\n",
    "    reversed_transcribed_seq = transcribed_seq[::-1]\n",
    "    return reversed_transcribed_seq\n",
    "\n",
    "#DO NOT CHANGE THIS CODE - this is for you to check that your function is working the way you expect it to\n",
    "q4b_check = transcribe(\"atcg\")\n",
    "print(q4b_check)"
   ]
  },
  {
   "cell_type": "markdown",
   "metadata": {},
   "source": [
    "**Converting from template strand (5' -> 3') to mRNA transcript (5' -> 3')**\n",
    "\n",
    "Given a template strand \"atcg\" in the 5' to 3' direction, we first get the complement.\n",
    "The complement is \"tagc\". In mRNA, uracil (U) replaces thymine (T), so we convert all T's to U's, resulting in \"uagc\".\n",
    "\n",
    "However, mRNA is synthesized in the 5' to 3' direction, so we reverse the entire string to get \"cgau\".\n",
    "Why? The directional relationship between the template strand and the mRNA is that they are antiparallel:\n",
    "\n",
    "In the mRNA transcription process, the \"template strand\" refers to the strand of DNA that RNA polymerase directly reads and uses as a template to build the complementary mRNA molecule. The template strand runs in the 3' to 5' direction, allowing the new mRNA strand to be synthesized in the 5' to 3' direction. Essentially, the template strand provides the sequence information for the mRNA transcript.\n",
    "\n",
    "**Detailed Steps:**\n",
    "\n",
    "Complementary Base Pairing: The DNA template strand is read in the 3' to 5' direction by RNA polymerase. The enzyme synthesizes the mRNA strand in the 5' to 3' direction by adding complementary RNA nucleotides. For example, if the DNA template strand has an adenine (A), the RNA polymerase adds a uracil (U) to the mRNA strand.\n",
    "Uracil Replacement: In RNA, uracil (U) replaces thymine (T). So, wherever there is a thymine in the DNA template, it is replaced by uracil in the mRNA.\n",
    "Antiparallel Nature: The mRNA strand is antiparallel to the DNA template strand. This means that if the DNA template strand is read from 3' to 5', the mRNA strand is synthesized from 5' to 3'.\n",
    "\n",
    "Reversing the Sequence: Since the template strand is given in the 5' to 3' direction, we need to reverse it to get the correct mRNA sequence in the 5' to 3' direction.\n",
    "By following these steps, we ensure that the mRNA transcript accurately reflects the genetic information encoded in the DNA template strand."
   ]
  },
  {
   "cell_type": "markdown",
   "metadata": {
    "id": "aTkP0_yjo-wB"
   },
   "source": [
    "<font color = #d14d0f>**QUESTION 5**:</font> Now let's put to use the `transcribe` function we just defined in Question 4. We want to obtain the mRNA sequence (5' -> 3') from the `template_strand` (5' -> 3') of the GFP gene. Save the final mRNA sequence as a string called `mrna`. (1 point)"
   ]
  },
  {
   "cell_type": "code",
   "execution_count": 9,
   "metadata": {
    "id": "GhIWR31Yo-wB"
   },
   "outputs": [
    {
     "data": {
      "text/plain": [
       "'uacacacgaauaaaagauaacaaagaugaguaaaggagaagaacuuuucacuggaguugucccaauucuuguugaauuagauggcgauguuaaugggcaaaaauucucugucaguggagagggugaaggugaugcaacauacggaaaacuuacccuuaaauuuauuugcacuacugggaagcuaccuguuccauggccaacacuugucacuacuuucucuuaugguguucaaugcuuuucaagauacccagaucauaugaaacagcaugacuuuuucaagagugccaugcccgaagguuauguacaggaaagaacuauauuuuacaaagaugacgggaacuacaagacacgugcugaagucaaguuugaaggugauacccuuguuaauagaaucgaguuaaaagguauugauuuuaaagaagauggaaacauucuuggacacaaaauggaauacaacuauaacucacauaauguauacaucauggcagacaaaccaaagaauggaaucaaaguuaacuucaaaauuagacacaacauuaaagauggaagcguucaauuagcagaccauuaucaacaaaauacuccaauuggcgauggcccuguccuuuuaccagacaaccauuaccuguccacacaaucugcccuuuccaaagaucccaacgaaaagagagaucacaugauccuucuugaguuuguaacagcugcugggauuacacauggcauggaugaacuauacaaauaaauguccagacuuccaauugacacuaaaguguccgaacaauuacuaaauucucaggguuccugguuaaauucaggcugagacuuuauuuauauauuuauagauucauuaaaauuuuaugaauaauuuauugauguuauuaauaggggcuauuuucuuauuaaauaggcuacuggaguguau'"
      ]
     },
     "execution_count": 9,
     "metadata": {},
     "output_type": "execute_result"
    }
   ],
   "source": [
    "# Question 5 -- YOUR CODE HERE\n",
    "\n",
    "mrna = transcribe(template_strand)\n",
    "mrna"
   ]
  },
  {
   "cell_type": "markdown",
   "metadata": {
    "id": "4y-zWQlIo-wB"
   },
   "source": [
    "***\n",
    "## 3. Open Reading Frame\n",
    "\n",
    "An Open Reading Frame (ORF) is a continuous stretch of DNA that begins with a start codon and ends with a stop codon. This sequence of DNA has the potential to be translated into a protein. ORFs are significant in molecular biology and genetics because they represent regions of a gene that can encode a protein. The identification of ORFs is crucial in genomic studies and bioinformatics, as it helps in predicting the presence and structure of genes in a DNA sequence. The presence of an ORF in a DNA sequence does not guarantee that it will be expressed into a functional protein, but it is a strong indicator of a gene's coding potential. \n",
    "\n",
    "In the case of GFP, the first ORF is the one that codes for the GFP protein. DNA may have multiple ORFs.\n",
    "\n",
    "\n",
    "<font color = #d14d0f>**QUESTION 6a**:</font> For this question, we will take a step-by-step approach to find the first open reading frame (ORF) of our transcript. First, fill in the code below to assign appropriate codons to `start_codon` and `stop_codons`. (2 points)\n",
    "\n",
    ">Hint:<br>- `start_codon` should be one codon, as a string. `stop_codons` should be a list of three codon strings. <br>- Make sure your codons are written in lowercase."
   ]
  },
  {
   "cell_type": "code",
   "execution_count": 10,
   "metadata": {},
   "outputs": [],
   "source": [
    "#Question 6a -- YOUR CODE HERE\n",
    "start_codon = \"aug\"\n",
    "stop_codons = [\"uaa\", \"uag\", \"uga\"]"
   ]
  },
  {
   "cell_type": "markdown",
   "metadata": {},
   "source": [
    "**What are codons?**\n",
    "AUG is the universal start codon in mRNA translation and it signals the beginning of translation and codes for the amino acid methionine (Met). This is the codon that the ribosome recognizes to start the protein synthesis\n",
    "\n",
    "stop codons signal the termination of translation in mRNA. There are 3 stop codons:\n",
    "1. UAA\n",
    "2. UAG\n",
    "3. UGA\n",
    "\n",
    "stop codons do not code for any amino acid so when the ribosome encounters one of them it stops translation"
   ]
  },
  {
   "cell_type": "markdown",
   "metadata": {},
   "source": [
    "<font color = #d14d0f>**QUESTION 6b**:</font> Assign the index of the first RNA nucleotide in the first start codon in the mRNA transcript to `start_codon_index`. (2 points)\n",
    "\n",
    ">Hint:<br>- Consider using the `.find` string method. <br> - For example, if our mRNA transcript was \"ggaugcg\", `start_codon_index` should be 2."
   ]
  },
  {
   "cell_type": "code",
   "execution_count": 11,
   "metadata": {},
   "outputs": [
    {
     "data": {
      "text/plain": [
       "25"
      ]
     },
     "execution_count": 11,
     "metadata": {},
     "output_type": "execute_result"
    }
   ],
   "source": [
    "# Question 6b -- YOUR CODE HERE\n",
    "start_codon_index = mrna.find(start_codon)\n",
    "start_codon_index"
   ]
  },
  {
   "cell_type": "markdown",
   "metadata": {},
   "source": [
    "<font color = #d14d0f>**QUESTION 6c**:</font> Use Python string splicing to remove the 5' UTR of the mRNA transcript. The UTR is the untranscribed region before the first coding nucleotides. The variable `mrna_start` should be a string that begins with the start codon and includes the remainder of the `mrna` transcript. (2 points)"
   ]
  },
  {
   "cell_type": "code",
   "execution_count": 12,
   "metadata": {},
   "outputs": [
    {
     "data": {
      "text/plain": [
       "'augaguaaaggagaagaacuuuucacuggaguugucccaauucuuguugaauuagauggcgauguuaaugggcaaaaauucucugucaguggagagggugaaggugaugcaacauacggaaaacuuacccuuaaauuuauuugcacuacugggaagcuaccuguuccauggccaacacuugucacuacuuucucuuaugguguucaaugcuuuucaagauacccagaucauaugaaacagcaugacuuuuucaagagugccaugcccgaagguuauguacaggaaagaacuauauuuuacaaagaugacgggaacuacaagacacgugcugaagucaaguuugaaggugauacccuuguuaauagaaucgaguuaaaagguauugauuuuaaagaagauggaaacauucuuggacacaaaauggaauacaacuauaacucacauaauguauacaucauggcagacaaaccaaagaauggaaucaaaguuaacuucaaaauuagacacaacauuaaagauggaagcguucaauuagcagaccauuaucaacaaaauacuccaauuggcgauggcccuguccuuuuaccagacaaccauuaccuguccacacaaucugcccuuuccaaagaucccaacgaaaagagagaucacaugauccuucuugaguuuguaacagcugcugggauuacacauggcauggaugaacuauacaaauaaauguccagacuuccaauugacacuaaaguguccgaacaauuacuaaauucucaggguuccugguuaaauucaggcugagacuuuauuuauauauuuauagauucauuaaaauuuuaugaauaauuuauugauguuauuaauaggggcuauuuucuuauuaaauaggcuacuggaguguau'"
      ]
     },
     "execution_count": 12,
     "metadata": {},
     "output_type": "execute_result"
    }
   ],
   "source": [
    "#Question 6c -- YOUR CODE HERE\n",
    "spliced_mrna = mrna[start_codon_index:]\n",
    "spliced_mrna"
   ]
  },
  {
   "cell_type": "markdown",
   "metadata": {},
   "source": [
    "The Untranslated Regions (UTRs) are sections of an mRNA transcript that are not translated into protein and they play crucial regulatory roles in gene expression. There are two types of UTRs:\n",
    "\n",
    "1. 5' UTR (Five-Prime Untranslated Region)\n",
    "    - This is the region before the start codon (\"AUG\")\n",
    "    - Located at the beginning (5' end) of the mRNA\n",
    "    - regulates translation efficiency which then in turn affectrs how well the ribosome binds to the mRNA\n",
    "    - in prokaryotes, it also contains this sequence called the Shine-Dalgarno sequencve whcih helps ribosome bind to the mRNA\n",
    "    - in eukaryotes, the Kozak sequence near the start codon helps translation initiation\n",
    "\n",
    "2. 3' UTR (Three-Prime Untranslated Region)\n",
    "    - region after the stop codon\n",
    "    - it is located at the end (3' end) of the mRNA\n",
    "    - helps mRNA stability, translation regulation and localization\n",
    "\n",
    "Overall UTRs help with:\n",
    "\n",
    "- Regulate Translation efficiency -> How much protein is produced\n",
    "- mRNA Stability -> the 3' UTR especially the poly(A) tail protects the mRNA from being degraded too quickly\n",
    "- Localization -> Some 3' UTR sequences help direct the mRNA to specific parts of the cell"
   ]
  },
  {
   "cell_type": "markdown",
   "metadata": {},
   "source": [
    "<font color = #d14d0f>**QUESTION 6d**:</font> In Question 6b and 6c, we identified the first start codon in the mRNA transcript and removed the 5' UTR of the transcript so that it begins at the start codon. However, to find the terminal end of the transcript, we cannot simply search for a stop codon anywhere in the sequence and remove the 3' UTR of the transcript by removing all sequences after the stop codon. Provide two reasons why repeating the same coding approach would not work. (2 points)"
   ]
  },
  {
   "cell_type": "markdown",
   "metadata": {},
   "source": [
    "**Reason 1:** In a mRNA sequence, stop codons can appear randomly in different reading frames outside of our actual mRNA transcript. If we simply search for the first occurence of a stop codon anywhere in the sequence, we might mistakenly \"cut\" the mRNA too early before the actual protein-coding region is fully translated ultimately leading to a truncated protein that lacks essential functional domains. As a side note, these \"premature\" stop codons exists due to mutations or even sequencing errors. \n",
    "\n",
    "**Reason 2:** Translation occurs in sets of codons starting from the first start codon (AUG). Basically, the correct stop codon must be in the same reading frame as this start codon. If we scan for stop codons without ensuring they align with the same reading frame as the start codon, we might accidentaly select a stop codon that appears in different reading frame. Ultimately this too leads to a premature termination of translation or even too late."
   ]
  },
  {
   "cell_type": "markdown",
   "metadata": {},
   "source": [
    "<font color = #d14d0f>**QUESTION 6e**:</font> Build a function called `codon_split` that converts a string into a list of triplet codons (as strings). Then, use the function to convert `mrna_start` into a list of codons, and assign it to the variable `codons_orf`. (5 points)\n",
    "\n",
    "> - Any leftover sequence that cannot form a complete codon should be excluded.\n",
    "> - For example, `codon_split(\"acgcgagca\")` should output `[\"acg\", \"cga\", \"gca\"]` and `codon_split(\"acgcgagc\")` should output `[\"acg\", \"cga\"]`.\n",
    "> - There are many different ways to approach this problem. You do not have to follow the skeleton code if you prefer to use another method to achieve the same result."
   ]
  },
  {
   "cell_type": "code",
   "execution_count": 13,
   "metadata": {},
   "outputs": [
    {
     "name": "stdout",
     "output_type": "stream",
     "text": [
      "['acg', 'cga', 'gca']\n",
      "['acg', 'cga']\n",
      "uac\n"
     ]
    }
   ],
   "source": [
    "# Question 6d -- YOUR CODE HERE\n",
    "\n",
    "def codon_split(sequence):\n",
    "    codons = []\n",
    "    for i in range(0, len(sequence), 3):\n",
    "        codon = sequence[i:i+3]\n",
    "        if len(codon) < 3:\n",
    "            break\n",
    "        codons.append(codon)\n",
    "    return codons\n",
    "\n",
    "codons_orf = codon_split(spliced_mrna)\n",
    "\n",
    "#DO NOT CHANGE THIS CODE\n",
    "print(codon_split(\"acgcgagca\"))\n",
    "print(codon_split(\"acgcgagc\"))\n",
    "try:\n",
    "    print(codons_orf[len(codons_orf)//3]) #GRADER TEST\n",
    "except:\n",
    "    print(\"N/A\")"
   ]
  },
  {
   "cell_type": "markdown",
   "metadata": {},
   "source": [
    "<font color = #d14d0f>**QUESTION 6f**:</font> Assign the Open Reading Frame of the mrna as a string to `mrna_frame`. The template skeleton approach below involves adding string codons to `mrna_frame` until a stop codon is read. The final transcript should include both the start and stop codon. You do not have to follow the skeleton code if you have an alternative approach. (4 points)"
   ]
  },
  {
   "cell_type": "code",
   "execution_count": 14,
   "metadata": {
    "id": "D063ZeQro-wC"
   },
   "outputs": [
    {
     "name": "stdout",
     "output_type": "stream",
     "text": [
      "augaguaaaggagaagaacuuuucacuggaguugucccaauucuuguugaauuagauggcgauguuaaugggcaaaaauucucugucaguggagagggugaaggugaugcaacauacggaaaacuuacccuuaaauuuauuugcacuacugggaagcuaccuguuccauggccaacacuugucacuacuuucucuuaugguguucaaugcuuuucaagauacccagaucauaugaaacagcaugacuuuuucaagagugccaugcccgaagguuauguacaggaaagaacuauauuuuacaaagaugacgggaacuacaagacacgugcugaagucaaguuugaaggugauacccuuguuaauagaaucgaguuaaaagguauugauuuuaaagaagauggaaacauucuuggacacaaaauggaauacaacuauaacucacauaauguauacaucauggcagacaaaccaaagaauggaaucaaaguuaacuucaaaauuagacacaacauuaaagauggaagcguucaauuagcagaccauuaucaacaaaauacuccaauuggcgauggcccuguccuuuuaccagacaaccauuaccuguccacacaaucugcccuuuccaaagaucccaacgaaaagagagaucacaugauccuucuugaguuuguaacagcugcugggauuacacauggcauggaugaacuauacaaauaa\n",
      "\n",
      "aug uaa\n",
      "\n",
      "cacua\n"
     ]
    }
   ],
   "source": [
    "# Question 6e -- YOUR CODE HERE\n",
    "\n",
    "mrna_frame = \"\"\n",
    "\n",
    "# this might be problematic I think if codons_orf is empty and will error I believe\n",
    "for codon in codons_orf:\n",
    "    mrna_frame += codon\n",
    "    if codon in stop_codons:\n",
    "        break     #break causes the code to exit the for loop\n",
    "\n",
    "#DO NOT CHANGE THIS CODE \n",
    "print(mrna_frame)\n",
    "print()\n",
    "print(mrna_frame[:3], mrna_frame[-3:])\n",
    "print()\n",
    "print(mrna_frame[len(mrna_frame)//5: len(mrna_frame)//5 + 5]) #GRADER TEST"
   ]
  },
  {
   "cell_type": "markdown",
   "metadata": {},
   "source": [
    "<font color = #d14d0f>**QUESTION 6g**:</font> Finally, combine your code from Question 6b - 6g to create the function `orf(seq)`. It should take in a 5' -> 3' mRNA sequence in upper or lower case and then return the corresponding Open Reading Frame (including the start and stop codons) of the sequence in lowercase letters. In addition, it should be able to accept a sequence of uppercase or lowercase nucleotides. (4 points)\n",
    "\n",
    "> Hint: <br>- You can use `string.upper()` to convert every character in a string to upper case, or `string.lower()` to convert every character in a string to lowercase."
   ]
  },
  {
   "cell_type": "code",
   "execution_count": 15,
   "metadata": {},
   "outputs": [
    {
     "name": "stdout",
     "output_type": "stream",
     "text": [
      "Do orf(mrna) and mrna_frame output the same ORF?  True\n",
      "Does orf accept both uppercase and lowercase?  True\n",
      "Does orf return a lowercase string? True\n"
     ]
    }
   ],
   "source": [
    "# Question 6g - YOUR CODE HERE\n",
    "def orf(seq):\n",
    "    seq = seq.lower()\n",
    "    start_codon = \"aug\"\n",
    "    stop_codons = [\"uaa\", \"uag\", \"uga\"]\n",
    "\n",
    "    start_codon_index = seq.find(start_codon)\n",
    "    spliced_seq = seq[start_codon_index:]\n",
    "\n",
    "    codons = codon_split(spliced_seq)\n",
    "    orf_seq = \"\"\n",
    "\n",
    "    for codon in codons:\n",
    "        orf_seq += codon\n",
    "        if codon in stop_codons:\n",
    "            break\n",
    "        \n",
    "    return orf_seq\n",
    "\n",
    "\n",
    "#DO NOT CHANGE THIS CODE \n",
    "orf_mrna = orf(mrna)\n",
    "print(\"Do orf(mrna) and mrna_frame output the same ORF? \", orf_mrna == mrna_frame)\n",
    "print(\"Does orf accept both uppercase and lowercase? \", orf(mrna.upper()) == orf(mrna.lower()))\n",
    "print(\"Does orf return a lowercase string?\", orf_mrna.islower())"
   ]
  },
  {
   "cell_type": "markdown",
   "metadata": {
    "id": "H9loU7vVo-wC"
   },
   "source": [
    "***\n",
    "## 4. Translation"
   ]
  },
  {
   "cell_type": "markdown",
   "metadata": {
    "id": "8dd2STAGo-wC"
   },
   "source": [
    "**Finally, for the last part of the central dogma, we will translate our mRNA into an amino acid sequence.**\n",
    "\n",
    "The standard \"universal\" codon translation table is in the dictionary below. The keys of this dictionary are the 3-nucleotides long codons and corresponding values are the one-letter symbols of the amino acids they code for. Notice that the dictionary is in uppercase.\n",
    "\n",
    "Be sure to **run the cell below** so the `codon_table` variable gets defined."
   ]
  },
  {
   "cell_type": "code",
   "execution_count": 16,
   "metadata": {
    "id": "49YZiw7ro-wC"
   },
   "outputs": [],
   "source": [
    "codon_table = {\n",
    "    'AUA':'I', 'AUC':'I', 'AUU':'I', 'AUG':'M',\n",
    "    'ACA':'T', 'ACC':'T', 'ACG':'T', 'ACU':'T',\n",
    "    'AAC':'N', 'AAU':'N', 'AAA':'K', 'AAG':'K',\n",
    "    'AGC':'S', 'AGU':'S', 'AGA':'R', 'AGG':'R',\n",
    "    'CUA':'L', 'CUC':'L', 'CUG':'L', 'CUU':'L',\n",
    "    'CCA':'P', 'CCC':'P', 'CCG':'P', 'CCU':'P',\n",
    "    'CAC':'H', 'CAU':'H', 'CAA':'Q', 'CAG':'Q',\n",
    "    'CGA':'R', 'CGC':'R', 'CGG':'R', 'CGU':'R',\n",
    "    'GUA':'V', 'GUC':'V', 'GUG':'V', 'GUU':'V',\n",
    "    'GCA':'A', 'GCC':'A', 'GCG':'A', 'GCU':'A',\n",
    "    'GAC':'D', 'GAU':'D', 'GAA':'E', 'GAG':'E',\n",
    "    'GGA':'G', 'GGC':'G', 'GGG':'G', 'GGU':'G',\n",
    "    'UCA':'S', 'UCC':'S', 'UCG':'S', 'UCU':'S',\n",
    "    'UUC':'F', 'UUU':'F', 'UUA':'L', 'UUG':'L',\n",
    "    'UAC':'Y', 'UAU':'Y', 'UAA':'', 'UAG':'',\n",
    "    'UGC':'C', 'UGU':'C', 'UGA':'', 'UGG':'W'}"
   ]
  },
  {
   "cell_type": "markdown",
   "metadata": {
    "id": "Htf7d7P3o-wD"
   },
   "source": [
    "\n",
    "<font color = #d14d0f>**QUESTION 7**:</font> Use the previous `codon_split` function to convert the mRNA open reading frame into a list of **uppercase** codon strings. (2 points)\n",
    ">*Hint:<br>- You can use `string.upper()` to convert each character of the string to upper case.*\n"
   ]
  },
  {
   "cell_type": "code",
   "execution_count": 17,
   "metadata": {
    "id": "4z5lfNOVo-wD"
   },
   "outputs": [
    {
     "name": "stdout",
     "output_type": "stream",
     "text": [
      "['AUG', 'AGU', 'AAA', 'GGA', 'GAA', 'GAA', 'CUU', 'UUC', 'ACU', 'GGA', 'GUU', 'GUC', 'CCA', 'AUU', 'CUU', 'GUU', 'GAA', 'UUA', 'GAU', 'GGC', 'GAU', 'GUU', 'AAU', 'GGG', 'CAA', 'AAA', 'UUC', 'UCU', 'GUC', 'AGU', 'GGA', 'GAG', 'GGU', 'GAA', 'GGU', 'GAU', 'GCA', 'ACA', 'UAC', 'GGA', 'AAA', 'CUU', 'ACC', 'CUU', 'AAA', 'UUU', 'AUU', 'UGC', 'ACU', 'ACU', 'GGG', 'AAG', 'CUA', 'CCU', 'GUU', 'CCA', 'UGG', 'CCA', 'ACA', 'CUU', 'GUC', 'ACU', 'ACU', 'UUC', 'UCU', 'UAU', 'GGU', 'GUU', 'CAA', 'UGC', 'UUU', 'UCA', 'AGA', 'UAC', 'CCA', 'GAU', 'CAU', 'AUG', 'AAA', 'CAG', 'CAU', 'GAC', 'UUU', 'UUC', 'AAG', 'AGU', 'GCC', 'AUG', 'CCC', 'GAA', 'GGU', 'UAU', 'GUA', 'CAG', 'GAA', 'AGA', 'ACU', 'AUA', 'UUU', 'UAC', 'AAA', 'GAU', 'GAC', 'GGG', 'AAC', 'UAC', 'AAG', 'ACA', 'CGU', 'GCU', 'GAA', 'GUC', 'AAG', 'UUU', 'GAA', 'GGU', 'GAU', 'ACC', 'CUU', 'GUU', 'AAU', 'AGA', 'AUC', 'GAG', 'UUA', 'AAA', 'GGU', 'AUU', 'GAU', 'UUU', 'AAA', 'GAA', 'GAU', 'GGA', 'AAC', 'AUU', 'CUU', 'GGA', 'CAC', 'AAA', 'AUG', 'GAA', 'UAC', 'AAC', 'UAU', 'AAC', 'UCA', 'CAU', 'AAU', 'GUA', 'UAC', 'AUC', 'AUG', 'GCA', 'GAC', 'AAA', 'CCA', 'AAG', 'AAU', 'GGA', 'AUC', 'AAA', 'GUU', 'AAC', 'UUC', 'AAA', 'AUU', 'AGA', 'CAC', 'AAC', 'AUU', 'AAA', 'GAU', 'GGA', 'AGC', 'GUU', 'CAA', 'UUA', 'GCA', 'GAC', 'CAU', 'UAU', 'CAA', 'CAA', 'AAU', 'ACU', 'CCA', 'AUU', 'GGC', 'GAU', 'GGC', 'CCU', 'GUC', 'CUU', 'UUA', 'CCA', 'GAC', 'AAC', 'CAU', 'UAC', 'CUG', 'UCC', 'ACA', 'CAA', 'UCU', 'GCC', 'CUU', 'UCC', 'AAA', 'GAU', 'CCC', 'AAC', 'GAA', 'AAG', 'AGA', 'GAU', 'CAC', 'AUG', 'AUC', 'CUU', 'CUU', 'GAG', 'UUU', 'GUA', 'ACA', 'GCU', 'GCU', 'GGG', 'AUU', 'ACA', 'CAU', 'GGC', 'AUG', 'GAU', 'GAA', 'CUA', 'UAC', 'AAA', 'UAA']\n"
     ]
    }
   ],
   "source": [
    "# Question 7 -- YOUR CODE HERE\n",
    "\n",
    "# Idk if I convoluted this way more than it should be but I get the feeling I did. well... at least it works haha\n",
    "codons = list(map(lambda x: x.upper(), codon_split(orf_mrna)))\n",
    "print(codons)"
   ]
  },
  {
   "cell_type": "markdown",
   "metadata": {
    "id": "uoJTy94Ro-wD"
   },
   "source": [
    "<font color = #d14d0f>**QUESTION 8a**:</font> Using the `codon_table` dictionary defined for you above Question 7, write a function `translate()` that takes in a (5'->3') string, `mrna`, and a codon `table` as inputs, and outputs the corresponding sequence of amino acids after translation in string form. There should not be any amino acid symbol for the stop codon. (5 points)"
   ]
  },
  {
   "cell_type": "code",
   "execution_count": 18,
   "metadata": {
    "id": "HDWERWl4o-wD"
   },
   "outputs": [],
   "source": [
    "# Question 8 -- YOUR CODE HERE\n",
    "def translate(mrna, table):\n",
    "    protein = \"\"\n",
    "    \n",
    "    # Ensure the mRNA is uppercase for consistency\n",
    "    mrna = mrna.upper()\n",
    "\n",
    "    # Split the mRNA sequence into codons\n",
    "    codons = codon_split(mrna)\n",
    "\n",
    "    # then we iterate through the codons and translate them into amino acids\n",
    "    for codon in codons:\n",
    "        if codon in table:\n",
    "            amino_acid = table[codon]\n",
    "            if amino_acid == \"\":\n",
    "                break\n",
    "            protein += amino_acid\n",
    "            \n",
    "    return protein\n",
    "\n"
   ]
  },
  {
   "cell_type": "code",
   "execution_count": 19,
   "metadata": {},
   "outputs": [
    {
     "name": "stdout",
     "output_type": "stream",
     "text": [
      "Q8a Test Case: Passed!\n"
     ]
    }
   ],
   "source": [
    "#DO NOT CHANGE THIS CELL, RUN THIS CELL TO CHECK YOUR CODE\n",
    "def q8a_check():\n",
    "    try:\n",
    "        if translate(\"augggaucggugacgggguaa\", codon_table) == \"MGSVTG\" and translate(\"ACGGAGUCGACG\", codon_table) == \"TEST\":\n",
    "            print(\"Q8a Test Case: Passed!\")\n",
    "        else:\n",
    "            print(\"Q8b Test Case 1: Failed. Your function is not translating correctly.\")\n",
    "    except:\n",
    "        print(\"Q8b Test Case 1: Failed. Your function is not translating correctly.\")\n",
    "q8a_check()"
   ]
  },
  {
   "cell_type": "markdown",
   "metadata": {},
   "source": [
    "<font color = #d14d0f>**QUESTION 8b**:</font> It is also good coding practice to include input validation for functions. Create a function `valid_mrna_check(input)`, which will output `True` if the input is a translatable mRNA strand, and `False` if it is not. Then, incorporate `valid_mrna_check` function into `translate_updated`, which will translate the mRNA if it is valid. If the mRNA is invalid, it will output `\"Error: Not Valid mRNA.\"` (6 points)\n",
    "\n",
    "> Hint:\n",
    "> - How long should a translatable mRNA sequence be? \n",
    "> - What characters are in an mRNA sequence?\n",
    "> - What should a translatable mRNA sequence start with and end with?"
   ]
  },
  {
   "cell_type": "markdown",
   "metadata": {},
   "source": [
    "**Valid mRNA Conditions**\n",
    "1. Length: It should be a multiple of 3 since we analyze in triplets of nucleotides (codons). Finally we start with a triplet, build in triplets and end with a triplet.\n",
    "2. every mRNA sequence contains the nucleotides A,U,G,C\n",
    "3. Every translatable mRNA must start with the start codon AUG and end with one of the stop codon [UAA, UAG, UGA]"
   ]
  },
  {
   "cell_type": "code",
   "execution_count": 20,
   "metadata": {},
   "outputs": [],
   "source": [
    "# YOUR CODE HERE\n",
    "def valid_mrna_check(string):\n",
    "    string = str(string).upper()\n",
    "    # check if the string contains valid nucleotides\n",
    "    valid_nucleotides = set(\"ACGU\")\n",
    "    if not set(string).issubset(valid_nucleotides):\n",
    "        return False\n",
    "    \n",
    "    # check if the string length is a multiple of 3\n",
    "    if len(string) % 3 != 0:\n",
    "        return False\n",
    "    \n",
    "    # Check if the start codon is AUG\n",
    "    if string[:3] != \"AUG\":\n",
    "        return False\n",
    "    \n",
    "    # Check if seq ends wuith stop codon\n",
    "    stop_codons = [\"UAA\", \"UAG\", \"UGA\"]\n",
    "    \n",
    "    if string[-3:] not in stop_codons:\n",
    "        return False\n",
    "\n",
    "    return True\n",
    "    \n",
    "    \n",
    "\n",
    "def translate_updated(mrna, table):\n",
    "    if not valid_mrna_check(mrna):\n",
    "        return \"Error: Not Valid mRNA\"\n",
    "    else:\n",
    "        return translate(mrna, table)"
   ]
  },
  {
   "cell_type": "code",
   "execution_count": 21,
   "metadata": {},
   "outputs": [
    {
     "data": {
      "text/plain": [
       "False"
      ]
     },
     "execution_count": 21,
     "metadata": {},
     "output_type": "execute_result"
    }
   ],
   "source": [
    "valid_mrna_check(12234)"
   ]
  },
  {
   "cell_type": "code",
   "execution_count": 22,
   "metadata": {},
   "outputs": [
    {
     "name": "stdout",
     "output_type": "stream",
     "text": [
      "Q8b Test Case 1: Passed.\n",
      "Q8b Test Case 2: Passed.\n",
      "Q8b Test Case 3: Passed.\n",
      "Q8b Test Case 4: Passed.\n"
     ]
    }
   ],
   "source": [
    "#DO NOT CHANGE THIS CELL, RUN THIS CELL TO CHECK YOUR CODE\n",
    "def q8b_check():\n",
    "    testcase1 = \"Q8b Test Case 1: Failed. What characters are in an mRNA sequence?\"\n",
    "    testcase2 = \"Q8b Test Case 2: Failed. What should a translatable mRNA sequence start with and end with?\"\n",
    "    testcase3 = \"Q8b Test Case 3: Failed. How long should a translatable mRNA sequence be?\"\n",
    "    testcase4 = \"Q8b Test Case 4: Failed. Your function/s are not recognizing valid mRNA sequences or translating them correctly.\"\n",
    "    try:\n",
    "        print(\"Q8b Test Case 1: Passed.\") if not any([valid_mrna_check(\"applebottomjeans\"), valid_mrna_check(12345), valid_mrna_check(\"#*!2-/kasjd\"), valid_mrna_check(\"atcggagttcag\")]) else print(testcase1)\n",
    "    except:\n",
    "        print(testcase1)\n",
    "    try:\n",
    "        print(\"Q8b Test Case 2: Passed.\") if not any([valid_mrna_check(\"aggacguag\"), valid_mrna_check(\"auggac\")]) else print(testcase2)\n",
    "    except:\n",
    "        print(testcase2)\n",
    "    try:\n",
    "        print(\"Q8b Test Case 3: Passed.\") if not any([valid_mrna_check(\"augcuag\"), valid_mrna_check(\"auggacaguggaug\")]) else print(testcase3)\n",
    "    except:\n",
    "        print(testcase3)        \n",
    "    try:\n",
    "        print(\"Q8b Test Case 4: Passed.\") if all([valid_mrna_check(\"auggcaggaguauag\"), valid_mrna_check(\"augggaucggugacgggguaa\"), translate_updated(\"augggaucggugacgggguaa\", codon_table) == \"MGSVTG\"]) else print(testcase4)\n",
    "    except:\n",
    "        print(testcase4)\n",
    "\n",
    "q8b_check()"
   ]
  },
  {
   "cell_type": "markdown",
   "metadata": {
    "id": "nQhGRKFho-wD"
   },
   "source": [
    "\n",
    "<font color = #d14d0f>**QUESTION 9**:</font> Determine the amino acid sequence from the GFP mRNA. Save the final amino acid sequence as a string to the variable `aa_seq`. (1 point)"
   ]
  },
  {
   "cell_type": "code",
   "execution_count": 23,
   "metadata": {
    "id": "0l1q1wRLo-wD"
   },
   "outputs": [
    {
     "data": {
      "text/plain": [
       "'MSKGEELFTGVVPILVELDGDVNGQKFSVSGEGEGDATYGKLTLKFICTTGKLPVPWPTLVTTFSYGVQCFSRYPDHMKQHDFFKSAMPEGYVQERTIFYKDDGNYKTRAEVKFEGDTLVNRIELKGIDFKEDGNILGHKMEYNYNSHNVYIMADKPKNGIKVNFKIRHNIKDGSVQLADHYQQNTPIGDGPVLLPDNHYLSTQSALSKDPNEKRDHMILLEFVTAAGITHGMDELYK'"
      ]
     },
     "execution_count": 23,
     "metadata": {},
     "output_type": "execute_result"
    }
   ],
   "source": [
    "# Question 9 -- YOUR CODE HERE\n",
    "aa_seq = translate_updated(orf_mrna, codon_table)\n",
    "aa_seq"
   ]
  },
  {
   "cell_type": "markdown",
   "metadata": {},
   "source": [
    "<font color = #d14d0f>**QUESTION 10**:</font> Finally, combine the transcription and translation code you have written throughout this assignment to build the function `translate_from_template(template_sequence)`. It should accept any 5' -> 3' DNA template strand, transcribe it into mRNA, determine the open reading frame, and then translate the mRNA into an amino acid sequence. (3 points)"
   ]
  },
  {
   "cell_type": "code",
   "execution_count": 24,
   "metadata": {},
   "outputs": [
    {
     "name": "stdout",
     "output_type": "stream",
     "text": [
      "Do translate_from_template(template_strand) and aa_seq output the same sequence?  True\n",
      "TESTYES\n"
     ]
    }
   ],
   "source": [
    "# Question 9 -- YOUR CODE HERE\n",
    "def translate_from_template(template_sequence):\n",
    "    mrna_seq = transcribe(template_sequence)\n",
    "    mrna_orf = orf(mrna_seq)\n",
    "    aa_seq = translate_updated(mrna_orf, codon_table)\n",
    "    return aa_seq\n",
    "\n",
    "#DO NOT CHANGE THIS CODE \n",
    "print(\"Do translate_from_template(template_strand) and aa_seq output the same sequence? \", translate_from_template(template_strand) == aa_seq)\n",
    "print(translate_from_template(\"ttacgattcatacgtcgactccgtcat\")[1:])"
   ]
  },
  {
   "cell_type": "markdown",
   "metadata": {
    "id": "T9AbleZ5fsQV"
   },
   "source": [
    "***\n",
    "### Congratulations! You have finished the coding lab! Don't forget you're also assigned the reversal lab this week and to check your PDF exports!\n",
    "***"
   ]
  }
 ],
 "metadata": {
  "colab": {
   "provenance": []
  },
  "kernelspec": {
   "display_name": "3.11.9",
   "language": "python",
   "name": "python3"
  },
  "language_info": {
   "codemirror_mode": {
    "name": "ipython",
    "version": 3
   },
   "file_extension": ".py",
   "mimetype": "text/x-python",
   "name": "python",
   "nbconvert_exporter": "python",
   "pygments_lexer": "ipython3",
   "version": "3.11.9"
  }
 },
 "nbformat": 4,
 "nbformat_minor": 4
}
