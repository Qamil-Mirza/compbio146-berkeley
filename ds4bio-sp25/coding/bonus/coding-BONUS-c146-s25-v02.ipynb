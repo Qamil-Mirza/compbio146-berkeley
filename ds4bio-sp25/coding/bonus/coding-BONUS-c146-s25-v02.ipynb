{
 "cells": [
  {
   "cell_type": "markdown",
   "metadata": {
    "id": "LjiXZb2eo-v0"
   },
   "source": [
    "# [DS4Bio] BONUS Coding: Python Coding of Genetic Coding\n",
    "### Data Science for Biology\n",
    "**Notebook developed by:** *Sarp Dora Kurtoglu, Kinsey Long*<br>\n",
    "**Supervised by:** *Steven E. Brenner*\n",
    "\n",
    "### Bonus Questions\n",
    "You may work together with other students on this. You have two weeks to complete this (note the deadline on bCourses and/or Gradescope). Please have everyone submit the same file on Gradescope."
   ]
  },
  {
   "cell_type": "markdown",
   "metadata": {
    "id": "smP_Kujxo-wE"
   },
   "source": [
    "***\n",
    "Extra Credit Mini-Projects"
   ]
  },
  {
   "cell_type": "markdown",
   "metadata": {},
   "source": [
    "Most assignments in this course will include optional extra credit questions. These questions are designed as starting points for students to explore more free-form mini projects. Therefore, there is no skeleton code and minimal guidance for these questions. Students are welcome to go beyond the scope of the question or adapt the question as necessary to answer their own scientific questions of interest. You are welcome to create as many coding cells as you would like for these mini-projects. In order to get extra credit, students should make a reasonable attempt (as judged by the grader) on at least one question and write a brief report.\n",
    "\n",
    "Write a summary on your methodology and your findings, highlighting key results and any interesting observations. The length of the report does not matter, as long as it answers all of the following questions:\n",
    "- What was your scientific goal with this project?\n",
    "- What methods did you use and why?\n",
    "- What were the key results you found for each method you implemented?\n",
    "- Were there any limitations in your methods?\n",
    "- What additional observations or comments can you make on your findings? What is the greater biological relevance or implication?\n",
    "- Are there any additional questions you would want to explore?"
   ]
  },
  {
   "cell_type": "markdown",
   "metadata": {
    "id": "taJaEFLeo-wE"
   },
   "source": [
    "\n",
    "<font color = #d14d0f>**EC Mini-Project A: Alternative Codon Tables**</font>\n",
    "\n",
    "The codon translation table is not actually universal. The genetic code has evolved over time, which led to differences in the codon conversion tables for different species. So, we need to pay attention to where our genetic code comes from and pick the correct codon table. For example, in ciliated protozoa, the universal stop codons UAA and UAG code for glutamine.\n",
    "\n",
    "Let's imagine that we try to express the GFP gene in *S. cerevisiae* mitochondria. The standard codon table and the mitchondrial yeast codon table are different. Use NCBI resources to find the mitochondial yeast codon table and translate the sequence. \n",
    "\n",
    "Describe (not necessarily implement) ways you could automate the process of retrieving species codon tables and translating using that table, and how you could use computational methods to quantitatively compare your result with the one you previously derived. \n",
    "\n",
    "As an intermediate project, write code to create a DNA sequence that when expressed in yeast mitochondria produce the same protein as had been made the universal code table. As an advanced project, implement a function that translates a sequence based on an inputted species."
   ]
  },
  {
   "cell_type": "markdown",
   "metadata": {
    "id": "2RDlNtueynTa"
   },
   "source": [
    "<font color = #d14d0f>**EC Mini-Project B: Codon Patterns**</font>\n",
    "\n",
    "It is often useful to compare codon usage patterns in transcribed mRNA sequences. Visualize the frequency distribution of codons in the transcribed GFP mRNA. Compare the frequency distributions results with at least one other relevant mRNA sequence, and justify your choice. Interpret your findings in a biological context, considering any implications about evolutionary history or functional characteristics."
   ]
  },
  {
   "cell_type": "markdown",
   "metadata": {},
   "source": [
    "<font color = #d14d0f>**EC Mini-Project C: Reverse Translation**</font>\n",
    "\n",
    "Some amino acids are encoded by multiple different codons. Implement a reverse translation function that takes a protein sequence and returns the number of DNA sequences that could code for it. How many different DNA transcripts could be generated from the GFP amino acid sequence? Apply your function on other protein sequences too, and explore the relationship between the number of possible DNA reverse-translations and another quantitative variable of your choice. Consider the biological implications for any relationships you might find.\n",
    "\n",
    "As an advanced project, read literature on how mRNAs are recoded to express more efficiently and implement an approach. Such methods were used for making mRNA vaccines."
   ]
  },
  {
   "cell_type": "code",
   "execution_count": 18,
   "metadata": {},
   "outputs": [
    {
     "name": "stdout",
     "output_type": "stream",
     "text": [
      "mRNA Sequence:\n",
      " AUGGAUUCUGAGGUUGCUGCUUUGGUUAUUGAUAACGGUUCUGGUAUGUGUAAAGCCGGUUUUGCCGGUGACGACGCUCCUCGUGCUGUCUUCCCAUCUAUCGUCGGUAGACCAAGACACCAAGGUAUCAUGGUCGGUAUGGGUCAAAAAGACUCCUACGUUGGUGAUGAAGCUCAAUCCAAGAGAGGUAUCUUGACUUUACGUUACCCAAUUGAACACGGUAUUGUCACCAACUGGGACGAUAUGGAAAAGAUCUGGCAUCAUACCUUCUACAACGAAUUGAGAGUUGCCCCAGAAGAACACCCUGUUCUUUUGACUGAAGCUCCAAUGAACCCUAAAUCAAACAGAGAAAAGAUGACUCAAAUUAUGUUUGAAACUUUCAACGUUCCAGCCUUCUACGUUUCCAUCCAAGCCGUUUUGUCCUUGUACUCUUCCGGUAGAACUACUGGUAUUGUUUUGGAUUCCGGUGAUGGUGUUACUCACGUCGUUCCAAUUUACGCUGGUUUCUCUCUACCUCACGCCAUUUUGAGAAUCGAUUUGGCCGGUAGAGAUUUGACUGACUACUUGAUGAAGAUCUUGAGUGAACGUGGUUACUCUUUCUCCACCACUGCUGAAAGAGAAAUUGUCCGUGACAUCAAGGAAAAACUAUGUUACGUCGCCUUGGACUUCGAACAAGAAAUGCAAACCGCUGCUCAAUCUUCUUCAAUUGAAAAAUCCUACGAACUUCCAGAUGGUCAAGUCAUCACUAUUGGUAACGAAAGAUUCAGAGCCCCAGAAGCUUUGUUCCAUCCUUCUGUUUUGGGUUUGGAAUCUGCCGGUAUUGACCAAACUACUUACAACUCCAUCAUGAAGUGUGAUGUCGAUGUCCGUAAGGAAUUAUACGGUAACAUCGUUAUGUCCGGUGGUACCACCAUGUUCCCAGGUAUUGCCGAAAGAAUGCAAAAGGAAAUCACCGCUUUGGCUCCAUCUUCCAUGAAGGUCAAGAUCAUUGCUCCUCCAGAAAGAAAGUACUCCGUCUGGAUUGGUGGUUCUAUCUUGGCUUCUUUGACUACCUUCCAACAAAUGUGGAUCUCAAAACAAGAAUACGACGAAAGUGGUCCAUCUAUCGUUCACCACAAGUGUUUCUAA\n",
      "Protein Sequence:\n",
      " MDSEVAALVIDNGSGMCKAGFAGDDAPRAVFPSIVGRPRHQGIMVGMGQKDSYVGDEAQSKRGILTLRYPIEHGIVTNWDDMEKIWHHTFYNELRVAPEEHPVLLTEAPMNPKSNREKMTQIMFETFNVPAFYVSIQAVLSLYSSGRTTGIVLDSGDGVTHVVPIYAGFSLPHAILRIDLAGRDLTDYLMKILSERGYSFSTTAEREIVRDIKEKLCYVALDFEQEMQTAAQSSSIEKSYELPDGQVITIGNERFRAPEALFHPSVLGLESAGIDQTTYNSIMKCDVDVRKELYGNIVMSGGTTMFPGIAERMQKEITALAPSSMKVKIIAPPERKYSVWIGGSILASLTTFQQMWISKQEYDESGPSIVHHKCF*\n"
     ]
    }
   ],
   "source": [
    "from Bio import Entrez, SeqIO\n",
    "from Bio.Seq import Seq\n",
    "from Bio.Data import CodonTable\n",
    "\n",
    "Entrez.email = \"qamilmirza@berkeley.edu\"\n",
    "\n",
    "def get_mrna_sequence(species_name, gene_name):\n",
    "    \"\"\"\n",
    "    Input: species_name (str) - the name of the species to search for\n",
    "           gene_name (str) - the name of the gene to search for\n",
    "    Output: mrna_sequences (str) - a single string containing all mRNA sequences found for the gene in the species\n",
    "    \"\"\"\n",
    "    try:\n",
    "        search_query = f\"{species_name}[Organism] AND {gene_name}[Gene] AND mRNA[Filter]\"\n",
    "        handle = Entrez.esearch(db=\"nucleotide\", term=search_query, retmax=20)  # Fetch max 20 mRNA sequences\n",
    "        record = Entrez.read(handle)\n",
    "        handle.close()\n",
    "        \n",
    "        if not record[\"IdList\"]:\n",
    "            return \"\"\n",
    "        \n",
    "        gene_ids = record[\"IdList\"]\n",
    "        mrna_sequences = []\n",
    "        \n",
    "        for gene_id in gene_ids:\n",
    "            fetch_handle = Entrez.efetch(db=\"nucleotide\", id=gene_id, rettype=\"fasta\", retmode=\"text\")\n",
    "            fasta_data = fetch_handle.read()\n",
    "            fetch_handle.close()\n",
    "            \n",
    "            # Remove the first line (description) from the FASTA data\n",
    "            fasta_data_lines = fasta_data.split('\\n')\n",
    "            sequence_only = ''.join(fasta_data_lines[1:])  # Join without newlines\n",
    "            mrna_sequences.append(sequence_only)\n",
    "        \n",
    "        # Concatenate all mRNA sequences into a single string, remove all spaces, and replace Ts with Us\n",
    "        concatenated_mrna_sequences = ''.join(mrna_sequences).replace(\" \", \"\").replace(\"T\", \"U\").replace(\"t\", \"u\")\n",
    "        \n",
    "        return concatenated_mrna_sequences\n",
    "    except Exception as e:\n",
    "        print(f\"Error: {e}\")\n",
    "        return \"\"\n",
    "\n",
    "def translate_mrna_to_protein(mrna_sequence, codon_table_id):\n",
    "    \"\"\"\n",
    "    Input: mrna_sequence (str) - the mRNA sequence to translate\n",
    "           codon_table_id (int) - the NCBI genetic code table ID\n",
    "    Output: protein_sequence (str) - the translated protein sequence\n",
    "    \"\"\"\n",
    "    try:\n",
    "        # Create a Seq object from the mRNA sequence\n",
    "        mrna_seq = Seq(mrna_sequence)\n",
    "        \n",
    "        # Translate the mRNA sequence into a protein sequence using the specified codon table\n",
    "        protein_seq = mrna_seq.translate(table=codon_table_id)\n",
    "        \n",
    "        return str(protein_seq)\n",
    "    except Exception as e:\n",
    "        print(f\"Error: {e}\")\n",
    "        return \"\"\n",
    "\n",
    "# Example usage\n",
    "species_name = \"Saccharomyces cerevisiae\"\n",
    "gene_name = \"ACT1\"\n",
    "mrna_sequence = get_mrna_sequence(species_name, gene_name)\n",
    "\n",
    "# Saccharomyces cerevisiae uses the standard codon table (NCBI genetic code table ID 1)\n",
    "codon_table_id = 1\n",
    "protein_sequence = translate_mrna_to_protein(mrna_sequence, codon_table_id)\n",
    "\n",
    "print(\"mRNA Sequence:\\n\", mrna_sequence)\n",
    "print(\"Protein Sequence:\\n\", protein_sequence)"
   ]
  },
  {
   "cell_type": "code",
   "execution_count": null,
   "metadata": {},
   "outputs": [],
   "source": []
  },
  {
   "cell_type": "markdown",
   "metadata": {},
   "source": [
    "**EXTRA CREDIT REPORT: [insert project choice here]** <br>\n",
    "\n",
    "*DOUBLE-CLICK TO EDIT THIS CELL AND TYPE YOUR REPORT*"
   ]
  },
  {
   "cell_type": "markdown",
   "metadata": {
    "id": "T9AbleZ5fsQV"
   },
   "source": [
    "***\n",
    "### Congratulations! You have finished the bonus questions!\n",
    "***"
   ]
  }
 ],
 "metadata": {
  "colab": {
   "provenance": []
  },
  "kernelspec": {
   "display_name": "3.11.9",
   "language": "python",
   "name": "python3"
  },
  "language_info": {
   "codemirror_mode": {
    "name": "ipython",
    "version": 3
   },
   "file_extension": ".py",
   "mimetype": "text/x-python",
   "name": "python",
   "nbconvert_exporter": "python",
   "pygments_lexer": "ipython3",
   "version": "3.11.9"
  }
 },
 "nbformat": 4,
 "nbformat_minor": 4
}
