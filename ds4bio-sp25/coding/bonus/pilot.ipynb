{
 "cells": [
  {
   "cell_type": "code",
   "execution_count": 18,
   "metadata": {},
   "outputs": [
    {
     "name": "stdout",
     "output_type": "stream",
     "text": [
      "Taxonomy ID: 907340\n",
      "Genetic Code ID: 1\n",
      "Genetic Code Name: Standard\n",
      "\n",
      "Codon Table Retrieved:\n",
      "Table 1 Standard, SGC0\n",
      "\n",
      "  |  T      |  C      |  A      |  G      |\n",
      "--+---------+---------+---------+---------+--\n",
      "T | TTT F   | TCT S   | TAT Y   | TGT C   | T\n",
      "T | TTC F   | TCC S   | TAC Y   | TGC C   | C\n",
      "T | TTA L   | TCA S   | TAA Stop| TGA Stop| A\n",
      "T | TTG L(s)| TCG S   | TAG Stop| TGG W   | G\n",
      "--+---------+---------+---------+---------+--\n",
      "C | CTT L   | CCT P   | CAT H   | CGT R   | T\n",
      "C | CTC L   | CCC P   | CAC H   | CGC R   | C\n",
      "C | CTA L   | CCA P   | CAA Q   | CGA R   | A\n",
      "C | CTG L(s)| CCG P   | CAG Q   | CGG R   | G\n",
      "--+---------+---------+---------+---------+--\n",
      "A | ATT I   | ACT T   | AAT N   | AGT S   | T\n",
      "A | ATC I   | ACC T   | AAC N   | AGC S   | C\n",
      "A | ATA I   | ACA T   | AAA K   | AGA R   | A\n",
      "A | ATG M(s)| ACG T   | AAG K   | AGG R   | G\n",
      "--+---------+---------+---------+---------+--\n",
      "G | GTT V   | GCT A   | GAT D   | GGT G   | T\n",
      "G | GTC V   | GCC A   | GAC D   | GGC G   | C\n",
      "G | GTA V   | GCA A   | GAA E   | GGA G   | A\n",
      "G | GTG V   | GCG A   | GAG E   | GGG G   | G\n",
      "--+---------+---------+---------+---------+--\n"
     ]
    }
   ],
   "source": [
    "from Bio import Entrez\n",
    "from Bio.Seq import Seq\n",
    "from Bio.Data import CodonTable\n",
    "\n",
    "Entrez.email = \"qamilmirza@berkeley.edu\"  # Required for NCBI queries\n",
    "\n",
    "# Search for the species in the NCBI taxonomy database\n",
    "species_name = \"Hansenula saturnus\"  # Change to any species of interest\n",
    "handle = Entrez.esearch(db=\"taxonomy\", term=species_name)\n",
    "record = Entrez.read(handle)\n",
    "handle.close()\n",
    "\n",
    "if record[\"IdList\"]:\n",
    "    taxon_id = record[\"IdList\"][0]\n",
    "    print(f\"Taxonomy ID: {taxon_id}\")\n",
    "\n",
    "    # Fetch taxonomy details to obtain the genetic code ID\n",
    "    handle = Entrez.efetch(db=\"taxonomy\", id=taxon_id, retmode=\"xml\")\n",
    "    records = Entrez.read(handle)\n",
    "    handle.close()\n",
    "\n",
    "    if records:\n",
    "        genetic_code = records[0].get(\"GeneticCode\", {})\n",
    "        gc_id = genetic_code.get(\"GCId\", \"N/A\")\n",
    "        gc_name = genetic_code.get(\"GCName\", \"N/A\")\n",
    "        print(f\"Genetic Code ID: {gc_id}\")\n",
    "        print(f\"Genetic Code Name: {gc_name}\")\n",
    "\n",
    "        # Print the associated codon table\n",
    "        if gc_id.isdigit():\n",
    "            gc_id = int(gc_id)\n",
    "            if gc_id in CodonTable.unambiguous_dna_by_id:\n",
    "                codon_table = CodonTable.unambiguous_dna_by_id[gc_id]\n",
    "                print(\"\\nCodon Table Retrieved:\")\n",
    "                print(codon_table)\n",
    "            else:\n",
    "                print(f\"Codon table for Genetic Code ID {gc_id} is not available in Biopython.\")\n",
    "        else:\n",
    "            print(\"Invalid Genetic Code ID.\")\n",
    "    else:\n",
    "        print(\"No records found.\")\n",
    "else:\n",
    "    print(\"Species not found.\")"
   ]
  },
  {
   "cell_type": "code",
   "execution_count": 1,
   "metadata": {},
   "outputs": [
    {
     "name": "stdout",
     "output_type": "stream",
     "text": [
      "Universal translation: MKTW\n",
      "Yeast mitochondrial translation: MKTW\n"
     ]
    }
   ],
   "source": [
    "# Advanced Project Code: Species-Dependent Translator\n",
    "from Bio.Data import CodonTable\n",
    "\n",
    "def translate_sequence(seq, species=\"universal\"):\n",
    "    \"\"\"\n",
    "    Translate a DNA sequence using the codon table appropriate for the given species.\n",
    "    \n",
    "    Parameters:\n",
    "        seq (str): The DNA sequence (should be in 5'-to-3' orientation).\n",
    "        species (str): Either \"universal\" or a string indicating another species/organellar code.\n",
    "                       For this example, if species is \"yeast_mito\", we use table 3.\n",
    "    \n",
    "    Returns:\n",
    "        str: The translated protein sequence.\n",
    "    \"\"\"\n",
    "    # Choose the appropriate codon table.\n",
    "    # (This mapping can be expanded or automated by querying NCBI taxonomy data.)\n",
    "    if species.lower() in [\"saccharomyces cerevisiae mitochondria\", \"yeast_mito\", \"yeast mitochondria\"]:\n",
    "        table_id = 3  # Yeast mitochondrial code (as defined by NCBI)\n",
    "    else:\n",
    "        table_id = 1  # Universal code\n",
    "    \n",
    "    codon_table = CodonTable.unambiguous_dna_by_id[table_id]\n",
    "    \n",
    "    protein = \"\"\n",
    "    # Process the sequence in windows of three.\n",
    "    for i in range(0, len(seq), 3):\n",
    "        codon = seq[i:i+3]\n",
    "        # Ignore incomplete codons at the end.\n",
    "        if len(codon) != 3:\n",
    "            continue\n",
    "        # Check if the codon is a stop codon.\n",
    "        if codon in codon_table.stop_codons:\n",
    "            protein += \"*\"\n",
    "        else:\n",
    "            # Look up the amino acid. If the codon is not found, use 'X' for unknown.\n",
    "            aa = codon_table.forward_table.get(codon, \"X\")\n",
    "            protein += aa\n",
    "    return protein\n",
    "\n",
    "# Example usage:\n",
    "dna_seq = \"ATGAAGACCTGG\"  # Example sequence; adjust as needed.\n",
    "protein_universal = translate_sequence(dna_seq, species=\"universal\")\n",
    "protein_yeast = translate_sequence(dna_seq, species=\"yeast_mito\")\n",
    "\n",
    "print(\"Universal translation:\", protein_universal)\n",
    "print(\"Yeast mitochondrial translation:\", protein_yeast)\n"
   ]
  },
  {
   "cell_type": "code",
   "execution_count": 2,
   "metadata": {},
   "outputs": [
    {
     "name": "stdout",
     "output_type": "stream",
     "text": [
      "Universal translation: MIVLGK*\n",
      "Yeast mitochondrial translation: MMVLGKW\n"
     ]
    }
   ],
   "source": [
    "dna_seq = \"ATGATAGTATTAGGTAAGTGA\"\n",
    "protein_universal = translate_sequence(dna_seq, species=\"universal\")\n",
    "protein_yeast = translate_sequence(dna_seq, species=\"yeast_mito\")\n",
    "\n",
    "print(\"Universal translation:\", protein_universal)\n",
    "print(\"Yeast mitochondrial translation:\", protein_yeast)\n"
   ]
  },
  {
   "cell_type": "code",
   "execution_count": 1,
   "metadata": {},
   "outputs": [],
   "source": [
    "import requests\n",
    "from Bio.Data import CodonTable\n",
    "from Bio import Entrez\n",
    "from Bio import SeqIO\n",
    "from io import StringIO\n",
    "from urllib.parse import quote \n",
    "\n",
    "def get_species_codon_table(species_name):\n",
    "    \"\"\"\n",
    "    Input: species_name (str) - the name of the species to search for\n",
    "    Output: table_id (int) - the genetic code table ID for the species\n",
    "    \"\"\"\n",
    "    encoded_species = quote(species_name)\n",
    "    search_url = f\"https://www.ebi.ac.uk/ena/taxonomy/rest/scientific-name/{encoded_species}\"\n",
    "    \n",
    "    try:\n",
    "        response = requests.get(search_url)\n",
    "        response.raise_for_status()\n",
    "        data = response.json()\n",
    "        print(data)\n",
    "        \n",
    "        if isinstance(data, list) and len(data) > 0:\n",
    "            taxon_info = data[0]\n",
    "            return int(taxon_info.get(\"geneticCode\", 1))  # Ensure integer\n",
    "        else:\n",
    "            return None\n",
    "    except requests.RequestException as e:\n",
    "        return None"
   ]
  },
  {
   "cell_type": "code",
   "execution_count": 2,
   "metadata": {},
   "outputs": [
    {
     "name": "stdout",
     "output_type": "stream",
     "text": [
      "[]\n"
     ]
    }
   ],
   "source": [
    "get_species_codon_table(\"Hansenula saturnus\")"
   ]
  },
  {
   "cell_type": "code",
   "execution_count": null,
   "metadata": {},
   "outputs": [],
   "source": []
  }
 ],
 "metadata": {
  "kernelspec": {
   "display_name": "3.11.9",
   "language": "python",
   "name": "python3"
  },
  "language_info": {
   "codemirror_mode": {
    "name": "ipython",
    "version": 3
   },
   "file_extension": ".py",
   "mimetype": "text/x-python",
   "name": "python",
   "nbconvert_exporter": "python",
   "pygments_lexer": "ipython3",
   "version": "3.11.9"
  }
 },
 "nbformat": 4,
 "nbformat_minor": 2
}
