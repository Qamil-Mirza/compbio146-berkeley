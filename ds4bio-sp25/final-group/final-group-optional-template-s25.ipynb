{
 "cells": [
  {
   "cell_type": "markdown",
   "metadata": {},
   "source": [
    "# Final Exam - Group Portion - Supplementary Code Notebook\n",
    "### Data Science for Biology\n",
    "**Notebook developed by:**  *Max Staller*, *Kinsey Long*<br>\n",
    "\n",
    "[Final Group Individual Portion Instructions](https://docs.google.com/document/d/1vJq6j4DZ1KRmep9HnSdm8BMlD8U009OTpQCrgMW-pmQ/edit)\n",
    "- The google doc above superceeds instructions in the group project final notebooks and it will have updates as corrections emerge.\n",
    "\n",
    "This document should contain all of the supplementary code used in your group final project. You can copy over code from the warm-up if you use it. Your code must be well-documented with comments and  should be modular with functions.\n",
    "\n",
    "Submission instructions: \n",
    "- Upload the Final Group Warm-up python notebook to Final Group Warm-up Autograder (one submission per group, add members to the assignment)\n",
    "- Upload the Final Group Warm-up PDF to Final Group Warm-up Written Work  (one submission per group, add members to the assignment)\n",
    "- Upload the Final Group (Project) PDF to Final Group Project (one submission per group, add members to the assignment)\n",
    "- Upload the Final Group (Project) Supplementary Code (this notebook) as a PDF to Final Group Project Supplementary Code (one submission per group, add members to the assignment)\n",
    "- Upload the Final Group Academic Honesty Statement individually\n",
    "\n",
    "We expect you to work together. You may divide up the steps of the analysis and perform those subparts individually or in pairs or trios. For each code module, clearly indicate which group members contributed. For each figure, in the paragraph after the figure indicate which team members contributed.\n",
    "\n",
    "We want everyone to make both intellectual contributions and coding contributions. Coding contributions are writing code to perform a filter or analysis or create a plot. Intellectual contributions are deciding what filters to apply, what analyzes to perform, or how to plot the data. "
   ]
  },
  {
   "cell_type": "markdown",
   "metadata": {},
   "source": [
    "---\n",
    "### Project Options \n",
    "\n",
    "<font color = #d14d0f>**Option A: Glucose vs Galactose**</font>\n",
    "- What is the global change in Tile activities (if any)? \n",
    "- Are there some Tiles that show condition specific activity? (ie they are stronger in Galactose or in Glucose)\n",
    "- What are the sequence features of these Tiles\n",
    "\n",
    "<font color = #d14d0f>**Option B: Importance of  Mig1 binding sites**</font>\n",
    "Compare P3promoter with P3promoter_Mig1TFBSremoved\n",
    "- Is Mig 1 a strong or weak repressor?\n",
    "- Is there a global pattern?\n",
    "- The literature says that Mig1 should be inactive (sequestered in the cytoplasm) during growth in galactose. Test the hypothesis that the P3promoter in Galactose (Activity_SCgalactose) is more similar to - P3promoter_Mig1TFBSremoved than it is to P3promoter in Glucose (Activity_SCglucose).\n",
    "\n",
    "<font color = #d14d0f>**Option C: Promoter-specific Activity**</font>\n",
    "- Compare the activities of the 4 different promoters.\n",
    "- Are there tiles that show strong promoter specificity? (they prefer one promoter over the others)\n",
    "    - What are the sequence features of these tiles?\n",
    "\n",
    "<font color = #d14d0f>**Option D: Consistent vs Variable ADs**</font>\n",
    "- What ADs are the most consistent across all conditions? \n",
    "    - Are there any ADs that have very consistent activity and show no condition specific activity?\n",
    "    - What are their protein sequence features?\n",
    "- What tiles are most variable across all conditions?\n",
    "    - Are there tiles with very different activity in each condition?\n",
    "    - Are these well measured or poorly measured?\n",
    "- What are their protein sequence features?\n",
    "\n",
    "<font color = #d14d0f>**Option E: Protein Stability**</font>\n",
    "- Look at the mCherry signal, which reports on protein stability\n",
    "- Look for protein sequence features associated with high stability or low stability tiles. \n",
    "\n",
    "\n",
    "**General analysis approaches to find protein sequence features** <br>\n",
    "Once you have identified a set of interesting tiles, you can use any of these approaches to find the protein sequence features: <br>\n",
    "    - Are known motifs associated with the phenotype? <br>\n",
    "    - Or perform de novo motif finding. What protein sequence motifs control activity in different conditions? <br>\n",
    "    - Machine learning to predict activity in a condition from sequence. <br>\n",
    "    - Choose a condition and predict activity <br>\n",
    "    - Use ordinary least squares regression models to describe how composition controls the phenotype or ANOVA. <br>"
   ]
  },
  {
   "cell_type": "markdown",
   "metadata": {},
   "source": [
    "---\n",
    "### Student Group Project - Supplementary Code File"
   ]
  },
  {
   "cell_type": "markdown",
   "metadata": {},
   "source": [
    "**Project Members:** *double-click to type names here*\n",
    "<br>\n",
    "**Project Choice:** *double-click to type project choice here*"
   ]
  },
  {
   "cell_type": "code",
   "execution_count": 3,
   "metadata": {},
   "outputs": [
    {
     "name": "stdout",
     "output_type": "stream",
     "text": [
      "Defaulting to user installation because normal site-packages is not writeable\n",
      "Requirement already satisfied: seaborn==0.13.2 in /Users/kinseylong/Library/Python/3.9/lib/python/site-packages (0.13.2)\n",
      "Requirement already satisfied: numpy!=1.24.0,>=1.20 in /Users/kinseylong/Library/Python/3.9/lib/python/site-packages (from seaborn==0.13.2) (1.26.2)\n",
      "Requirement already satisfied: pandas>=1.2 in /Users/kinseylong/Library/Python/3.9/lib/python/site-packages (from seaborn==0.13.2) (2.1.4)\n",
      "Requirement already satisfied: matplotlib!=3.6.1,>=3.4 in /Users/kinseylong/Library/Python/3.9/lib/python/site-packages (from seaborn==0.13.2) (3.8.2)\n",
      "Requirement already satisfied: contourpy>=1.0.1 in /Users/kinseylong/Library/Python/3.9/lib/python/site-packages (from matplotlib!=3.6.1,>=3.4->seaborn==0.13.2) (1.2.0)\n",
      "Requirement already satisfied: cycler>=0.10 in /Users/kinseylong/Library/Python/3.9/lib/python/site-packages (from matplotlib!=3.6.1,>=3.4->seaborn==0.13.2) (0.12.1)\n",
      "Requirement already satisfied: fonttools>=4.22.0 in /Users/kinseylong/Library/Python/3.9/lib/python/site-packages (from matplotlib!=3.6.1,>=3.4->seaborn==0.13.2) (4.46.0)\n",
      "Requirement already satisfied: kiwisolver>=1.3.1 in /Users/kinseylong/Library/Python/3.9/lib/python/site-packages (from matplotlib!=3.6.1,>=3.4->seaborn==0.13.2) (1.4.5)\n",
      "Requirement already satisfied: packaging>=20.0 in /Users/kinseylong/Library/Python/3.9/lib/python/site-packages (from matplotlib!=3.6.1,>=3.4->seaborn==0.13.2) (23.2)\n",
      "Requirement already satisfied: pillow>=8 in /Users/kinseylong/Library/Python/3.9/lib/python/site-packages (from matplotlib!=3.6.1,>=3.4->seaborn==0.13.2) (10.1.0)\n",
      "Requirement already satisfied: pyparsing>=2.3.1 in /Users/kinseylong/Library/Python/3.9/lib/python/site-packages (from matplotlib!=3.6.1,>=3.4->seaborn==0.13.2) (3.1.1)\n",
      "Requirement already satisfied: python-dateutil>=2.7 in /Users/kinseylong/Library/Python/3.9/lib/python/site-packages (from matplotlib!=3.6.1,>=3.4->seaborn==0.13.2) (2.8.2)\n",
      "Requirement already satisfied: importlib-resources>=3.2.0 in /Users/kinseylong/Library/Python/3.9/lib/python/site-packages (from matplotlib!=3.6.1,>=3.4->seaborn==0.13.2) (6.1.1)\n",
      "Requirement already satisfied: pytz>=2020.1 in /Users/kinseylong/Library/Python/3.9/lib/python/site-packages (from pandas>=1.2->seaborn==0.13.2) (2023.3.post1)\n",
      "Requirement already satisfied: tzdata>=2022.1 in /Users/kinseylong/Library/Python/3.9/lib/python/site-packages (from pandas>=1.2->seaborn==0.13.2) (2023.3)\n",
      "Requirement already satisfied: zipp>=3.1.0 in /Users/kinseylong/Library/Python/3.9/lib/python/site-packages (from importlib-resources>=3.2.0->matplotlib!=3.6.1,>=3.4->seaborn==0.13.2) (3.17.0)\n",
      "Requirement already satisfied: six>=1.5 in /Library/Developer/CommandLineTools/Library/Frameworks/Python3.framework/Versions/3.9/lib/python3.9/site-packages (from python-dateutil>=2.7->matplotlib!=3.6.1,>=3.4->seaborn==0.13.2) (1.15.0)\n",
      "Defaulting to user installation because normal site-packages is not writeable\n",
      "Requirement already satisfied: scikit-learn==1.4.2 in /Users/kinseylong/Library/Python/3.9/lib/python/site-packages (1.4.2)\n",
      "Requirement already satisfied: numpy>=1.19.5 in /Users/kinseylong/Library/Python/3.9/lib/python/site-packages (from scikit-learn==1.4.2) (1.26.2)\n",
      "Requirement already satisfied: scipy>=1.6.0 in /Users/kinseylong/Library/Python/3.9/lib/python/site-packages (from scikit-learn==1.4.2) (1.11.4)\n",
      "Requirement already satisfied: joblib>=1.2.0 in /Users/kinseylong/Library/Python/3.9/lib/python/site-packages (from scikit-learn==1.4.2) (1.3.2)\n",
      "Requirement already satisfied: threadpoolctl>=2.0.0 in /Users/kinseylong/Library/Python/3.9/lib/python/site-packages (from scikit-learn==1.4.2) (3.4.0)\n"
     ]
    }
   ],
   "source": [
    "#Some packages you might want, feel free to add more\n",
    "!pip install seaborn==0.13.2\n",
    "!pip install scikit-learn==1.4.2\n",
    "\n",
    "from datascience import *\n",
    "import numpy as np\n",
    "import seaborn as sns\n",
    "import matplotlib\n",
    "%matplotlib inline\n",
    "import matplotlib.pyplot as plt\n",
    "import scipy.stats as stats\n",
    "import pandas as pd\n",
    "import re\n",
    "plt.style.use('fivethirtyeight')\n",
    "pd.options.mode.chained_assignment = None\n",
    "import warnings\n",
    "warnings.simplefilter(action='ignore', category=FutureWarning)\n",
    "plt.style.use('fivethirtyeight')"
   ]
  },
  {
   "cell_type": "code",
   "execution_count": null,
   "metadata": {},
   "outputs": [],
   "source": [
    "#Feel free to import more packages"
   ]
  },
  {
   "cell_type": "code",
   "execution_count": null,
   "metadata": {},
   "outputs": [],
   "source": [
    "#ADD CELLS AS NEEDED, MAKE SURE TO DOCUMENT YOUR CODE WITH COMMENTS"
   ]
  }
 ],
 "metadata": {
  "kernelspec": {
   "display_name": "Python [conda env:base] *",
   "language": "python",
   "name": "conda-base-py"
  },
  "language_info": {
   "codemirror_mode": {
    "name": "ipython",
    "version": 3
   },
   "file_extension": ".py",
   "mimetype": "text/x-python",
   "name": "python",
   "nbconvert_exporter": "python",
   "pygments_lexer": "ipython3",
   "version": "3.11.0"
  }
 },
 "nbformat": 4,
 "nbformat_minor": 4
}
