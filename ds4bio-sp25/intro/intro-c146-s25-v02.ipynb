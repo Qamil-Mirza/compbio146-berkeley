{
 "cells": [
  {
   "cell_type": "markdown",
   "metadata": {},
   "source": [
    "# [DS4Bio] Week 1 Lab: Introduction - Genome Sizes (Data C8 Review)\n",
    "\n",
    "**Notebook developed by:**\n",
    "*Reet Mishra*, *Sarp Dora Kurtoglu* and *Kinsey Long* (adapted in part from work by *Shishi Luo* and *Jonathan Fischer*)\n",
    "\n",
    "**Supervised by:** *Steven E. Brenner*\n",
    "\n",
    "### Learning Outcomes\n",
    "This lab is intended to be a light review of essential coding concepts needed for this course. \n",
    "We strongly encourage you to review the other [Data C8 methods](http://data8.org/sp22/python-reference.html) from the `datascience` package that are not included in this notebook that will be applied in future assignments.\n",
    "\n",
    "In this notebook, you will review Data C8 methods from the `datascience` package, including:\n",
    "* Importing and analyzing datasets\n",
    "* Sorting and manipulating scientific data\n",
    "* Building functions\n",
    "* Creating bar charts, histograms, scatterplots\n",
    "***"
   ]
  },
  {
   "cell_type": "markdown",
   "metadata": {},
   "source": [
    "### Resources\n",
    "Here are some resources you can check out while doing this notebook.\n",
    "\n",
    "- [Data C8 Reference Sheet](http://data8.org/sp22/python-reference.html)<br>(This is extremely helpful whenever you need a cheatsheet. It includes all the methods you will need for this notebook.)\n",
    "- [Official documentation for the datascience Module](http://data8.org/datascience/index.html)\n",
    "- [The C-value Paradox](https://www.sciencedirect.com/topics/neuroscience/c-value)\n",
    "\n",
    "### Peer Consulting\n",
    "\n",
    "If you find yourself having trouble with any content in this notebook, Data Peer Consultants are an excellent resource! Click [here](https://cdss.berkeley.edu/dsus/advising/data-science-peer-advising-dspa) to locate live help.\n",
    "\n",
    "Peer Consultants are there to answer all data-related questions, whether it be about the content of this notebook, applications of data science in the world, or other data science courses offered at Berkeley.\n",
    "\n",
    "---"
   ]
  },
  {
   "cell_type": "markdown",
   "metadata": {},
   "source": [
    "## 1. Genome Size Exploration\n",
    "\n",
    "In this section, we will review Data C8 `datascience` methods in order to explore the genome sizes of 15 different species. These questions are intended to guide students to gather and interpret useful information from tabular data. "
   ]
  },
  {
   "cell_type": "markdown",
   "metadata": {},
   "source": [
    "To prepare our notebook environment, run the following cell which imports the necessary packages.\n",
    "\n",
    "We are importing:\n",
    "- All methods from the Data C8 `datascience` package.\n",
    "- `matplotlib.pyplot` for visualization methods.\n",
    "- `numpy` for basic arrays methods.\n",
    "- `scipy.stats` for additional statistical methods.\n",
    "\n",
    "The cell will print `'All necessary packages have been imported.'` when it's completed importing."
   ]
  },
  {
   "cell_type": "code",
   "execution_count": 2,
   "metadata": {},
   "outputs": [
    {
     "name": "stdout",
     "output_type": "stream",
     "text": [
      "All necessary packages have been imported.\n"
     ]
    }
   ],
   "source": [
    "# Import the necessary packages\n",
    "from datascience import *\n",
    "%matplotlib inline\n",
    "import matplotlib.pyplot as plt\n",
    "plt.style.use('fivethirtyeight')\n",
    "import numpy as np\n",
    "import scipy.stats as sp\n",
    "print(\"All necessary packages have been imported.\")"
   ]
  },
  {
   "cell_type": "markdown",
   "metadata": {},
   "source": [
    "The **genome size** is the amount of DNA contained in one copy of the complete genome, in terms of the number of basepairs.\n",
    "\n",
    "The table that we are importing contains information on 15 different species. The table provides both the scientific and common name of these species, as well as the number of genes, the number of proteins, and the genome size for the species."
   ]
  },
  {
   "cell_type": "markdown",
   "metadata": {},
   "source": [
    "\n",
    "<font color = #d14d0f>**QUESTION 1**:</font> First, import the model species data as a Table. Then, display the full table using `table.show()` from the `datascience` package. Replace the `...` in the skeleton code below, and use `table.show()` on the `species` table.\n",
    "\n",
    ">  Note: The `Table.read_table(filepath)` method requires a filepath as a string, which should be formatted like `\"folder/file_name\"`. The csv file we want to import is `\"lab0_model_species.csv\"`, which is located inside the `\"data\"` folder. \n"
   ]
  },
  {
   "cell_type": "code",
   "execution_count": 3,
   "metadata": {},
   "outputs": [
    {
     "data": {
      "text/html": [
       "<table border=\"1\" class=\"dataframe\">\n",
       "    <thead>\n",
       "        <tr>\n",
       "            <th>Scientific name</th> <th>Common name</th> <th>Genes</th> <th>Proteins</th> <th>Size</th>\n",
       "        </tr>\n",
       "    </thead>\n",
       "    <tbody>\n",
       "        <tr>\n",
       "            <td>Escherichia coli                             </td> <td>E. coli     </td> <td>5618  </td> <td>5358    </td> <td>5478680   </td>\n",
       "        </tr>\n",
       "        <tr>\n",
       "            <td>Arabidopsis thaliana                         </td> <td>A. thaliana </td> <td>33583 </td> <td>35378   </td> <td>119668000 </td>\n",
       "        </tr>\n",
       "        <tr>\n",
       "            <td>Caenorhabditis elegans                       </td> <td>C. elegans  </td> <td>46711 </td> <td>27943   </td> <td>100286000 </td>\n",
       "        </tr>\n",
       "        <tr>\n",
       "            <td>Danio rerio                                  </td> <td>Zebrafish   </td> <td>39803 </td> <td>47861   </td> <td>1371720000</td>\n",
       "        </tr>\n",
       "        <tr>\n",
       "            <td>Drosophila melanogaster                      </td> <td>Fruit fly   </td> <td>17651 </td> <td>30443   </td> <td>143726000 </td>\n",
       "        </tr>\n",
       "        <tr>\n",
       "            <td>Gallus gallus                                </td> <td>Chicken     </td> <td>25062 </td> <td>46393   </td> <td>1230260000</td>\n",
       "        </tr>\n",
       "        <tr>\n",
       "            <td>Mus musculus                                 </td> <td>Mouse       </td> <td>48855 </td> <td>78065   </td> <td>2803570000</td>\n",
       "        </tr>\n",
       "        <tr>\n",
       "            <td>Saccharomyces cerevisiae S288c               </td> <td>Yeast       </td> <td>6350  </td> <td>5907    </td> <td>12157100  </td>\n",
       "        </tr>\n",
       "        <tr>\n",
       "            <td>Rattus norvegicus                            </td> <td>Rat         </td> <td>37647 </td> <td>50706   </td> <td>2870180000</td>\n",
       "        </tr>\n",
       "        <tr>\n",
       "            <td>Zea mays                                     </td> <td>Corn (maize)</td> <td>104305</td> <td>116015  </td> <td>2067620000</td>\n",
       "        </tr>\n",
       "        <tr>\n",
       "            <td>Oryza sativa Japonica Group                  </td> <td>Rice        </td> <td>66100 </td> <td>81951   </td> <td>374423000 </td>\n",
       "        </tr>\n",
       "        <tr>\n",
       "            <td>Canis lupus familiaris                       </td> <td>Dog         </td> <td>30186 </td> <td>47089   </td> <td>2410980000</td>\n",
       "        </tr>\n",
       "        <tr>\n",
       "            <td>Influenza A virus (A/New York/392/2004(H3N2))</td> <td>Influenza   </td> <td>12    </td> <td>12      </td> <td>13627     </td>\n",
       "        </tr>\n",
       "        <tr>\n",
       "            <td>Human immunodeficiency virus 1               </td> <td>HIV         </td> <td>10    </td> <td>10      </td> <td>9181      </td>\n",
       "        </tr>\n",
       "        <tr>\n",
       "            <td>Ailuropoda melanoleuca                       </td> <td>Giant panda </td> <td>27613 </td> <td>32507   </td> <td>2299510000</td>\n",
       "        </tr>\n",
       "    </tbody>\n",
       "</table>"
      ],
      "text/plain": [
       "<IPython.core.display.HTML object>"
      ]
     },
     "metadata": {},
     "output_type": "display_data"
    }
   ],
   "source": [
    "# YOUR CODE HERE\n",
    "species = Table.read_table(\"./data/intro_model_species.csv\")\n",
    "species.show()"
   ]
  },
  {
   "cell_type": "markdown",
   "metadata": {},
   "source": [
    "<font color = #d14d0f>**QUESTION 2**:</font> How many organisms does the `species` Table contain?\n",
    "\n",
    ">*Hint:*<br>- What datascience method can we use to count the number of rows in the `species` table? Remember that you can refer to the [Data C8 Reference Sheet](http://data8.org/sp22/python-reference.html).\n",
    "<br>- Note, throughout this assignment, we will treat viruses as an organism and/or species."
   ]
  },
  {
   "cell_type": "code",
   "execution_count": 4,
   "metadata": {},
   "outputs": [
    {
     "name": "stdout",
     "output_type": "stream",
     "text": [
      "There are 15 organisms in the species table.\n"
     ]
    }
   ],
   "source": [
    "# YOUR CODE HERE\n",
    "num_organisms = species.num_rows\n",
    "\n",
    "# DO NOT CHANGE THIS CODE\n",
    "print(f\"There are {num_organisms} organisms in the species table.\")"
   ]
  },
  {
   "cell_type": "markdown",
   "metadata": {},
   "source": [
    "<font color = #d14d0f>**QUESTION 3a**: </font> We want to explore data in the `genes` column. Use a table method from the Data 8 table methods to extract a copy of the values from the `'Genes'` column as an array. Assign your result to the variable `genes_array`."
   ]
  },
  {
   "cell_type": "code",
   "execution_count": 5,
   "metadata": {},
   "outputs": [
    {
     "data": {
      "text/plain": [
       "array([  5618,  33583,  46711,  39803,  17651,  25062,  48855,   6350,\n",
       "        37647, 104305,  66100,  30186,     12,     10,  27613])"
      ]
     },
     "execution_count": 5,
     "metadata": {},
     "output_type": "execute_result"
    }
   ],
   "source": [
    "# YOUR CODE HERE\n",
    "genes_array = species.column('Genes')\n",
    "genes_array"
   ]
  },
  {
   "cell_type": "markdown",
   "metadata": {},
   "source": [
    "<font color = #d14d0f>**QUESTION 3b**: </font> Now, let's apply some array functions on our `genes_array`. Fill out the code below to calculate the number of elements (length), mean, max, min, and standard deviation of the array using `numpy` methods.\n",
    "\n",
    ">*Hint:*<br>- Array methods are formatted as `method(array)`.  <br>- All the `np` methods you need for this are described in the [Data C8 Reference Sheet](http://data8.org/sp22/python-reference.html)\n",
    "<br>- Mean, median and standard deviation are described in more detail in section 2, Summary Statistics & Functions."
   ]
  },
  {
   "cell_type": "code",
   "execution_count": 6,
   "metadata": {},
   "outputs": [],
   "source": [
    "# YOUR CODE HERE\n",
    "genes_len = len(genes_array)\n",
    "genes_mean = np.mean(genes_array)\n",
    "genes_max = max(genes_array)\n",
    "genes_min = min(genes_array)\n",
    "genes_std = np.std(genes_array)"
   ]
  },
  {
   "cell_type": "code",
   "execution_count": 7,
   "metadata": {},
   "outputs": [
    {
     "name": "stdout",
     "output_type": "stream",
     "text": [
      "Species genes summary statistics:\n",
      "Length - 15\n",
      "Mean - 32633.733333333334\n",
      "Max - 104305\n",
      "Min - 10\n",
      "Standard Deviation - 26655.42507249801\n",
      "\n"
     ]
    }
   ],
   "source": [
    "# JUST RUN THIS CELL\n",
    "print(f\"\"\"Species genes summary statistics:\n",
    "Length - {genes_len}\n",
    "Mean - {genes_mean}\n",
    "Max - {genes_max}\n",
    "Min - {genes_min}\n",
    "Standard Deviation - {genes_std}\n",
    "\"\"\")"
   ]
  },
  {
   "cell_type": "markdown",
   "metadata": {},
   "source": [
    "Now that we have looked at a broad overview of summary statistics about the species genes, let's see how we can manipulate the `species` table to tell us some more specific information."
   ]
  },
  {
   "cell_type": "markdown",
   "metadata": {},
   "source": [
    "<font color = #d14d0f>**QUESTION 4**: </font> Use a table method to produce a sorted version of the `species` table by **genome size** (the column `\"Size\"`) in descending order (largest to smallest), and assign the sorted table to the variable `species_sorted_sizes`.\n",
    "\n",
    ">*Hint:*<br>- You may need to adjust an optional parameter in a table method."
   ]
  },
  {
   "cell_type": "code",
   "execution_count": 8,
   "metadata": {},
   "outputs": [
    {
     "data": {
      "text/html": [
       "<table border=\"1\" class=\"dataframe\">\n",
       "    <thead>\n",
       "        <tr>\n",
       "            <th>Scientific name</th> <th>Common name</th> <th>Genes</th> <th>Proteins</th> <th>Size</th>\n",
       "        </tr>\n",
       "    </thead>\n",
       "    <tbody>\n",
       "        <tr>\n",
       "            <td>Rattus norvegicus                            </td> <td>Rat         </td> <td>37647 </td> <td>50706   </td> <td>2870180000</td>\n",
       "        </tr>\n",
       "        <tr>\n",
       "            <td>Mus musculus                                 </td> <td>Mouse       </td> <td>48855 </td> <td>78065   </td> <td>2803570000</td>\n",
       "        </tr>\n",
       "        <tr>\n",
       "            <td>Canis lupus familiaris                       </td> <td>Dog         </td> <td>30186 </td> <td>47089   </td> <td>2410980000</td>\n",
       "        </tr>\n",
       "        <tr>\n",
       "            <td>Ailuropoda melanoleuca                       </td> <td>Giant panda </td> <td>27613 </td> <td>32507   </td> <td>2299510000</td>\n",
       "        </tr>\n",
       "        <tr>\n",
       "            <td>Zea mays                                     </td> <td>Corn (maize)</td> <td>104305</td> <td>116015  </td> <td>2067620000</td>\n",
       "        </tr>\n",
       "        <tr>\n",
       "            <td>Danio rerio                                  </td> <td>Zebrafish   </td> <td>39803 </td> <td>47861   </td> <td>1371720000</td>\n",
       "        </tr>\n",
       "        <tr>\n",
       "            <td>Gallus gallus                                </td> <td>Chicken     </td> <td>25062 </td> <td>46393   </td> <td>1230260000</td>\n",
       "        </tr>\n",
       "        <tr>\n",
       "            <td>Oryza sativa Japonica Group                  </td> <td>Rice        </td> <td>66100 </td> <td>81951   </td> <td>374423000 </td>\n",
       "        </tr>\n",
       "        <tr>\n",
       "            <td>Drosophila melanogaster                      </td> <td>Fruit fly   </td> <td>17651 </td> <td>30443   </td> <td>143726000 </td>\n",
       "        </tr>\n",
       "        <tr>\n",
       "            <td>Arabidopsis thaliana                         </td> <td>A. thaliana </td> <td>33583 </td> <td>35378   </td> <td>119668000 </td>\n",
       "        </tr>\n",
       "        <tr>\n",
       "            <td>Caenorhabditis elegans                       </td> <td>C. elegans  </td> <td>46711 </td> <td>27943   </td> <td>100286000 </td>\n",
       "        </tr>\n",
       "        <tr>\n",
       "            <td>Saccharomyces cerevisiae S288c               </td> <td>Yeast       </td> <td>6350  </td> <td>5907    </td> <td>12157100  </td>\n",
       "        </tr>\n",
       "        <tr>\n",
       "            <td>Escherichia coli                             </td> <td>E. coli     </td> <td>5618  </td> <td>5358    </td> <td>5478680   </td>\n",
       "        </tr>\n",
       "        <tr>\n",
       "            <td>Influenza A virus (A/New York/392/2004(H3N2))</td> <td>Influenza   </td> <td>12    </td> <td>12      </td> <td>13627     </td>\n",
       "        </tr>\n",
       "        <tr>\n",
       "            <td>Human immunodeficiency virus 1               </td> <td>HIV         </td> <td>10    </td> <td>10      </td> <td>9181      </td>\n",
       "        </tr>\n",
       "    </tbody>\n",
       "</table>"
      ],
      "text/plain": [
       "<IPython.core.display.HTML object>"
      ]
     },
     "metadata": {},
     "output_type": "display_data"
    }
   ],
   "source": [
    "# YOUR CODE HERE\n",
    "species_sorted_sizes = species.sort('Size', descending=True)\n",
    "\n",
    "# DO NOT CHANGE THIS CODE\n",
    "species_sorted_sizes.show()"
   ]
  },
  {
   "cell_type": "markdown",
   "metadata": {},
   "source": [
    "<font color = #d14d0f>**QUESTION 5**: </font> How many species have a genome size greater than 1,000,000,000? \n",
    "\n",
    ">*Hint:*\n",
    "<br>- First, create a filtered table using `table.where(column_label, predicate)`. Then, count the number of rows in the new table.\n",
    "<br>- All `Table.where` predicates can be found at [this link](https://www.data8.org/fa23/reference/#tablewhere-predicates). "
   ]
  },
  {
   "cell_type": "code",
   "execution_count": 9,
   "metadata": {},
   "outputs": [
    {
     "name": "stdout",
     "output_type": "stream",
     "text": [
      "There are 7 species that have a genome size above 1,000,000,000.\n"
     ]
    }
   ],
   "source": [
    "# YOUR CODE HERE\n",
    "filtered_species_tbl = species.where(\"Size\", are.above(1000000000))\n",
    "number_species_above_1000000000 = filtered_species_tbl.num_rows\n",
    "\n",
    "# DO NOT CHANGE THIS CODE\n",
    "print(f\"There are {number_species_above_1000000000} species that have a genome size above 1,000,000,000.\")"
   ]
  },
  {
   "cell_type": "markdown",
   "metadata": {},
   "source": [
    "If we wanted to extract the name of the species with the fewest genes, we can follow the steps below.\n",
    "<br> Just run the next few cells and follow along with the commented lines."
   ]
  },
  {
   "cell_type": "code",
   "execution_count": 10,
   "metadata": {},
   "outputs": [
    {
     "data": {
      "text/html": [
       "<table border=\"1\" class=\"dataframe\">\n",
       "    <thead>\n",
       "        <tr>\n",
       "            <th>Scientific name</th> <th>Common name</th> <th>Genes</th> <th>Proteins</th> <th>Size</th>\n",
       "        </tr>\n",
       "    </thead>\n",
       "    <tbody>\n",
       "        <tr>\n",
       "            <td>Human immunodeficiency virus 1               </td> <td>HIV         </td> <td>10    </td> <td>10      </td> <td>9181      </td>\n",
       "        </tr>\n",
       "        <tr>\n",
       "            <td>Influenza A virus (A/New York/392/2004(H3N2))</td> <td>Influenza   </td> <td>12    </td> <td>12      </td> <td>13627     </td>\n",
       "        </tr>\n",
       "        <tr>\n",
       "            <td>Escherichia coli                             </td> <td>E. coli     </td> <td>5618  </td> <td>5358    </td> <td>5478680   </td>\n",
       "        </tr>\n",
       "        <tr>\n",
       "            <td>Saccharomyces cerevisiae S288c               </td> <td>Yeast       </td> <td>6350  </td> <td>5907    </td> <td>12157100  </td>\n",
       "        </tr>\n",
       "        <tr>\n",
       "            <td>Drosophila melanogaster                      </td> <td>Fruit fly   </td> <td>17651 </td> <td>30443   </td> <td>143726000 </td>\n",
       "        </tr>\n",
       "        <tr>\n",
       "            <td>Gallus gallus                                </td> <td>Chicken     </td> <td>25062 </td> <td>46393   </td> <td>1230260000</td>\n",
       "        </tr>\n",
       "        <tr>\n",
       "            <td>Ailuropoda melanoleuca                       </td> <td>Giant panda </td> <td>27613 </td> <td>32507   </td> <td>2299510000</td>\n",
       "        </tr>\n",
       "        <tr>\n",
       "            <td>Canis lupus familiaris                       </td> <td>Dog         </td> <td>30186 </td> <td>47089   </td> <td>2410980000</td>\n",
       "        </tr>\n",
       "        <tr>\n",
       "            <td>Arabidopsis thaliana                         </td> <td>A. thaliana </td> <td>33583 </td> <td>35378   </td> <td>119668000 </td>\n",
       "        </tr>\n",
       "        <tr>\n",
       "            <td>Rattus norvegicus                            </td> <td>Rat         </td> <td>37647 </td> <td>50706   </td> <td>2870180000</td>\n",
       "        </tr>\n",
       "        <tr>\n",
       "            <td>Danio rerio                                  </td> <td>Zebrafish   </td> <td>39803 </td> <td>47861   </td> <td>1371720000</td>\n",
       "        </tr>\n",
       "        <tr>\n",
       "            <td>Caenorhabditis elegans                       </td> <td>C. elegans  </td> <td>46711 </td> <td>27943   </td> <td>100286000 </td>\n",
       "        </tr>\n",
       "        <tr>\n",
       "            <td>Mus musculus                                 </td> <td>Mouse       </td> <td>48855 </td> <td>78065   </td> <td>2803570000</td>\n",
       "        </tr>\n",
       "        <tr>\n",
       "            <td>Oryza sativa Japonica Group                  </td> <td>Rice        </td> <td>66100 </td> <td>81951   </td> <td>374423000 </td>\n",
       "        </tr>\n",
       "        <tr>\n",
       "            <td>Zea mays                                     </td> <td>Corn (maize)</td> <td>104305</td> <td>116015  </td> <td>2067620000</td>\n",
       "        </tr>\n",
       "    </tbody>\n",
       "</table>"
      ],
      "text/plain": [
       "<IPython.core.display.HTML object>"
      ]
     },
     "metadata": {},
     "output_type": "display_data"
    }
   ],
   "source": [
    "# 1: Sort table in ascending order of number of genes\n",
    "ascending_number_of_genes = species.sort(\"Genes\")\n",
    "ascending_number_of_genes.show() # Display the Table"
   ]
  },
  {
   "cell_type": "code",
   "execution_count": 11,
   "metadata": {},
   "outputs": [
    {
     "data": {
      "text/plain": [
       "array(['HIV', 'Influenza', 'E. coli', 'Yeast', 'Fruit fly', 'Chicken',\n",
       "       'Giant panda', 'Dog', 'A. thaliana', 'Rat', 'Zebrafish',\n",
       "       'C. elegans', 'Mouse', 'Rice', 'Corn (maize)'],\n",
       "      dtype='<U12')"
      ]
     },
     "execution_count": 11,
     "metadata": {},
     "output_type": "execute_result"
    }
   ],
   "source": [
    "# 2: Extract the column \"Common name\" as an array\n",
    "common_names_sorted = ascending_number_of_genes.column(\"Common name\")\n",
    "common_names_sorted # Show the array"
   ]
  },
  {
   "cell_type": "code",
   "execution_count": 12,
   "metadata": {},
   "outputs": [
    {
     "name": "stdout",
     "output_type": "stream",
     "text": [
      "Method 1: The species with the smallest number of genes is HIV.\n"
     ]
    }
   ],
   "source": [
    "# 3: Extract the first item of the array\n",
    "# Remember that the first item will be index number 0, the second item will be index number 1, and so on.\n",
    "fewest_gene_species = common_names_sorted.item(0)\n",
    "\n",
    "print(f\"Method 1: The species with the smallest number of genes is {fewest_gene_species}.\") # Print statement with formatted variable."
   ]
  },
  {
   "cell_type": "code",
   "execution_count": 13,
   "metadata": {},
   "outputs": [
    {
     "name": "stdout",
     "output_type": "stream",
     "text": [
      "Method 2: The species with the smallest number of genes  is HIV.\n"
     ]
    }
   ],
   "source": [
    "#Y ou could also combine all three steps together, like so:\n",
    "fewest_gene_species = species.sort(\"Genes\").column(\"Common name\").item(0)\n",
    "# The code will execute consecutive methods in order from left to right.\n",
    "print(f\"Method 2: The species with the smallest number of genes  is {fewest_gene_species}.\")"
   ]
  },
  {
   "cell_type": "markdown",
   "metadata": {},
   "source": [
    "<font color = #d14d0f>**QUESTION 6a**: </font> Following the same steps as above, determine the scientific name of the species with the largest number of genes and assign it to the variable `most_genes_species`.\n",
    "\n",
    ">*Note:* You do not have to follow the skeleton code below if you want to combine steps, as shown in the example above. However, your final answer must be assigned to the variable `most_genes_species`."
   ]
  },
  {
   "cell_type": "code",
   "execution_count": 14,
   "metadata": {},
   "outputs": [
    {
     "name": "stdout",
     "output_type": "stream",
     "text": [
      "The scientific name of the species with the most number of genes is Zea mays.\n"
     ]
    }
   ],
   "source": [
    "# YOUR CODE HERE\n",
    "genes_sorted = species.sort(\"Genes\", descending=True)\n",
    "scientific_names_sorted = genes_sorted.column(\"Scientific name\")\n",
    "most_genes_species = scientific_names_sorted.item(0)\n",
    "\n",
    "#DO NOT CHANGE THIS CODE\n",
    "print(f\"The scientific name of the species with the most number of genes is {most_genes_species}.\")"
   ]
  },
  {
   "cell_type": "markdown",
   "metadata": {},
   "source": [
    "<font color = #d14d0f>**QUESTION 6b**: </font> What is the common name for the species with the largest number of genes?"
   ]
  },
  {
   "cell_type": "code",
   "execution_count": 15,
   "metadata": {},
   "outputs": [
    {
     "name": "stdout",
     "output_type": "stream",
     "text": [
      "The common name of the species with the most number of genes is Corn (maize).\n"
     ]
    }
   ],
   "source": [
    "# YOUR CODE HERE\n",
    "#Feel free to create additional variables if needed\n",
    "most_genes_species_common_name = genes_sorted.column(\"Common name\").item(0)\n",
    "\n",
    "#DO NOT CHANGE THIS CODE\n",
    "print(f\"The common name of the species with the most number of genes is {most_genes_species_common_name}.\")"
   ]
  },
  {
   "cell_type": "markdown",
   "metadata": {},
   "source": [
    "<font color = #d14d0f>**QUESTION 7**: </font> Create a table `species_gene_sizes` with only two columns for `\"Common name\"` and `\"Size\"`, which is sorted by genome size in descending order."
   ]
  },
  {
   "cell_type": "code",
   "execution_count": 16,
   "metadata": {},
   "outputs": [
    {
     "data": {
      "text/html": [
       "<table border=\"1\" class=\"dataframe\">\n",
       "    <thead>\n",
       "        <tr>\n",
       "            <th>Common name</th> <th>Size</th>\n",
       "        </tr>\n",
       "    </thead>\n",
       "    <tbody>\n",
       "        <tr>\n",
       "            <td>Rat         </td> <td>2870180000</td>\n",
       "        </tr>\n",
       "        <tr>\n",
       "            <td>Mouse       </td> <td>2803570000</td>\n",
       "        </tr>\n",
       "        <tr>\n",
       "            <td>Dog         </td> <td>2410980000</td>\n",
       "        </tr>\n",
       "        <tr>\n",
       "            <td>Giant panda </td> <td>2299510000</td>\n",
       "        </tr>\n",
       "        <tr>\n",
       "            <td>Corn (maize)</td> <td>2067620000</td>\n",
       "        </tr>\n",
       "        <tr>\n",
       "            <td>Zebrafish   </td> <td>1371720000</td>\n",
       "        </tr>\n",
       "        <tr>\n",
       "            <td>Chicken     </td> <td>1230260000</td>\n",
       "        </tr>\n",
       "        <tr>\n",
       "            <td>Rice        </td> <td>374423000 </td>\n",
       "        </tr>\n",
       "        <tr>\n",
       "            <td>Fruit fly   </td> <td>143726000 </td>\n",
       "        </tr>\n",
       "        <tr>\n",
       "            <td>A. thaliana </td> <td>119668000 </td>\n",
       "        </tr>\n",
       "        <tr>\n",
       "            <td>C. elegans  </td> <td>100286000 </td>\n",
       "        </tr>\n",
       "        <tr>\n",
       "            <td>Yeast       </td> <td>12157100  </td>\n",
       "        </tr>\n",
       "        <tr>\n",
       "            <td>E. coli     </td> <td>5478680   </td>\n",
       "        </tr>\n",
       "        <tr>\n",
       "            <td>Influenza   </td> <td>13627     </td>\n",
       "        </tr>\n",
       "        <tr>\n",
       "            <td>HIV         </td> <td>9181      </td>\n",
       "        </tr>\n",
       "    </tbody>\n",
       "</table>"
      ],
      "text/plain": [
       "<IPython.core.display.HTML object>"
      ]
     },
     "metadata": {},
     "output_type": "display_data"
    }
   ],
   "source": [
    "# YOUR CODE HERE\n",
    "# Feel free to create additional variables as needed, but make sure your final table is assigned to species_gene_sizes.\n",
    "species_gene_sizes = species.select(\"Common name\", \"Size\").sort(\"Size\", descending=True)\n",
    "\n",
    "# DO NOT CHANGE THIS CODE\n",
    "species_gene_sizes.show()"
   ]
  },
  {
   "cell_type": "markdown",
   "metadata": {},
   "source": [
    "<font color = #d14d0f>**QUESTION 8**: </font> Using the table from Question 7, does there appear to be a relationship between the complexity of an organism and its genome size? Use data from the table above to justify your reasoning. Limit your answer to three sentences.\n",
    "> Hint: Refer back to the links from [Resources](###Resources)."
   ]
  },
  {
   "cell_type": "markdown",
   "metadata": {},
   "source": [
    "**ANSWER:** There doesn't appear to be a relationship between the complexity of an organism and its genome sized based on the above data. A chicken is arguably a more complex organism than a corn yet the corn has a greater genome size. This is due to a concept known as the C-value paradox which states that there is a lack of correlation between biological complexity and intuitively expected protein-coding genomic information or DNA content"
   ]
  },
  {
   "cell_type": "markdown",
   "metadata": {},
   "source": [
    "---\n",
    "\n",
    "## 2. Summary Statistics & Functions"
   ]
  },
  {
   "cell_type": "markdown",
   "metadata": {},
   "source": [
    "Summary statistics are numerical measures used to describe and summarize essential characteristics or properties of a dataset. They provide a concise overview of the dataset's central tendency, spread, and key features.\n",
    "\n",
    "All of the summary statistics below can be accessed using the `numpy` package (often abbreviated as `np`). Throughout this section, we are defining these four statistics as summary statistics.\n",
    "\n",
    ">#### **Mean:**\n",
    "The mean, often called the average, is calculated by summing all values in a dataset and dividing by the number of data points. It represents the arithmetic center of the data.<br>\n",
    "Use Case: The mean is useful for continuous data when you want to find the typical or central value. However, it can be sensitive to outliers, making it less suitable when extreme values are present. <br>\n",
    "Code: `np.mean(array)`\n",
    ">#### **Median:**\n",
    "The median is the middle value in a dataset when it is ordered. If there is an even number of data points, it's the average of the two middle values. The median is less sensitive to outliers compared to the mean.<br>\n",
    "Use Case: The median is preferred when dealing with skewed or non-normally distributed data, as it provides a more robust measure of central tendency.<br>\n",
    "Code: `np.median(array)`\n",
    ">#### **Standard Deviation:**\n",
    "The standard deviation quantifies the amount of variation or dispersion in a dataset. It measures how individual data points deviate from the mean.<br>\n",
    "Use Case: The standard deviation is useful for understanding the spread or variability in a dataset. A higher standard deviation indicates greater variability, making it valuable for assessing data consistency.<br>\n",
    "Code: `np.std(array)`\n",
    ">#### **Interquartile Range (IQR):**\n",
    "The IQR is a measure of statistical dispersion, specifically the range between the first quartile (Q1) and the third quartile (Q3). It identifies the middle 50% of the data.<br>\n",
    "Use Case: The IQR is robust against outliers and is often used to identify and handle extreme values. It's valuable for describing the spread of data while minimizing the influence of outliers.<br>\n",
    "Code: `sp.iqr(array)`"
   ]
  },
  {
   "cell_type": "markdown",
   "metadata": {},
   "source": [
    "<font color = #d14d0f>**QUESTION 1a**: </font> We want to create summary statistics for the `species` table. Fill in the function below that takes an array of numerical values and returns a list of summary statistics for that array.\n",
    "> Hint: You may want to refer to Part 1 Q3b."
   ]
  },
  {
   "cell_type": "code",
   "execution_count": 17,
   "metadata": {},
   "outputs": [],
   "source": [
    "def generate_summary_statistics(array):\n",
    "    mean = np.mean(array)\n",
    "    median = np.median(array)\n",
    "    std = np.std(array)\n",
    "    iqr = np.percentile(array, 75) - np.percentile(array, 25)\n",
    "    return [mean, median, std, iqr]\n",
    "\n"
   ]
  },
  {
   "cell_type": "markdown",
   "metadata": {},
   "source": [
    "<font color = #d14d0f>**QUESTION 1b**: </font> Fill in the code below using the `generate_summary_statistics_function` to create a list of summary statistics for three of the columns in `species`: `\"Size\"`, `\"Genes\"` and `\"Proteins\"`. \n",
    ">*Hint:* Remember that `generate_summary_statistics_function` takes in an **array**."
   ]
  },
  {
   "cell_type": "code",
   "execution_count": 18,
   "metadata": {},
   "outputs": [
    {
     "data": {
      "text/html": [
       "<table border=\"1\" class=\"dataframe\">\n",
       "    <thead>\n",
       "        <tr>\n",
       "            <th>Summary statistic</th> <th>Genome size</th> <th>Genes</th> <th>Proteins</th>\n",
       "        </tr>\n",
       "    </thead>\n",
       "    <tbody>\n",
       "        <tr>\n",
       "            <td>Mean               </td> <td>1.05397e+09</td> <td>32633.7</td> <td>40375.9 </td>\n",
       "        </tr>\n",
       "        <tr>\n",
       "            <td>Median             </td> <td>3.74423e+08</td> <td>30186  </td> <td>35378   </td>\n",
       "        </tr>\n",
       "        <tr>\n",
       "            <td>Standard Deviation </td> <td>1.10729e+09</td> <td>26655.4</td> <td>31756.8 </td>\n",
       "        </tr>\n",
       "        <tr>\n",
       "            <td>Interquartile Range</td> <td>2.12734e+09</td> <td>31256.5</td> <td>32358.5 </td>\n",
       "        </tr>\n",
       "    </tbody>\n",
       "</table>"
      ],
      "text/plain": [
       "Summary statistic   | Genome size | Genes   | Proteins\n",
       "Mean                | 1.05397e+09 | 32633.7 | 40375.9\n",
       "Median              | 3.74423e+08 | 30186   | 35378\n",
       "Standard Deviation  | 1.10729e+09 | 26655.4 | 31756.8\n",
       "Interquartile Range | 2.12734e+09 | 31256.5 | 32358.5"
      ]
     },
     "execution_count": 18,
     "metadata": {},
     "output_type": "execute_result"
    }
   ],
   "source": [
    "# YOUR CODE HERE\n",
    "species_size_summary_statistics = generate_summary_statistics(species.column(\"Size\"))\n",
    "species_genes_summary_statistics = generate_summary_statistics(species.column(\"Genes\"))\n",
    "species_proteins_summary_statistics = generate_summary_statistics(species.column(\"Proteins\"))\n",
    "\n",
    "# DO NOT CHANGE THIS CODE: This code formats your results into a table called `species_summary`.\n",
    "species_summary = Table().with_columns([\"Summary statistic\", [\"Mean\", \"Median\", \"Standard Deviation\", \"Interquartile Range\"]])\n",
    "species_summary = species_summary.with_columns([\"Genome size\", species_size_summary_statistics, \"Genes\", species_genes_summary_statistics, \"Proteins\", species_proteins_summary_statistics])\n",
    "species_summary"
   ]
  },
  {
   "cell_type": "markdown",
   "metadata": {},
   "source": [
    "<font color = #d14d0f>**QUESTION 2**: </font> Fill in the code below to create a function that takes in a Table that has columns for `'Size'`, `'Genes'` and `'Proteins'` and outputs a table summary (similar to the table shown in Question 1b) with summary statistics for those columns. "
   ]
  },
  {
   "cell_type": "code",
   "execution_count": null,
   "metadata": {},
   "outputs": [
    {
     "data": {
      "text/html": [
       "<table border=\"1\" class=\"dataframe\">\n",
       "    <thead>\n",
       "        <tr>\n",
       "            <th>Summary statistic</th> <th>Genome size</th> <th>Genes</th> <th>Proteins</th>\n",
       "        </tr>\n",
       "    </thead>\n",
       "    <tbody>\n",
       "        <tr>\n",
       "            <td>Mean               </td> <td>1.05397e+09</td> <td>32633.7</td> <td>40375.9 </td>\n",
       "        </tr>\n",
       "        <tr>\n",
       "            <td>Median             </td> <td>3.74423e+08</td> <td>30186  </td> <td>35378   </td>\n",
       "        </tr>\n",
       "        <tr>\n",
       "            <td>Standard Deviation </td> <td>1.10729e+09</td> <td>26655.4</td> <td>31756.8 </td>\n",
       "        </tr>\n",
       "        <tr>\n",
       "            <td>Interquartile Range</td> <td>2.12734e+09</td> <td>31256.5</td> <td>32358.5 </td>\n",
       "        </tr>\n",
       "    </tbody>\n",
       "</table>"
      ],
      "text/plain": [
       "Summary statistic   | Genome size | Genes   | Proteins\n",
       "Mean                | 1.05397e+09 | 32633.7 | 40375.9\n",
       "Median              | 3.74423e+08 | 30186   | 35378\n",
       "Standard Deviation  | 1.10729e+09 | 26655.4 | 31756.8\n",
       "Interquartile Range | 2.12734e+09 | 31256.5 | 32358.5"
      ]
     },
     "execution_count": 19,
     "metadata": {},
     "output_type": "execute_result"
    }
   ],
   "source": [
    "# YOUR CODE HERE\n",
    "def summary_statistics_table(tbl):\n",
    "    size_summary_statistics = generate_summary_statistics(tbl.column(\"Size\"))\n",
    "    genes_summary_statistics = generate_summary_statistics(tbl.column(\"Genes\"))\n",
    "    proteins_summary_statistics = generate_summary_statistics(tbl.column(\"Proteins\"))\n",
    "    #DO NOT CHANGE THIS CODE\n",
    "    tbl_summary = Table().with_columns([\"Summary statistic\", [\"Mean\", \"Median\", \"Standard Deviation\", \"Interquartile Range\"]])\n",
    "    tbl_summary = species_summary.with_columns([\"Genome size\", size_summary_statistics, \"Genes\", genes_summary_statistics, \"Proteins\", proteins_summary_statistics])\n",
    "    return tbl_summary\n",
    "\n",
    "#You can check your code by running it on the species table. Does it look like the table in Question 1b?\n",
    "summary_statistics_table(species)\n",
    "\n",
    "#You can check your code by running it on the species table. Does it look like the table in Question 1b?\n",
    "summary_statistics_table(species)\n",
    "\n"
   ]
  },
  {
   "cell_type": "markdown",
   "metadata": {},
   "source": [
    "---\n",
    "\n",
    "## 3. Visualizations\n",
    "\n",
    "In this class, we will often be using the `matplotlib` package for creating visualizations. The format for generating any kind of visualization will generally be in the format of `plt<method>(<data>)`. You can explore all of the different `matplotlib` plots and how to use them at [this link](https://matplotlib.org/stable/plot_types/index.html). We will primarily be using bar charts, histograms and scatter plots."
   ]
  },
  {
   "cell_type": "markdown",
   "metadata": {},
   "source": [
    "<font color = #d14d0f>**QUESTION 1**: </font> Import the pathogen data as a table and assign it to a variable `pathogens`. The *csv* file that we will turn into a table is called `'lab0_pathogens.csv'`, which is in the `'data'` folder."
   ]
  },
  {
   "cell_type": "code",
   "execution_count": null,
   "metadata": {},
   "outputs": [
    {
     "data": {
      "text/html": [
       "<table border=\"1\" class=\"dataframe\">\n",
       "    <thead>\n",
       "        <tr>\n",
       "            <th>Scientific name</th> <th>Description</th> <th>Subgroup</th> <th>Size</th> <th>Genes</th> <th>Proteins</th>\n",
       "        </tr>\n",
       "    </thead>\n",
       "    <tbody>\n",
       "        <tr>\n",
       "            <td>Yersina pestis            </td> <td>Plague            </td> <td>Bacteria</td> <td>4.93   </td> <td>4773 </td> <td>4390    </td>\n",
       "        </tr>\n",
       "        <tr>\n",
       "            <td>Mycobacterium tuberculosis</td> <td>Tuberculosis      </td> <td>Bacteria</td> <td>4.41   </td> <td>4300 </td> <td>4128    </td>\n",
       "        </tr>\n",
       "        <tr>\n",
       "            <td>Escherichia coli          </td> <td>E. coli           </td> <td>Bacteria</td> <td>5.1    </td> <td>5084 </td> <td>4721    </td>\n",
       "        </tr>\n",
       "        <tr>\n",
       "            <td>Helicobacter pylori       </td> <td>H. pylori         </td> <td>Bacteria</td> <td>1.6    </td> <td>1587 </td> <td>1545    </td>\n",
       "        </tr>\n",
       "        <tr>\n",
       "            <td>Bacillus anthracis        </td> <td>Anthrax           </td> <td>Bacteria</td> <td>5.49   </td> <td>5804 </td> <td>5299    </td>\n",
       "        </tr>\n",
       "        <tr>\n",
       "            <td>Clostridium tetani        </td> <td>Tetanus           </td> <td>Bacteria</td> <td>2.81   </td> <td>2740 </td> <td>2624    </td>\n",
       "        </tr>\n",
       "        <tr>\n",
       "            <td>Bordetella pertussis      </td> <td>Whooping cough    </td> <td>Bacteria</td> <td>4.1    </td> <td>3987 </td> <td>3574    </td>\n",
       "        </tr>\n",
       "        <tr>\n",
       "            <td>Staphylococcus aureus     </td> <td>Staph infection   </td> <td>Bacteria</td> <td>2.98   </td> <td>3115 </td> <td>2944    </td>\n",
       "        </tr>\n",
       "        <tr>\n",
       "            <td>Streptococcus pyogenes    </td> <td>Strep throat      </td> <td>Bacteria</td> <td>1.91   </td> <td>2008 </td> <td>1860    </td>\n",
       "        </tr>\n",
       "        <tr>\n",
       "            <td>Vibrio cholerae           </td> <td>Cholera           </td> <td>Bacteria</td> <td>4.36   </td> <td>4099 </td> <td>3808    </td>\n",
       "        </tr>\n",
       "        <tr>\n",
       "            <td>Variola major             </td> <td>Smallpox          </td> <td>Virus   </td> <td>0.19   </td> <td>206  </td> <td>206     </td>\n",
       "        </tr>\n",
       "        <tr>\n",
       "            <td>HIV                       </td> <td>HIV               </td> <td>Virus   </td> <td>0.0088 </td> <td>10   </td> <td>10      </td>\n",
       "        </tr>\n",
       "        <tr>\n",
       "            <td>Sudan ebolavirus          </td> <td>Ebola             </td> <td>Virus   </td> <td>0.019  </td> <td>9    </td> <td>9       </td>\n",
       "        </tr>\n",
       "        <tr>\n",
       "            <td>Measles morbillivirus     </td> <td>Measles           </td> <td>Virus   </td> <td>0.016  </td> <td>8    </td> <td>8       </td>\n",
       "        </tr>\n",
       "        <tr>\n",
       "            <td>Influenza A               </td> <td>Flu               </td> <td>Virus   </td> <td>0.013  </td> <td>11   </td> <td>11      </td>\n",
       "        </tr>\n",
       "        <tr>\n",
       "            <td>West Nile Virus           </td> <td>West Nile Virus   </td> <td>Virus   </td> <td>0.011  </td> <td>3    </td> <td>3       </td>\n",
       "        </tr>\n",
       "        <tr>\n",
       "            <td>Zika Virus                </td> <td>Zika              </td> <td>Virus   </td> <td>0.011  </td> <td>3    </td> <td>3       </td>\n",
       "        </tr>\n",
       "        <tr>\n",
       "            <td>Dengue virus              </td> <td>Dengue fever      </td> <td>Virus   </td> <td>0.011  </td> <td>10   </td> <td>10      </td>\n",
       "        </tr>\n",
       "        <tr>\n",
       "            <td>Ancylostoma duodenale     </td> <td>Old World hookworm</td> <td>Parasite</td> <td>332.88 </td> <td>27483</td> <td>27483   </td>\n",
       "        </tr>\n",
       "        <tr>\n",
       "            <td>Necator americanus        </td> <td>New World hookworm</td> <td>Parasite</td> <td>244.08 </td> <td>19153</td> <td>19153   </td>\n",
       "        </tr>\n",
       "        <tr>\n",
       "            <td>Toxoplasma gondii         </td> <td>Toxoplasmosis     </td> <td>Parasite</td> <td>65.67  </td> <td>8505 </td> <td>8318    </td>\n",
       "        </tr>\n",
       "        <tr>\n",
       "            <td>Girardia tigrina          </td> <td>Girardia          </td> <td>Parasite</td> <td>1428.15</td> <td>22000</td> <td>22000   </td>\n",
       "        </tr>\n",
       "        <tr>\n",
       "            <td>Trypanosoma cruzi         </td> <td>Chagas disease    </td> <td>Parasite</td> <td>105    </td> <td>22570</td> <td>22570   </td>\n",
       "        </tr>\n",
       "        <tr>\n",
       "            <td>Plasmodium vivax          </td> <td>Malaria (mild)    </td> <td>Parasite</td> <td>39.65  </td> <td>6829 </td> <td>6510    </td>\n",
       "        </tr>\n",
       "        <tr>\n",
       "            <td>Plasmodium falciparum     </td> <td>Malaria (severe)  </td> <td>Parasite</td> <td>23.33  </td> <td>5670 </td> <td>5392    </td>\n",
       "        </tr>\n",
       "        <tr>\n",
       "            <td>Stachybotrys chartarum    </td> <td>Black mold        </td> <td>Fungus  </td> <td>36.01  </td> <td>11370</td> <td>11368   </td>\n",
       "        </tr>\n",
       "        <tr>\n",
       "            <td>Pneumocystis jirovecii    </td> <td>Pneumonia         </td> <td>Fungus  </td> <td>8.18   </td> <td>3754 </td> <td>3537    </td>\n",
       "        </tr>\n",
       "        <tr>\n",
       "            <td>Histoplasma capsulatum    </td> <td>Histoplasmosis    </td> <td>Fungus  </td> <td>38.96  </td> <td>9792 </td> <td>9547    </td>\n",
       "        </tr>\n",
       "        <tr>\n",
       "            <td>Cryptococcus neoformans   </td> <td>Meningitis        </td> <td>Fungus  </td> <td>18.79  </td> <td>6914 </td> <td>6914    </td>\n",
       "        </tr>\n",
       "        <tr>\n",
       "            <td>Aspergillus flavus        </td> <td>Aspergillosis     </td> <td>Fungus  </td> <td>37.7   </td> <td>12846</td> <td>12846   </td>\n",
       "        </tr>\n",
       "        <tr>\n",
       "            <td>Aspergillus fumigatus     </td> <td>Aspergillosis     </td> <td>Fungus  </td> <td>29.385 </td> <td>19832</td> <td>19260   </td>\n",
       "        </tr>\n",
       "        <tr>\n",
       "            <td>Candida albicans          </td> <td>Yeast             </td> <td>Fungus  </td> <td>14.28  </td> <td>6263 </td> <td>6030    </td>\n",
       "        </tr>\n",
       "    </tbody>\n",
       "</table>"
      ],
      "text/plain": [
       "<IPython.core.display.HTML object>"
      ]
     },
     "metadata": {},
     "output_type": "display_data"
    }
   ],
   "source": [
    "# YOUR CODE HERE\n",
    "pathogens = Table.read_table(\"./data/intro_pathogens.csv\")\n",
    "pathogens.show()"
   ]
  },
  {
   "cell_type": "markdown",
   "metadata": {},
   "source": [
    "Bar charts can be used to compare values in categorical data. For more information on bar charts, feel free to refer to the [Data 8 textbook](https://inferentialthinking.com/chapters/07/1/Visualizing_Categorical_Distributions.html). \n",
    "\n",
    "<font color = #d14d0f>**QUESTION 2a**:</font> We want to create a bar chart of subgroup counts. First, create a table showing the number of pathogens in each subgroup and assign it to subgroup_counts. It should have two columns `Subgroup` and `count`.\n",
    ">*Hint:* Check out the `Table.group()` method."
   ]
  },
  {
   "cell_type": "code",
   "execution_count": 21,
   "metadata": {},
   "outputs": [
    {
     "data": {
      "text/html": [
       "<table border=\"1\" class=\"dataframe\">\n",
       "    <thead>\n",
       "        <tr>\n",
       "            <th>Subgroup</th> <th>count</th>\n",
       "        </tr>\n",
       "    </thead>\n",
       "    <tbody>\n",
       "        <tr>\n",
       "            <td>Bacteria</td> <td>10   </td>\n",
       "        </tr>\n",
       "        <tr>\n",
       "            <td>Fungus  </td> <td>7    </td>\n",
       "        </tr>\n",
       "        <tr>\n",
       "            <td>Parasite</td> <td>7    </td>\n",
       "        </tr>\n",
       "        <tr>\n",
       "            <td>Virus   </td> <td>8    </td>\n",
       "        </tr>\n",
       "    </tbody>\n",
       "</table>"
      ],
      "text/plain": [
       "<IPython.core.display.HTML object>"
      ]
     },
     "metadata": {},
     "output_type": "display_data"
    }
   ],
   "source": [
    "# YOUR CODE HERE\n",
    "subgroup_counts = pathogens.group(\"Subgroup\")\n",
    "subgroup_counts.show()"
   ]
  },
  {
   "cell_type": "markdown",
   "metadata": {},
   "source": [
    "<font color = #d14d0f>**QUESTION 2b**: </font> Now, use the table `subgroup_counts` to create a bar chart using `plt.bar(<x_values>, <y_values>)`. \n",
    ">*Hint:*<br>- The x_values and y_values should be arrays containing data extracted from the `subgroup_counts` table."
   ]
  },
  {
   "cell_type": "code",
   "execution_count": 22,
   "metadata": {},
   "outputs": [
    {
     "data": {
      "image/png": "[encoded data removed]",
      "text/plain": [
       "<Figure size 640x480 with 1 Axes>"
      ]
     },
     "metadata": {},
     "output_type": "display_data"
    }
   ],
   "source": [
    "# YOUR CODE HERE\n",
    "subgroup_names = subgroup_counts.column(\"Subgroup\")\n",
    "subgroup_counts = subgroup_counts.column(\"count\")\n",
    "plt.bar(subgroup_names, subgroup_counts)\n",
    "\n",
    "\n",
    "# DO NOT CHANGE THIS CODE\n",
    "plt.xlabel('Subgroup')\n",
    "plt.ylabel('Count')\n",
    "plt.title('Bar Chart of Subgroup Counts')\n",
    "plt.xticks(rotation=45)\n",
    "plt.show()"
   ]
  },
  {
   "cell_type": "markdown",
   "metadata": {},
   "source": [
    "Now, we we will be looking at histograms. Histograms are used to show the distribution of a numerical variable. Feel free to review the concept of histograms from the [Data 8 Textbook](https://inferentialthinking.com/chapters/07/2/Visualizing_Numerical_Distributions.html).\n",
    "\n",
    "<font color = #d14d0f>**QUESTION 3**: </font> In the code cell below, create a histogram of genome sizes (in megabases) from the pathogens table.\n",
    ">*Hint:<br>* Use the following format `<table_name>.hist('column_name', bins = b, normed = n)` where<br>- b gives the number of bins in the histogram<br>- n is either True or False for whether bin heights should be normalized by number of observations<br>- Choose 20 bins and normed = True.\n"
   ]
  },
  {
   "cell_type": "code",
   "execution_count": 23,
   "metadata": {},
   "outputs": [
    {
     "data": {
      "image/png": "[encoded data removed]",
      "text/plain": [
       "<Figure size 600x400 with 1 Axes>"
      ]
     },
     "metadata": {},
     "output_type": "display_data"
    }
   ],
   "source": [
    "# YOUR CODE HERE\n",
    "genome_size_hist = pathogens.hist(\"Size\", bins=20, normed=True)\n",
    "genome_size_hist"
   ]
  },
  {
   "cell_type": "markdown",
   "metadata": {},
   "source": [
    "<font color = #d14d0f>**QUESTION 4**: </font> Create a scatterplot of the genome size (x-axis) vs the number of genes (y-axis) in `pathogens` using the `matplotlib` package.\n",
    "\n",
    ">*Hint:*<br>- The format for a `matplotlib` scatterplot is `plt.scatter(<x_values_array>, <y_values_array>)`"
   ]
  },
  {
   "cell_type": "code",
   "execution_count": 24,
   "metadata": {},
   "outputs": [
    {
     "data": {
      "image/png": "[encoded data removed]",
      "text/plain": [
       "<Figure size 640x480 with 1 Axes>"
      ]
     },
     "metadata": {},
     "output_type": "display_data"
    }
   ],
   "source": [
    "# YOUR CODE HERE\n",
    "genome_sizes_pathogens = pathogens.column(\"Size\")\n",
    "num_genes_pathogens =  pathogens.column(\"Genes\")\n",
    "plt.scatter(genome_sizes_pathogens, num_genes_pathogens)\n",
    "\n",
    "#DO NOT CHANGE THIS CODE\n",
    "plt.title(\"Genome Size vs Number of Genes\")\n",
    "plt.xlabel(\"Genome Size\")\n",
    "plt.ylabel(\"Number of Genes\")\n",
    "plt.show()"
   ]
  },
  {
   "cell_type": "markdown",
   "metadata": {},
   "source": [
    "---\n",
    "\n",
    "## 4. Putting it All Together"
   ]
  },
  {
   "cell_type": "markdown",
   "metadata": {},
   "source": [
    "We are going to combine the skills we have practiced to explore the `animals` table."
   ]
  },
  {
   "cell_type": "markdown",
   "metadata": {},
   "source": [
    "<font color = #d14d0f>**QUESTION 1**: </font> Import the csv file with the path `data/lab0_animals.csv` into a Table called `animals`. Then, display the Table."
   ]
  },
  {
   "cell_type": "code",
   "execution_count": 25,
   "metadata": {},
   "outputs": [
    {
     "data": {
      "text/html": [
       "<table border=\"1\" class=\"dataframe\">\n",
       "    <thead>\n",
       "        <tr>\n",
       "            <th>Scientific name</th> <th>Description</th> <th>Subgroup</th> <th>Size</th> <th>Genes</th> <th>Proteins</th>\n",
       "        </tr>\n",
       "    </thead>\n",
       "    <tbody>\n",
       "        <tr>\n",
       "            <td>Drosophila yakuba                     </td> <td>African fruit fly   </td> <td>Insects  </td> <td>165.71 </td> <td>16079</td> <td>23317   </td>\n",
       "        </tr>\n",
       "        <tr>\n",
       "            <td>Homo sapiens                          </td> <td>Human               </td> <td>Mammals  </td> <td>3231.3 </td> <td>56201</td> <td>102633  </td>\n",
       "        </tr>\n",
       "        <tr>\n",
       "            <td>Anopheles gambiae                     </td> <td>Mosquito            </td> <td>Insects  </td> <td>265.027</td> <td>13184</td> <td>14099   </td>\n",
       "        </tr>\n",
       "        <tr>\n",
       "            <td>Drosophila melanogaster               </td> <td>Common fruit fly    </td> <td>Insects  </td> <td>143.726</td> <td>17651</td> <td>30443   </td>\n",
       "        </tr>\n",
       "        <tr>\n",
       "            <td>Apis mellifera                        </td> <td>Western honey bee   </td> <td>Insects  </td> <td>250.287</td> <td>13401</td> <td>21777   </td>\n",
       "        </tr>\n",
       "        <tr>\n",
       "            <td>Danio rerio                           </td> <td>Zebrafish           </td> <td>Fishes   </td> <td>1371.72</td> <td>39803</td> <td>47861   </td>\n",
       "        </tr>\n",
       "        <tr>\n",
       "            <td>Mus musculus                          </td> <td>House mouse         </td> <td>Mammals  </td> <td>2803.57</td> <td>48855</td> <td>78065   </td>\n",
       "        </tr>\n",
       "        <tr>\n",
       "            <td>Takifugu rubripes                     </td> <td>Japanese puffer     </td> <td>Fishes   </td> <td>391.485</td> <td>23164</td> <td>31052   </td>\n",
       "        </tr>\n",
       "        <tr>\n",
       "            <td>Rattus norvegicus                     </td> <td>Rat                 </td> <td>Mammals  </td> <td>2870.18</td> <td>37647</td> <td>50706   </td>\n",
       "        </tr>\n",
       "        <tr>\n",
       "            <td>Felis catus                           </td> <td>Domestic cat        </td> <td>Mammals  </td> <td>2641.34</td> <td>25364</td> <td>33226   </td>\n",
       "        </tr>\n",
       "        <tr>\n",
       "            <td>Bos taurus                            </td> <td>Cow                 </td> <td>Mammals  </td> <td>2670.14</td> <td>32432</td> <td>49107   </td>\n",
       "        </tr>\n",
       "        <tr>\n",
       "            <td>Sus scrofa                            </td> <td>Wild boar           </td> <td>Mammals  </td> <td>2808.53</td> <td>38792</td> <td>47400   </td>\n",
       "        </tr>\n",
       "        <tr>\n",
       "            <td>Ornithorhynchus anatinus              </td> <td>Platypus            </td> <td>Mammals  </td> <td>1995.61</td> <td>23777</td> <td>26109   </td>\n",
       "        </tr>\n",
       "        <tr>\n",
       "            <td>Gallus gallus                         </td> <td>Chicken             </td> <td>Birds    </td> <td>1230.26</td> <td>25062</td> <td>46393   </td>\n",
       "        </tr>\n",
       "        <tr>\n",
       "            <td>Meleagris gallopavo                   </td> <td>Wild turkey         </td> <td>Birds    </td> <td>1128.34</td> <td>20903</td> <td>26423   </td>\n",
       "        </tr>\n",
       "        <tr>\n",
       "            <td>Coturnix japonica                     </td> <td>Japanese quail      </td> <td>Birds    </td> <td>927.657</td> <td>20522</td> <td>39088   </td>\n",
       "        </tr>\n",
       "        <tr>\n",
       "            <td>Equus caballus                        </td> <td>Horse               </td> <td>Mammals  </td> <td>2474.93</td> <td>26948</td> <td>36064   </td>\n",
       "        </tr>\n",
       "        <tr>\n",
       "            <td>Oreochromis niloticus                 </td> <td>Nile tilapia        </td> <td>Fishes   </td> <td>927.696</td> <td>30411</td> <td>47714   </td>\n",
       "        </tr>\n",
       "        <tr>\n",
       "            <td>Papio anubis                          </td> <td>Baboon              </td> <td>Mammals  </td> <td>2948.4 </td> <td>38695</td> <td>54082   </td>\n",
       "        </tr>\n",
       "        <tr>\n",
       "            <td>Ovis aries                            </td> <td>Sheep               </td> <td>Mammals  </td> <td>2615.52</td> <td>57491</td> <td>85433   </td>\n",
       "        </tr>\n",
       "        <tr>\n",
       "            <td>Canis lupus familiaris                </td> <td>Dog                 </td> <td>Mammals  </td> <td>2410.98</td> <td>30186</td> <td>47089   </td>\n",
       "        </tr>\n",
       "        <tr>\n",
       "            <td>Drosophila simulans                   </td> <td>Fruit fly           </td> <td>Insects  </td> <td>124.966</td> <td>15229</td> <td>24119   </td>\n",
       "        </tr>\n",
       "        <tr>\n",
       "            <td>Pan troglodytes                       </td> <td>Chimpanzee          </td> <td>Mammals  </td> <td>3309.58</td> <td>34813</td> <td>56786   </td>\n",
       "        </tr>\n",
       "        <tr>\n",
       "            <td>Monodelphis domestica                 </td> <td>Short-tailed opossum</td> <td>Mammals  </td> <td>3598.44</td> <td>36227</td> <td>45804   </td>\n",
       "        </tr>\n",
       "        <tr>\n",
       "            <td>Tribolium castaneum                   </td> <td>Red flour beetle    </td> <td>Insects  </td> <td>210.265</td> <td>13181</td> <td>18076   </td>\n",
       "        </tr>\n",
       "        <tr>\n",
       "            <td>Drosophila pseudoobscura pseudoobscura</td> <td>Fruit fly           </td> <td>Insects  </td> <td>152.696</td> <td>16721</td> <td>23456   </td>\n",
       "        </tr>\n",
       "        <tr>\n",
       "            <td>Macaca mulatta                        </td> <td>Rhesus macaque      </td> <td>Mammals  </td> <td>3236.22</td> <td>186  </td> <td>99      </td>\n",
       "        </tr>\n",
       "        <tr>\n",
       "            <td>Schistosoma mansoni                   </td> <td>Blood fluke         </td> <td>Flatworms</td> <td>364.538</td> <td>15882</td> <td>11787   </td>\n",
       "        </tr>\n",
       "        <tr>\n",
       "            <td>Oryctolagus cuniculus                 </td> <td>European rabbit     </td> <td>Mammals  </td> <td>2737.46</td> <td>28903</td> <td>37564   </td>\n",
       "        </tr>\n",
       "        <tr>\n",
       "            <td>Pongo abelii                          </td> <td>Sumatran orangutan  </td> <td>Mammals  </td> <td>3441.24</td> <td>32434</td> <td>37509   </td>\n",
       "        </tr>\n",
       "        <tr>\n",
       "            <td>Taeniopygia guttata                   </td> <td>Zebra finch         </td> <td>Birds    </td> <td>1232.14</td> <td>17357</td> <td>19447   </td>\n",
       "        </tr>\n",
       "        <tr>\n",
       "            <td>Salmo salar                           </td> <td>Atlantic salmon     </td> <td>Fishes   </td> <td>2966.89</td> <td>116  </td> <td>13      </td>\n",
       "        </tr>\n",
       "        <tr>\n",
       "            <td>Callithrix jacchus                    </td> <td>Common marmoset     </td> <td>Mammals  </td> <td>2914.96</td> <td>34856</td> <td>44212   </td>\n",
       "        </tr>\n",
       "        <tr>\n",
       "            <td>Nasonia vitripennis                   </td> <td>Small wasp          </td> <td>Insects  </td> <td>295.781</td> <td>14273</td> <td>24671   </td>\n",
       "        </tr>\n",
       "        <tr>\n",
       "            <td>Nomascus leucogenys                   </td> <td>Gibbon              </td> <td>Mammals  </td> <td>2962.06</td> <td>28462</td> <td>38654   </td>\n",
       "        </tr>\n",
       "        <tr>\n",
       "            <td>Oryzias latipes                       </td> <td>Japanese rice fish  </td> <td>Fishes   </td> <td>869.818</td> <td>26074</td> <td>34487   </td>\n",
       "        </tr>\n",
       "        <tr>\n",
       "            <td>Anolis carolinensis                   </td> <td>Carolina anole      </td> <td>Reptiles </td> <td>1799.14</td> <td>21624</td> <td>32243   </td>\n",
       "        </tr>\n",
       "        <tr>\n",
       "            <td>Macaca fascicularis                   </td> <td>Crab-eating macaque </td> <td>Mammals  </td> <td>2946.84</td> <td>33107</td> <td>62703   </td>\n",
       "        </tr>\n",
       "        <tr>\n",
       "            <td>Gorilla gorilla gorilla               </td> <td>Gorilla             </td> <td>Mammals  </td> <td>3035.66</td> <td>31329</td> <td>33704   </td>\n",
       "        </tr>\n",
       "        <tr>\n",
       "            <td>Bombus terrestris                     </td> <td>Large bumblebee     </td> <td>Insects  </td> <td>248.654</td> <td>11188</td> <td>20321   </td>\n",
       "        </tr>\n",
       "        <tr>\n",
       "            <td>Lepisosteus oculatus                  </td> <td>Spotted gar         </td> <td>Fishes   </td> <td>945.878</td> <td>21770</td> <td>41647   </td>\n",
       "        </tr>\n",
       "        <tr>\n",
       "            <td>Pan paniscus                          </td> <td>Bonobo              </td> <td>Mammals  </td> <td>3286.64</td> <td>95   </td> <td>15      </td>\n",
       "        </tr>\n",
       "        <tr>\n",
       "            <td>Capra hircus                          </td> <td>Goat                </td> <td>Mammals  </td> <td>2635.85</td> <td>26912</td> <td>30164   </td>\n",
       "        </tr>\n",
       "        <tr>\n",
       "            <td>Microtus ochrogaster                  </td> <td>Prairie vole        </td> <td>Mammals  </td> <td>2287.34</td> <td>24260</td> <td>30752   </td>\n",
       "        </tr>\n",
       "        <tr>\n",
       "            <td>Cynoglossus semilaevis                </td> <td>Tiny fish           </td> <td>Fishes   </td> <td>470.199</td> <td>24079</td> <td>31632   </td>\n",
       "        </tr>\n",
       "        <tr>\n",
       "            <td>Ficedula albicollis                   </td> <td>Collared flycatcher </td> <td>Birds    </td> <td>1118.34</td> <td>16778</td> <td>26090   </td>\n",
       "        </tr>\n",
       "        <tr>\n",
       "            <td>Chrysemys picta bellii                </td> <td>Painted turtle      </td> <td>Reptiles </td> <td>2365.77</td> <td>24356</td> <td>42558   </td>\n",
       "        </tr>\n",
       "        <tr>\n",
       "            <td>Parus major                           </td> <td>Great tit           </td> <td>Birds    </td> <td>1020.31</td> <td>35872</td> <td>76327   </td>\n",
       "        </tr>\n",
       "        <tr>\n",
       "            <td>Chlorocebus sabaeus                   </td> <td>Green monkey        </td> <td>Mammals  </td> <td>2789.66</td> <td>35027</td> <td>61803   </td>\n",
       "        </tr>\n",
       "        <tr>\n",
       "            <td>Esox lucius                           </td> <td>Northern pike       </td> <td>Fishes   </td> <td>904.453</td> <td>26012</td> <td>43433   </td>\n",
       "        </tr>\n",
       "        <tr>\n",
       "            <td>Poecilia reticulata                   </td> <td>Guppy               </td> <td>Fishes   </td> <td>731.622</td> <td>26235</td> <td>42641   </td>\n",
       "        </tr>\n",
       "    </tbody>\n",
       "</table>"
      ],
      "text/plain": [
       "<IPython.core.display.HTML object>"
      ]
     },
     "metadata": {},
     "output_type": "display_data"
    }
   ],
   "source": [
    "# YOUR CODE HERE\n",
    "animals = Table.read_table(\"./data/intro_animals.csv\")\n",
    "animals.show()"
   ]
  },
  {
   "cell_type": "markdown",
   "metadata": {},
   "source": [
    "<font color = #d14d0f>**QUESTION 2**: </font> Build a function `smallest` that takes in a column label (String) from the `animals` Table. It should return the scientific name of the animal (as a string) with the smallest quantity of the input column label. Then, call the function on each of the three quantitative variable columns in `animals`.\n",
    "> For example, `smallest(\"Size\")` returns the scientific name of the animal with the smallest genome size which is `\"Drosophila simulans\"`. <br>\n",
    "> You do not have to follow the skeleton code if you do not wish."
   ]
  },
  {
   "cell_type": "code",
   "execution_count": 26,
   "metadata": {},
   "outputs": [
    {
     "name": "stdout",
     "output_type": "stream",
     "text": [
      "The animal with the smallest genome size is Drosophila simulans.\n",
      "The animal with the smallest number of genes is Pan paniscus.\n",
      "The animal with the smallest number of proteins is Salmo salar.\n"
     ]
    }
   ],
   "source": [
    "# YOUR CODE HERE\n",
    "def smallest(column_label):\n",
    "    sorted_by_col = animals.sort(column_label)\n",
    "    smallest_value = sorted_by_col.column(\"Scientific name\").item(0)\n",
    "    return smallest_value\n",
    "\n",
    "smallest_size = smallest(\"Size\")\n",
    "smallest_genes = smallest(\"Genes\")\n",
    "smallest_proteins = smallest(\"Proteins\")\n",
    "\n",
    "#DO NOT CHANGE THIS CODE \n",
    "print(f\"The animal with the smallest genome size is {smallest_size}.\")\n",
    "print(f\"The animal with the smallest number of genes is {smallest_genes}.\")\n",
    "print(f\"The animal with the smallest number of proteins is {smallest_proteins}.\")"
   ]
  },
  {
   "cell_type": "markdown",
   "metadata": {},
   "source": [
    "<font color = #d14d0f>**QUESTION 3**: </font> What is the scientific name of the **bird** with the largest genome size? Store your answer as a string in the variable `largest_genome_size_bird`."
   ]
  },
  {
   "cell_type": "code",
   "execution_count": 27,
   "metadata": {},
   "outputs": [
    {
     "name": "stdout",
     "output_type": "stream",
     "text": [
      "The bird with the largest genome size is called Monodelphis domestica.\n"
     ]
    }
   ],
   "source": [
    "# YOUR CODE HERE\n",
    "def largest(column_label):\n",
    "    sorted_by_col = animals.sort(column_label, descending=True)\n",
    "    largest_value = sorted_by_col.column(\"Scientific name\").item(0)\n",
    "    return largest_value\n",
    "largest_genome_size_bird =largest(\"Size\")\n",
    "\n",
    "#DO NOT CHANGE THIS CODE\n",
    "print(f\"The bird with the largest genome size is called {largest_genome_size_bird}.\")"
   ]
  },
  {
   "cell_type": "markdown",
   "metadata": {},
   "source": [
    "<font color = #d14d0f>**QUESTION 4**: </font> Fill in the template code below to determine which subgroup has the largest mean genome size, and the corresponding mean genome size of that subgroup. Store your respective answers in `largest_genome_size_subgroup` and `largest_mean_genome_size`.\n",
    ">*Hint:*<br>- The `tbl.group()` method from the `datascience` package also accepts an optional grouping function as a parameter. Feel free to review the [Data C8 Reference Sheet](http://data8.org/sp22/python-reference.html)."
   ]
  },
  {
   "cell_type": "code",
   "execution_count": 28,
   "metadata": {},
   "outputs": [
    {
     "name": "stdout",
     "output_type": "stream",
     "text": [
      "The subgroup with the largest mean genome size is Mammals, with a mean genome size of 2860.5. \n"
     ]
    }
   ],
   "source": [
    "# YOUR CODE HERE\n",
    "animal_subgroup_means = animals.group(\"Subgroup\", np.mean).select(\"Subgroup\", \"Size mean\")\n",
    "subgroups_sorted = animal_subgroup_means.sort(\"Size mean\", descending=True)\n",
    "\n",
    "largest_genome_size_subgroup = subgroups_sorted.column(\"Subgroup\").item(0)\n",
    "largest_mean_genome_size = subgroups_sorted.column(\"Size mean\").item(0)\n",
    "\n",
    "#DO NOT CHANGE THIS CODE\n",
    "print(f\"The subgroup with the largest mean genome size is {largest_genome_size_subgroup}, with a mean genome size of {np.round(largest_mean_genome_size, 1)}. \")"
   ]
  },
  {
   "cell_type": "markdown",
   "metadata": {},
   "source": [
    "--- \n",
    "\n",
    "## 5. Data C8 Statistical Methods Review"
   ]
  },
  {
   "cell_type": "markdown",
   "metadata": {},
   "source": [
    "**Scatter Plots and Correlation**\n",
    "\n",
    "<font color = #d14d0f>**QUESTION 1a**: </font> Create a function `z_score` that will convert an input array into z-scores. \n",
    "\n",
    "\n",
    ">*Note*: Data C8 calls z-scores \"standard units\", which are the standard deviation of the data point from the mean. These are unitless measurements describing a data point's relationship to the mean of the sample. <br>\n",
    ">*Hint:* Check the standard units section of the [Data 8 textbook](https://inferentialthinking.com/chapters/14/2/Variability.html?highlight=standard_units#standard-units) or this section from [Stat 21](https://www.stat.berkeley.edu/~stark/SticiGui/Text/computeR.htm#:~:text=Standard%20units%20are%20a%20way,the%20mean%20of%20the%20data.)."
   ]
  },
  {
   "cell_type": "code",
   "execution_count": 29,
   "metadata": {},
   "outputs": [],
   "source": [
    "# YOUR CODE HERE\n",
    "def z_score(array):\n",
    "    return (array - np.mean(array)) / np.std(array)"
   ]
  },
  {
   "cell_type": "markdown",
   "metadata": {},
   "source": [
    "<font color = #d14d0f>**QUESTION 1b**: </font> Fill in the function `correlation` that will calculate the Pearson correlation coefficient between an inputted `x_array` and `y_array`.\n",
    "\n",
    ">*Hint:*<br>- The Pearson correlation coefficient is the mean product of each x and y z-score. <br>- You may want to use the function you created in the previous question. <br>- Check the correlation chapter of the [Data 8 textbook](https://inferentialthinking.com/chapters/15/1/Correlation.html#the-correlation-function). "
   ]
  },
  {
   "cell_type": "code",
   "execution_count": 30,
   "metadata": {},
   "outputs": [],
   "source": [
    "# YOUR CODE HERE\n",
    "def correlation(x_array, y_array):\n",
    "    return np.mean(z_score(x_array) * z_score(y_array))"
   ]
  },
  {
   "cell_type": "markdown",
   "metadata": {},
   "source": [
    "<font color = #d14d0f>**QUESTION 1c**: </font> Assign the array of values in the `'Genes'` column of `animals` to `num_genes_animals`. Assign the array of values in the `'Proteins'` column of `animals` to `num_proteins_animals`. Then, calculate the correlation coefficient between the two arrays, and assign your result to `animals_genes_proteins_correlation`."
   ]
  },
  {
   "cell_type": "code",
   "execution_count": 31,
   "metadata": {},
   "outputs": [
    {
     "name": "stdout",
     "output_type": "stream",
     "text": [
      "The Pearson correlation coefficient between animal gene count and protein count is 0.93.\n"
     ]
    }
   ],
   "source": [
    "# YOUR CODE HERE\n",
    "num_genes_animals = animals.column(\"Genes\")\n",
    "num_proteins_animals = animals.column(\"Proteins\")\n",
    "animals_genes_proteins_correlation = correlation(num_genes_animals, num_proteins_animals)\n",
    "\n",
    "print(f\"The Pearson correlation coefficient between animal gene count and protein count is {np.round(animals_genes_proteins_correlation,2)}.\")"
   ]
  },
  {
   "cell_type": "markdown",
   "metadata": {},
   "source": [
    "<font color = #d14d0f>**QUESTION 1d**: </font> Generate a scatterplot showing the relationship between animal gene count (x-axis) and protein count (y-axis)."
   ]
  },
  {
   "cell_type": "code",
   "execution_count": 32,
   "metadata": {},
   "outputs": [
    {
     "data": {
      "image/png": "[encoded data removed]",
      "text/plain": [
       "<Figure size 640x480 with 1 Axes>"
      ]
     },
     "metadata": {},
     "output_type": "display_data"
    }
   ],
   "source": [
    "# YOUR CODE HERE\n",
    "plt.scatter(num_genes_animals, num_proteins_animals)\n",
    "\n",
    "\n",
    "# DO NOT CHANGE CODE BELOW THIS LINE\n",
    "plt.title(\"Animal Genome Count vs Protein Count\")\n",
    "plt.xlabel(\"Genome Count\")\n",
    "plt.ylabel(\"Protein Count\")\n",
    "#Draws a red line for y = x\n",
    "line_values = np.arange(max(num_proteins_animals))\n",
    "plt.plot(line_values, line_values, \"red\")\n",
    "\n",
    "plt.show()"
   ]
  },
  {
   "cell_type": "markdown",
   "metadata": {},
   "source": [
    "<font color = #d14d0f>**QUESTION 1e**: </font> Can the plot and correlation coefficient alone demonstrate correlation and/or causation?"
   ]
  },
  {
   "cell_type": "markdown",
   "metadata": {},
   "source": [
    "**ANSWER:** The plot shows that there is a positive correlation between animal genome count and animal protein count supported by our pearson correlation score of 0.93. However correlation does not imply causation, and to further confirm causation, must one performed a randomized control trial to establish this relationship."
   ]
  },
  {
   "cell_type": "markdown",
   "metadata": {},
   "source": [
    "<font color = #d14d0f>**QUESTION 1f**: </font> The red line in the scatterplot plots the function y = x. Where are the scatterplot points relative to this line, and what does that mean? Consider the biological relationship between genes and proteins, and provide a reason for this observation."
   ]
  },
  {
   "cell_type": "markdown",
   "metadata": {},
   "source": [
    "**ANSWER:** We see that most of the scatter plots are above the line and this means that the actual values are greater than the extrapolated y=x line. Perhaps biologically this is because a gene strand can encode multiple proteins through mechanism such as alternative splicing, Post-translational modifications and Gene Regulation & Context-Dependent Expression"
   ]
  },
  {
   "cell_type": "markdown",
   "metadata": {},
   "source": [
    "**Statistical Significance**\n",
    "\n",
    "<font color = #d14d0f>**QUESTION 2a**: </font> Create a histogram showing the distribution of genome sizes of the Mammals subgroup. Use bins = 30 and normed = True."
   ]
  },
  {
   "cell_type": "code",
   "execution_count": 35,
   "metadata": {},
   "outputs": [
    {
     "data": {
      "image/png": "[encoded data removed]",
      "text/plain": [
       "<Figure size 600x400 with 1 Axes>"
      ]
     },
     "metadata": {},
     "output_type": "display_data"
    }
   ],
   "source": [
    "# YOUR CODE HERE\n",
    "animal_subgroup_hist = animals.where(\"Subgroup\", are.equal_to(\"Mammals\")).hist(\"Size\", bins=30, normed=True)\n",
    "animal_subgroup_hist\n"
   ]
  },
  {
   "cell_type": "markdown",
   "metadata": {},
   "source": [
    "<font color = #d14d0f>**QUESTION 2b**: </font> Suppose we discover a new mammal that was not included in the dataset. The new mammal has a genome size of 1900 kb. Set up a null hypothesis with the goal of determining whether this new species has a significantly smaller genome size than the other mammals in the dataset. \n",
    "\n",
    "> Hint: <br> - You may want to review the Data C8 [hypothesis testing guide](https://drive.google.com/file/d/1s9e252XRIUYxNeI8dNG4D0f8B9iwEv6x/view?usp=sharing)."
   ]
  },
  {
   "cell_type": "markdown",
   "metadata": {},
   "source": [
    "**Null hypothesis:** The genome size of the new mammal species is significantly smaller than the genome size of other mammals in the dataset."
   ]
  },
  {
   "cell_type": "markdown",
   "metadata": {},
   "source": [
    "<font color = #d14d0f>**QUESTION 2c**: </font> Now suppose we conduct a hypothesis test and calculate a p-value of 0.08. For this question, our p-value threshold is 0.05. What can we conclude from our results?\n",
    "\n",
    "> Hint: <br> - You may want to review the Data C8 [hypothesis testing guide](https://drive.google.com/file/d/1s9e252XRIUYxNeI8dNG4D0f8B9iwEv6x/view?usp=sharing)."
   ]
  },
  {
   "cell_type": "markdown",
   "metadata": {},
   "source": [
    "**ANSWER:** At a 95% significance level, since our p-value  = 0.08 > 0.05, we fail to reject the null hypothesis. There is significant statistical evidence to suggest that the genome size of the new mammal species is significantly smaller than the genome size of other mammals in the dataset."
   ]
  },
  {
   "cell_type": "markdown",
   "metadata": {},
   "source": [
    "### Congratulations, you have finished the notebook! ##\n",
    "\n",
    "If you have any feedback on this assignment, please fill out [this feedback form](https://docs.google.com/forms/d/e/1FAIpQLSdIhvnoIgvOEw5REL3SztFW05I8yHxnv-KzN_xTzjnX4-5FIA/viewform?usp=sf_link).\n",
    "\n",
    "---"
   ]
  }
 ],
 "metadata": {
  "kernelspec": {
   "display_name": "3.11.9",
   "language": "python",
   "name": "python3"
  },
  "language_info": {
   "codemirror_mode": {
    "name": "ipython",
    "version": 3
   },
   "file_extension": ".py",
   "mimetype": "text/x-python",
   "name": "python",
   "nbconvert_exporter": "python",
   "pygments_lexer": "ipython3",
   "version": "3.11.9"
  }
 },
 "nbformat": 4,
 "nbformat_minor": 4
}
