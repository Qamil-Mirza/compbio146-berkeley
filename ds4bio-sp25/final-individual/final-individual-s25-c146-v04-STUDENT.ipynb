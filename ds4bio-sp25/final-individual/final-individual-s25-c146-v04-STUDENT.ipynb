{
 "cells": [
  {
   "cell_type": "raw",
   "metadata": {},
   "source": [
    "# ASSIGNMENT CONFIG\n",
    "requirements: [matplotlib, numpy, pandas]\n",
    "solutions_pdf: false\n",
    "export_cell:\n",
    "    instructions: \"Extract the written solutions PDF from the zip file and upload it to the written work lab assignment. \"\n",
    "    run_tests: false\n",
    "generate: \n",
    "    pdf: true\n",
    "    filtering: true\n",
    "    zips: false\n",
    "    run_tests: true\n",
    "    show_hidden: false"
   ]
  },
  {
   "cell_type": "markdown",
   "metadata": {},
   "source": [
    "# Final Project - Individual Portion\n",
    "### Data Science for Biology\n",
    "**Notebook developed by:**  *Max Staller*, *Kinsey Long*<br>\n",
    "\n",
    "### Individual Project Instructions\n",
    "We expect you all to work individually on the individual portion of the final project. You may consult your notes from class, PANDAS documentation, and internet sources like StackExchange. You may not use any large language model (e.g. ChatGPT, Github copilot, etc). \n",
    "\n",
    "**As the last portion of the project, you will hand write and sign the following statement, take a picture of it and upload it as part of your individual project submission.** <br>\n",
    "“I pledge my honor, I have neither given nor received inappropriate assistance in the completion of the individual portion of this final project.\" <br>\n",
    " [sign your name. Date]\n"
   ]
  },
  {
   "cell_type": "code",
   "execution_count": 1,
   "metadata": {},
   "outputs": [
    {
     "name": "stdout",
     "output_type": "stream",
     "text": [
      "Requirement already satisfied: seaborn==0.13.2 in /home/qamil/.pyenv/versions/3.11.9/lib/python3.11/site-packages (0.13.2)\n",
      "Requirement already satisfied: numpy!=1.24.0,>=1.20 in /home/qamil/.pyenv/versions/3.11.9/lib/python3.11/site-packages (from seaborn==0.13.2) (1.26.4)\n",
      "Requirement already satisfied: pandas>=1.2 in /home/qamil/.pyenv/versions/3.11.9/lib/python3.11/site-packages (from seaborn==0.13.2) (2.2.2)\n",
      "Requirement already satisfied: matplotlib!=3.6.1,>=3.4 in /home/qamil/.pyenv/versions/3.11.9/lib/python3.11/site-packages (from seaborn==0.13.2) (3.9.1.post1)\n",
      "Requirement already satisfied: contourpy>=1.0.1 in /home/qamil/.pyenv/versions/3.11.9/lib/python3.11/site-packages (from matplotlib!=3.6.1,>=3.4->seaborn==0.13.2) (1.2.1)\n",
      "Requirement already satisfied: cycler>=0.10 in /home/qamil/.pyenv/versions/3.11.9/lib/python3.11/site-packages (from matplotlib!=3.6.1,>=3.4->seaborn==0.13.2) (0.12.1)\n",
      "Requirement already satisfied: fonttools>=4.22.0 in /home/qamil/.pyenv/versions/3.11.9/lib/python3.11/site-packages (from matplotlib!=3.6.1,>=3.4->seaborn==0.13.2) (4.53.1)\n",
      "Requirement already satisfied: kiwisolver>=1.3.1 in /home/qamil/.pyenv/versions/3.11.9/lib/python3.11/site-packages (from matplotlib!=3.6.1,>=3.4->seaborn==0.13.2) (1.4.5)\n",
      "Requirement already satisfied: packaging>=20.0 in /home/qamil/.pyenv/versions/3.11.9/lib/python3.11/site-packages (from matplotlib!=3.6.1,>=3.4->seaborn==0.13.2) (24.1)\n",
      "Requirement already satisfied: pillow>=8 in /home/qamil/.pyenv/versions/3.11.9/lib/python3.11/site-packages (from matplotlib!=3.6.1,>=3.4->seaborn==0.13.2) (10.4.0)\n",
      "Requirement already satisfied: pyparsing>=2.3.1 in /home/qamil/.pyenv/versions/3.11.9/lib/python3.11/site-packages (from matplotlib!=3.6.1,>=3.4->seaborn==0.13.2) (3.1.2)\n",
      "Requirement already satisfied: python-dateutil>=2.7 in /home/qamil/.pyenv/versions/3.11.9/lib/python3.11/site-packages (from matplotlib!=3.6.1,>=3.4->seaborn==0.13.2) (2.9.0.post0)\n",
      "Requirement already satisfied: pytz>=2020.1 in /home/qamil/.pyenv/versions/3.11.9/lib/python3.11/site-packages (from pandas>=1.2->seaborn==0.13.2) (2024.1)\n",
      "Requirement already satisfied: tzdata>=2022.7 in /home/qamil/.pyenv/versions/3.11.9/lib/python3.11/site-packages (from pandas>=1.2->seaborn==0.13.2) (2024.1)\n",
      "Requirement already satisfied: six>=1.5 in /home/qamil/.pyenv/versions/3.11.9/lib/python3.11/site-packages (from python-dateutil>=2.7->matplotlib!=3.6.1,>=3.4->seaborn==0.13.2) (1.15.0)\n",
      "\n",
      "\u001b[1m[\u001b[0m\u001b[34;49mnotice\u001b[0m\u001b[1;39;49m]\u001b[0m\u001b[39;49m A new release of pip is available: \u001b[0m\u001b[31;49m24.3.1\u001b[0m\u001b[39;49m -> \u001b[0m\u001b[32;49m25.0.1\u001b[0m\n",
      "\u001b[1m[\u001b[0m\u001b[34;49mnotice\u001b[0m\u001b[1;39;49m]\u001b[0m\u001b[39;49m To update, run: \u001b[0m\u001b[32;49mpip install --upgrade pip\u001b[0m\n"
     ]
    }
   ],
   "source": [
    "#Just run this cell to import packages\n",
    "!pip install seaborn==0.13.2\n",
    "import math\n",
    "import numpy as np\n",
    "import pandas as pd\n",
    "import seaborn as sns\n",
    "import matplotlib\n",
    "%matplotlib inline\n",
    "import matplotlib.pyplot as plt"
   ]
  },
  {
   "cell_type": "markdown",
   "metadata": {},
   "source": [
    "## Part 1: Multiplicity of Infection\n",
    "\n",
    "CRISPR-Cas9 targeting is supported by guide RNA (gRNA) which bind to complementary sequences in the genome. This binding causes gRNA to form a complex with the Cas9 enzyme, triggering a conformational change and allowing it to cleave the DNA. From there, genes can be inserted or deleted and DNA repair mechanisms are engaged.\n",
    "\n",
    "Your labmate is designing a targeted CRISPR screen in K562 cells. They come to you for help designing the experiment. The cells all carry a Cas9 transgene. Your labmate is transducing cells with lentiviruses-carrying guide RNAs and a puromycin resistance gene. Lentiviruses integrate into the genome at nearly random locations.\n",
    "\n",
    "In this particular case, it is really important to ensure that fewer than 10% of the cells receive 2 or more guide RNAs. Help your labmate choose the appropriate multiplicity of infection (MOI)."
   ]
  },
  {
   "cell_type": "markdown",
   "metadata": {},
   "source": [
    "<!-- BEGIN QUESTION -->\n",
    "<font color = #d14d0f>**QUESTION 1a**:</font> What probability distribution will help you solve this problem? (1 point)"
   ]
  },
  {
   "cell_type": "markdown",
   "metadata": {},
   "source": [
    "Well since we want to ensure that fewer than 10% if the cells receive 2 or more guide RNAs, the Poisson distribution is the appropriate probability distribution here given our assumptions"
   ]
  },
  {
   "cell_type": "markdown",
   "metadata": {},
   "source": [
    "<font color = #d14d0f>**QUESTION 1b**:</font> Write a function `calculateIntegrationRates` that takes the multiplicity of infection (MOI) as an input and returns the fraction of cells with 1 integration and the fraction of cells with 2 or more integrations, **rounded to 5 decimal places**. Assume that 95% of virus particles integrate. (5 points)"
   ]
  },
  {
   "cell_type": "code",
   "execution_count": null,
   "metadata": {},
   "outputs": [],
   "source": [
    "# YOUR CODE HERE\n",
    "def calculateIntegrationRates(MOI):\n",
    "    moi_effective = MOI * 0.95\n",
    "\n",
    "    # now we calc the P(x=k) for k=0, 1 and then we needa one for k>= 2\n",
    "    p_0 = math.exp(-moi_effective)\n",
    "    p_1 = moi_effective * math.exp(-moi_effective)\n",
    "    p_2_and_more = 1 - p_0 - p_1\n",
    "\n",
    "    fraction_1integration = round(p_1, 5)\n",
    "    fraction_2integrations = round(p_2_and_more, 5)\n",
    "    return fraction_1integration, fraction_2integrations "
   ]
  },
  {
   "cell_type": "markdown",
   "metadata": {},
   "source": [
    "<font color = #d14d0f>**QUESTION 1c**:</font> What is the highest MOI (to 3 decimal places) your labmate can use to ensure <10% of cells have 2 or more integrations? Assign your result to `poisson_prob`. (3 points)"
   ]
  },
  {
   "cell_type": "code",
   "execution_count": 9,
   "metadata": {},
   "outputs": [
    {
     "data": {
      "text/plain": [
       "(0.31225, 0.09976)"
      ]
     },
     "execution_count": 9,
     "metadata": {},
     "output_type": "execute_result"
    }
   ],
   "source": [
    "calculateIntegrationRates(0.559)"
   ]
  },
  {
   "cell_type": "code",
   "execution_count": 8,
   "metadata": {},
   "outputs": [
    {
     "name": "stdout",
     "output_type": "stream",
     "text": [
      "The highest MOI (to 3 d.p) to ensure <10% of cells have at least 2 integrations is 0.559\n"
     ]
    }
   ],
   "source": [
    "# YOUR CODE HERE\n",
    "# note I tried solve for a numerical solution but got a transcendental equation\n",
    "# which has no closed form solution, so I just brute forced it as seen above\n",
    "q1c_highest_MOI = 0.559\n",
    "\n",
    "print(f\"The highest MOI (to 3 d.p) to ensure <10% of cells have at least 2 integrations is {q1c_highest_MOI}\")"
   ]
  },
  {
   "cell_type": "markdown",
   "metadata": {},
   "source": [
    "<font color = #d14d0f>**QUESTION 2a**:</font> Next, you will model the puromycin survival rate. Start by assuming that 100% of cells with a puromycin resistance gene survive and 100% of cells without an integration die. Start with an MOI of 0.4. What fraction of cells have 1 integration? Assign your result to `frac_1_integration` Out of all of the cells that survive, what fraction of them have only 1 integration? Assign that result to `frac_1_integration_survived`. As usual, round your answers to 3 decimal places. (2 points)"
   ]
  },
  {
   "cell_type": "code",
   "execution_count": 23,
   "metadata": {},
   "outputs": [
    {
     "name": "stdout",
     "output_type": "stream",
     "text": [
      "0.26 of cells had 1 integration.\n",
      "0.822 of survived cells had 1 integration.\n"
     ]
    }
   ],
   "source": [
    "# YOUR CODE HERE\n",
    "MOI = 0.4\n",
    "moi_effective = MOI * 0.95\n",
    "\n",
    "# Again I gues we just calculate the poisson probabilties\n",
    "p_0 = math.exp(-moi_effective)\n",
    "p_1 = moi_effective * math.exp(-moi_effective)\n",
    "\n",
    "frac_1_integration = round(p_1, 3)\n",
    "frac_1_integration_survived = round(p_1 / (1 - p_0), 3)\n",
    "\n",
    "print(f\"{frac_1_integration} of cells had 1 integration.\")\n",
    "print(f\"{frac_1_integration_survived} of survived cells had 1 integration.\")"
   ]
  },
  {
   "cell_type": "markdown",
   "metadata": {},
   "source": [
    "<font color = #d14d0f>**QUESTION 2b**:</font> Drug selection in human cell culture is never perfect. Next, assume that 85% of cells with a puromycin resistance gene survive and 95% of cells without an integration die. Use an MOI of 0.4. Among the cells that survive, what fraction have 1 integration? Assign your result to `q1e_frac_1_integration_survival`, a float that is rounded to 3 decimal places. (3 points)"
   ]
  },
  {
   "cell_type": "code",
   "execution_count": 26,
   "metadata": {},
   "outputs": [
    {
     "name": "stdout",
     "output_type": "stream",
     "text": [
      "0.729 of surviving cells had 1 integration.\n"
     ]
    }
   ],
   "source": [
    "# YOUR CODE HERE\n",
    "MOI = 0.4\n",
    "moi_effective = MOI * 0.95\n",
    "\n",
    "p_0 = math.exp(-moi_effective)\n",
    "p_1 = moi_effective * math.exp(-moi_effective)\n",
    "p_2_and_more = 1 - p_0 - p_1\n",
    "\n",
    "# now we just use conditional probability i think\n",
    "# we want the P(x=1 | survived)\n",
    "\n",
    "survive_0 = p_0 * (1 - 0.95)\n",
    "survive_1 = p_1 * 0.85\n",
    "survive_2 = p_2_and_more * 0.85\n",
    "\n",
    "total_survive = survive_0 + survive_1 + survive_2\n",
    "\n",
    "q1e_frac_1_integration_survival = round(survive_1 / total_survive, 3)\n",
    "\n",
    "print(f\"{q1e_frac_1_integration_survival} of surviving cells had 1 integration.\")"
   ]
  },
  {
   "cell_type": "markdown",
   "metadata": {},
   "source": [
    "<font color = #d14d0f>**QUESTION 3**:</font> Your labmate’s screen has 400 target genes, each with 18 guide RNAs, all marked by puromycin resistance. The screen also includes 100 control guide RNAs. \n",
    "\n",
    "They want each guide RNA integrated into at least 500 cells. What is the minimum number of integrations they need? What is the minimum number of cells they need to start with in the experiment? Edit the provided print statement with your answer, <b>making sure to provide each answer with 3 significant figures</b>.\n",
    "\n",
    "As above, you should also assume that only 85% of cells with a puromycin resistance gene survive and puromycin kills 95% of cells without the resistance gene. Use an MOI of 0.4. Assign your final result to `q3_min_cells`, which should be an integer."
   ]
  },
  {
   "cell_type": "code",
   "execution_count": 34,
   "metadata": {},
   "outputs": [
    {
     "name": "stdout",
     "output_type": "stream",
     "text": [
      "There are a total of 3650000 integrations.\n",
      "Your labmate should use at least 31700000 cells.\n"
     ]
    }
   ],
   "source": [
    "# YOUR CODE HERE\n",
    "num_grnas = 400 * 18 + 100 # assuming the control wasn;t part of the 400\n",
    "num_integrated_cells_per_grna = 500\n",
    "survival_rate_with_integration = 0.85\n",
    "survival_rate_without_integration = 1 - 0.95\n",
    "MOI = 0.4\n",
    "moi_effective = MOI * 0.95\n",
    "\n",
    "# min num integrations\n",
    "total_integrations = round(num_grnas * num_integrated_cells_per_grna, -3)\n",
    "\n",
    "# ok and since we use poisson, the E[x] = lambda = our effective moi hereee\n",
    "expected_integrations_per_cell = moi_effective\n",
    "\n",
    "# now we get the poisson probabilities\n",
    "p_0 = math.exp(-expected_integrations_per_cell)\n",
    "p_1 = expected_integrations_per_cell * math.exp(-expected_integrations_per_cell)\n",
    "p_2_and_more = 1 - p_0 - p_1\n",
    "\n",
    "total_survival_frac = (p_0 * survival_rate_without_integration) + (p_1 * survival_rate_with_integration) + (p_2_and_more * survival_rate_with_integration)\n",
    "\n",
    "cells_required = total_integrations / expected_integrations_per_cell\n",
    "q3_min_cells = round(math.ceil(cells_required / total_survival_frac), -5)\n",
    "\n",
    "print(f\"There are a total of {total_integrations} integrations.\")\n",
    "print(f\"Your labmate should use at least {q3_min_cells} cells.\")"
   ]
  },
  {
   "cell_type": "markdown",
   "metadata": {},
   "source": [
    "<font color = #d14d0f>**QUESTION 4**:</font> Make a seaborn line plot showing the fraction of surviving cells with one integration (y-axis) vs MOI. Plot 3 different puromycin efficiencies (100%, 80%, 60%) in different colors, with MOI values between 0 to 3. Ensure your visualization has appropriate title, labels and legend. As above, assume puromycin kills 95% of cells without the resistance gene. (3 points)"
   ]
  },
  {
   "cell_type": "code",
   "execution_count": 46,
   "metadata": {},
   "outputs": [
    {
     "data": {
      "image/png": "[encoded data removed]",
      "text/plain": [
       "<Figure size 1000x600 with 1 Axes>"
      ]
     },
     "metadata": {},
     "output_type": "display_data"
    }
   ],
   "source": [
    "# YOUR CODE HERE\n",
    "puromycin_efficiencies = [0.6, 0.8, 1]\n",
    "MOIs = np.arange(0, 3.1, 0.1)\n",
    "integration_efficiency = 0.95\n",
    "survival_rate_without_integration = 1 - 0.95\n",
    "\n",
    "df = []\n",
    "\n",
    "for efficiency in puromycin_efficiencies:\n",
    "    for MOI in MOIs:\n",
    "        moi_effective = MOI * integration_efficiency\n",
    "\n",
    "        # poisson probs\n",
    "        p_0 = math.exp(-moi_effective)\n",
    "        p_1 = moi_effective * math.exp(-moi_effective)\n",
    "        p_2_and_more = 1 - p_0 - p_1\n",
    "\n",
    "        # survival rates\n",
    "        survive_0 = p_0 * survival_rate_without_integration\n",
    "        survive_1 = p_1 * efficiency\n",
    "        survive_2 = p_2_and_more * efficiency\n",
    "\n",
    "        total_survive = survive_0 + survive_1 + survive_2\n",
    "        fraction_survived_with_integration = round(survive_1 / total_survive, 3)\n",
    "\n",
    "        df.append({\n",
    "            'MOI': MOI,\n",
    "            'Puromycin Efficiency': efficiency,\n",
    "            'Fraction Survived with Integration': fraction_survived_with_integration\n",
    "        })\n",
    "\n",
    "# imma make a dataframe since that's easier to work wit\n",
    "df = pd.DataFrame(df)\n",
    "\n",
    "# plotting stuff\n",
    "plt.figure(figsize=(10, 6))\n",
    "plt.ylabel(\"Fraction of Cells with 1 Integration\")\n",
    "plt.xlabel(\"MOI\")\n",
    "plt.title(\"MOI vs Fraction of Cells with 1 Integration\")\n",
    "sns.lineplot(data=df, x='MOI', y='Fraction Survived with Integration', hue='Puromycin Efficiency')\n",
    "plt.vlines(x=0.3, color='red', linestyle='--', ymin=0, ymax=0.8, label='MOI = 0.3')\n",
    "plt.legend(title='Puromycin Efficiency', loc='upper right')\n",
    "plt.grid(True)\n",
    "plt.show()"
   ]
  },
  {
   "cell_type": "markdown",
   "metadata": {},
   "source": [
    "<font color = #d14d0f>**QUESTION 4b**:</font> Describe what you see in the plot.\n",
    "\n",
    "Firstly, I observe that the fraction of surviving cells with exactly 1 integration rises quickly with increasing MOI and peaks around a neighborhood of 0.3. After this peak, the fraction declines steadily since higher MOIs lead to  more cells getting multiple integrations. So really there seems to be a sweet spot in choosing our MOI parameter in order to maximize the single gRNA integration in surviving cells. That sweet spots seems to be an MOI of 0.3\n",
    "\n",
    "What parameter is most important for ensuring cells get 1 integration per cell?\n",
    "\n",
    "As hinted from the questions, it definitely seems like the most important parameter here is the multiplicity of infection (MOI) since this directly controls how many viral particles each cell receives on average"
   ]
  },
  {
   "cell_type": "markdown",
   "metadata": {},
   "source": [
    "<!-- END QUESTION -->"
   ]
  },
  {
   "cell_type": "markdown",
   "metadata": {},
   "source": [
    "## Part 2: Data Science Practices\n"
   ]
  },
  {
   "cell_type": "markdown",
   "metadata": {},
   "source": [
    "<!-- END QUESTION -->"
   ]
  },
  {
   "cell_type": "markdown",
   "metadata": {},
   "source": [
    "<!-- BEGIN QUESTION -->\n",
    "<font color = #d14d0f>**QUESTION 5**:</font> Suppose you have a pandas DataFrame containing containing drug screening data with columns representing different compounds and rows representing cell lines. There is also a control column. The values in the DataFrame are the cell viability percentage, which correspond to the impact of the drugs on the cell lines. You have another DataFrame that contains a row for each cell line, with data for the organ and organism it was from. \n",
    "\n",
    "Answer each of the sub-questions below. For each question, explicitly reference at least one pandas, scipy or seaborn method."
   ]
  },
  {
   "cell_type": "markdown",
   "metadata": {},
   "source": [
    "_in answering the questions below, I denote the pandas DataFrame as `df`_\n",
    "\n",
    "a) How would you inspect the data to get a broad overview? (1 point) <br>\n",
    "In general, I would call `df.head()` to view the first 5 rows. For summary statistics for each compound, I would call `df.describe()`. I also like checking for missing values and duplicate values, which can be done with `df.isna().sum()` and `df.duplicated()` respectively\n",
    "\n",
    "b) How would you determine which drug is the most toxic across all of the cell lines? (2 points) <br>\n",
    "It would depend on the skew of the data, so assuming my data is not skewed, I would first drop the control column, then simply take the column means and get the minimum of those means since it was state the the values represent cell viability percentage. Intuitively, the cell with the lowest viability percentage should correspond to the cell that was most impacted by the drug. If the data was skewed however, I would use a more robust measure like the median. It would look like this method chain: \n",
    "\n",
    "```\n",
    "df.drop(columns='control').mean().idxmin()\n",
    "```\n",
    "\n",
    "c) For any given drug, how would you determine which organism it impacted the most? (3 points) <br>\n",
    "I would have to perform a `df.merge()` between the drug data with the other dataframe. Then we simply have to take the `merged_df.groupby('organism')` and again do something similar to part b where we take the mean and get the minimum for that drug\n",
    "\n",
    "d) How would you statistically determine if a cell line is significantly impacted by a specific drug? (2 points) <br>\n",
    "To do this I would perform a paired t-test by comparing the drug column and the control column. Conveniently, `scipy` has a method that allows us to perform the test out of the box by doing:\n",
    "\n",
    "`ttest_rel(df['Drug'], df['control'])`\n",
    "\n",
    "Then at a 95% confidence interval, if the p-value is less than 0.05, we can conclude that the drug significantly reduces viability compared to the control in that cell line\n",
    "\n",
    "e) Describe and outline a visualization you would create and why it might be relevant. (1 point) <br>\n",
    "I would create a single violin plot per drug displayed side by side to visualize the distribution of cell viability for each drug across the cell lines. My goal would to be to reveal whether the response is skewed or highly variable which may inform further data preprocessing protocols"
   ]
  },
  {
   "cell_type": "markdown",
   "metadata": {},
   "source": [
    "<!-- END QUESTION -->"
   ]
  },
  {
   "cell_type": "markdown",
   "metadata": {},
   "source": [
    "## Part 3: Cas9 Cutting\n",
    "\n",
    "PAM is a short DNA sequence that is recognized by the Cas9 enzyme and is essential for its function in CRISPR gene editing. Cas9 requires a specific PAM sequence adjacent to the target DNA sequence in order to bind and initiate the DNA cleavage process. The PAM sequence varies depending on the type of Cas9 protein used, with different Cas9 orthologs recognizing different PAM sequences. Commonly used Cas9 proteins, such as the *Streptococcus pyogenes* Cas9 (SpCas9), recognize a PAM sequence consisting of the nucleotides NGG (where N can be any nucleotide). \n",
    "\n",
    "CRISPR-Cas9 finds and cuts target protospacer DNA precisely 3 base pairs upstream of a PAM."
   ]
  },
  {
   "cell_type": "markdown",
   "metadata": {},
   "source": [
    "<font color = #d14d0f>**QUESTION 6a**:</font> How often do you expect an NGG PAM motif to appear in a random DNA sequence that is 30,000 nucleotides long? Assume that the probability of observing NGG at any position in the sequence is independent of one another. Assume GC = 45%. Assign your answer to `q6a_answer`. (2 points)"
   ]
  },
  {
   "cell_type": "code",
   "execution_count": 3,
   "metadata": {},
   "outputs": [
    {
     "name": "stdout",
     "output_type": "stream",
     "text": [
      "In a 10,000 nt long random DNA sequence, we expect to see 1519 number of NGG motifs.\n"
     ]
    }
   ],
   "source": [
    "# YOUR CODE HERE\n",
    "dna_seq_length = 30_000\n",
    "gc_content = 0.45\n",
    "\n",
    "probability_G = 0.5 * gc_content\n",
    "probability_C = 0.5 * gc_content\n",
    "probability_N = 1\n",
    "\n",
    "probability_NGG = probability_N * probability_G * probability_G\n",
    "expected_NGG_motifs = dna_seq_length * probability_NGG\n",
    "q6a_answer = int(round(expected_NGG_motifs, 0))\n",
    "\n",
    "print(f\"In a 10,000 nt long random DNA sequence, we expect to see {q6a_answer} number of NGG motifs.\")"
   ]
  },
  {
   "cell_type": "markdown",
   "metadata": {},
   "source": [
    "<font color = #d14d0f>**QUESTION 6b**:</font> What is the expected number of possible cut site locations in a 30,000 nt random DNA could be edited using an NGG PAM sequence. Use the same assumption as in Q6a, and make sure to consider both DNA strands. (1 point)"
   ]
  },
  {
   "cell_type": "code",
   "execution_count": null,
   "metadata": {},
   "outputs": [
    {
     "name": "stdout",
     "output_type": "stream",
     "text": [
      "In a 10,000 nt long random DNA sequence, we expect to see 3038 possible cut sites.\n"
     ]
    }
   ],
   "source": [
    "# YOUR CODE HERE\n",
    "dna_seq_length = 30_000\n",
    "gc_content = 0.45\n",
    "\n",
    "probability_G = 0.5 * gc_content\n",
    "probability_C = 0.5 * gc_content\n",
    "\n",
    "probability_PAM = probability_G * probability_G\n",
    "\n",
    "expected_PAM_motifs = dna_seq_length * probability_PAM * 2 # RMB TIMES 2 to account for both strands\n",
    "\n",
    "q6b_answer = int(round(expected_PAM_motifs, 0))\n",
    "\n",
    "print(f\"In a 10,000 nt long random DNA sequence, we expect to see {q6b_answer} possible cut sites.\")"
   ]
  },
  {
   "cell_type": "markdown",
   "metadata": {},
   "source": [
    "<font color = #d14d0f>**QUESTION 6c**:</font> Build a function `calculateCoverage(PAM_seq, DNA_length)` that calculates the expected proportion of the DNA cut sites that could be genetically engineered with those given parameters. The PAM sequence can be any sequence of \"N\", \"A\", \"T\", \"C\" and/or \"G\", of any length. Use the same assumptions in Q6a and Q6b. (3 point)"
   ]
  },
  {
   "cell_type": "code",
   "execution_count": null,
   "metadata": {},
   "outputs": [
    {
     "data": {
      "text/plain": [
       "' # BEGIN PROMPT\\ndef calculateCoverage(PAM_seq, DNA_length):\\n    ...\\n    return ...\\n'"
      ]
     },
     "execution_count": 10,
     "metadata": {},
     "output_type": "execute_result"
    }
   ],
   "source": [
    "# YOUR CODE HERE\n",
    "def calculateCoverage(PAM_seq, DNA_length):\n",
    "    # probsbabilties\n",
    "    probs = {\n",
    "        'A': 0.275,\n",
    "        'C': 0.275,\n",
    "        'G': 0.225,\n",
    "        'T': 0.225,\n",
    "        'N': 1.0\n",
    "    }\n",
    "\n",
    "    # get the pam pronbs\n",
    "    pam_prob = 1\n",
    "    for base in PAM_seq:\n",
    "        pam_prob *= probs.get(base.upper(), 0) # i wanna standardize the base to upper case\n",
    "\n",
    "    expected_pams = 2 * DNA_length * pam_prob\n",
    "\n",
    "    coverage = expected_pams / DNA_length\n",
    "    return coverage"
   ]
  },
  {
   "cell_type": "markdown",
   "metadata": {},
   "source": [
    "<font color = #d14d0f>**QUESTION 7**:</font> Suppose you want to genetically edit a specific nucleotide in a 30,000 nt random DNA sequence. What is the minimum gRNA sequence length you would need for the gRNA sequence to only appear once in random DNA? Assign your answer to `q7_min_grna_length`. Assume the gRNA sequence does not include an \"N\". You can assume equal distribution here. (3 points)"
   ]
  },
  {
   "cell_type": "code",
   "execution_count": 10,
   "metadata": {},
   "outputs": [
    {
     "name": "stdout",
     "output_type": "stream",
     "text": [
      "The minimum gRNA length needed to expect the sequence to only appear once is 8.\n"
     ]
    }
   ],
   "source": [
    "# YOUR CODE HERE\n",
    "dna_seq_length = 30_000\n",
    "threshold = 1 # since we want to expect only 1 occurrence\n",
    "\n",
    "# i will loop over some possible gRNA lengths\n",
    "for L in range(1, 100):\n",
    "    prob_seq = 0.25 ** L\n",
    "    expected_occurrences = (dna_seq_length) * prob_seq\n",
    "    if expected_occurrences <= threshold:\n",
    "        q7_min_grna_length = L\n",
    "        break\n",
    "\n",
    "print(f\"The minimum gRNA length needed to expect the sequence to only appear once is {q7_min_grna_length}.\")"
   ]
  },
  {
   "cell_type": "markdown",
   "metadata": {},
   "source": [
    "## Part 4: CODIS"
   ]
  },
  {
   "cell_type": "markdown",
   "metadata": {},
   "source": [
    "<!-- BEGIN QUESTION -->\n",
    "<font color = #d14d0f>**QUESTION 8**:</font> Describe two quantitative metrics that can be used to assess the degree of similarity between two CODIS STR fingerprints. Provide one limitation of each metric. At least one of the metrics should be one that was covered in class. (4 points)"
   ]
  },
  {
   "cell_type": "markdown",
   "metadata": {},
   "source": [
    "##### BEGIN SOLUTION"
   ]
  },
  {
   "cell_type": "markdown",
   "metadata": {},
   "source": [
    "<!-- END QUESTION -->"
   ]
  },
  {
   "cell_type": "markdown",
   "metadata": {},
   "source": [
    "<!-- BEGIN QUESTION -->\n",
    "<font color = #d14d0f>**QUESTION 9**:</font> What are some additional considerations and limitations of using CODIS to predict the degree of relation between two individuals? (2 points)"
   ]
  },
  {
   "cell_type": "markdown",
   "metadata": {},
   "source": [
    "##### BEGIN SOLUTION"
   ]
  },
  {
   "cell_type": "markdown",
   "metadata": {},
   "source": [
    "## Part 5: Assessing Model Performance"
   ]
  },
  {
   "cell_type": "markdown",
   "metadata": {},
   "source": [
    "For the following questions, please refer to the table below, which shows results for 4 different supervisied machine learning models that were used to classify different cell types."
   ]
  },
  {
   "cell_type": "code",
   "execution_count": 12,
   "metadata": {},
   "outputs": [
    {
     "data": {
      "text/html": [
       "<div>\n",
       "<style scoped>\n",
       "    .dataframe tbody tr th:only-of-type {\n",
       "        vertical-align: middle;\n",
       "    }\n",
       "\n",
       "    .dataframe tbody tr th {\n",
       "        vertical-align: top;\n",
       "    }\n",
       "\n",
       "    .dataframe thead th {\n",
       "        text-align: right;\n",
       "    }\n",
       "</style>\n",
       "<table border=\"1\" class=\"dataframe\">\n",
       "  <thead>\n",
       "    <tr style=\"text-align: right;\">\n",
       "      <th></th>\n",
       "      <th>Model</th>\n",
       "      <th>TP</th>\n",
       "      <th>TN</th>\n",
       "      <th>FP</th>\n",
       "      <th>FN</th>\n",
       "    </tr>\n",
       "  </thead>\n",
       "  <tbody>\n",
       "    <tr>\n",
       "      <th>0</th>\n",
       "      <td>Model 1</td>\n",
       "      <td>52</td>\n",
       "      <td>47</td>\n",
       "      <td>42</td>\n",
       "      <td>54</td>\n",
       "    </tr>\n",
       "    <tr>\n",
       "      <th>1</th>\n",
       "      <td>Model 2</td>\n",
       "      <td>91</td>\n",
       "      <td>885</td>\n",
       "      <td>18</td>\n",
       "      <td>405</td>\n",
       "    </tr>\n",
       "    <tr>\n",
       "      <th>2</th>\n",
       "      <td>Model 3</td>\n",
       "      <td>484</td>\n",
       "      <td>107</td>\n",
       "      <td>410</td>\n",
       "      <td>78</td>\n",
       "    </tr>\n",
       "    <tr>\n",
       "      <th>3</th>\n",
       "      <td>Model 4</td>\n",
       "      <td>959</td>\n",
       "      <td>959</td>\n",
       "      <td>32</td>\n",
       "      <td>58</td>\n",
       "    </tr>\n",
       "  </tbody>\n",
       "</table>\n",
       "</div>"
      ],
      "text/plain": [
       "     Model   TP   TN   FP   FN\n",
       "0  Model 1   52   47   42   54\n",
       "1  Model 2   91  885   18  405\n",
       "2  Model 3  484  107  410   78\n",
       "3  Model 4  959  959   32   58"
      ]
     },
     "execution_count": 12,
     "metadata": {},
     "output_type": "execute_result"
    }
   ],
   "source": [
    "#Just run this cell\n",
    "part6_df = pd.DataFrame({ \n",
    "    \"Model\": [\"Model 1\", \"Model 2\", \"Model 3\", \"Model 4\"],\n",
    "    \"TP\": [52, 91, 484, 959],\n",
    "    \"TN\": [47, 885, 107, 959],\n",
    "    \"FP\": [42, 18, 410, 32],\n",
    "    \"FN\": [54, 405, 78, 58]\n",
    "})\n",
    "part6_df"
   ]
  },
  {
   "cell_type": "markdown",
   "metadata": {},
   "source": [
    "<!-- BEGIN QUESTION -->\n",
    "<font color = #d14d0f>**QUESTION 10**:</font>  <br>\n",
    "a) How do each of these models compare to a model that randomly guesses a diagnosis? (1 point) <br>\n",
    "b) Which model do you think performed the best for diagnosing classes of cells and why?  (1 point) <br>\n",
    "c) For model 1, describe a circumstance where you think this model would be considered the best performing model. (1 point) <br>\n",
    "d) For model 2, describe a circumstance where you think this model would be considered the best performing model. (1 point) <br>\n",
    "e) For model 3, describe a circumstance where you think this model would be considered the best performing model. (1 point) <br>\n"
   ]
  },
  {
   "cell_type": "markdown",
   "metadata": {},
   "source": [
    "**Question 10 Response:** <br>\n",
    "\n",
    "a) *Double-click to type your answer here* \n",
    "<br>\n",
    "b) *Double-click to type your answer here* \n",
    "<br>\n",
    "c) *Double-click to type your answer here* \n",
    "<br>\n",
    "d) *Double-click to type your answer here* \n",
    "<br>\n",
    "e) *Double-click to type your answer here* \n"
   ]
  },
  {
   "cell_type": "markdown",
   "metadata": {},
   "source": [
    "## Part 6: Machine Learning"
   ]
  },
  {
   "cell_type": "code",
   "execution_count": null,
   "metadata": {},
   "outputs": [],
   "source": []
  },
  {
   "cell_type": "markdown",
   "metadata": {},
   "source": [
    "<!-- BEGIN QUESTION -->\n",
    "<font color = #d14d0f>**QUESTION 11**:</font>  <br>\n",
    "What is the difference between supervised and unsupervised machine learning? Give two biological scenarios, outside of the ones we did in class, where each method would be appropriate. (4 points) <br>\n"
   ]
  },
  {
   "cell_type": "markdown",
   "metadata": {},
   "source": [
    "**Question 14 Response:** <br>\n",
    "\n",
    "b) *Double-click to type your answer here* \n",
    "<br>"
   ]
  },
  {
   "cell_type": "markdown",
   "metadata": {},
   "source": [
    "<!-- BEGIN QUESTION -->\n",
    "<font color = #d14d0f>**QUESTION 12**:</font> Suppose you want to conduct an analysis on [this enhancer database](http://www.computationalbiology.cn/RAEdb/index.php) to develop some kind of machine learning model. Outline a machine learning tool that you could build to explore or analyze this data. (6 points)\n",
    "\n",
    "> Feel free to [read the corresponding PubMed article](https://www.ncbi.nlm.nih.gov/pmc/articles/PMC6323319/) to learn more about the data."
   ]
  },
  {
   "cell_type": "markdown",
   "metadata": {},
   "source": [
    "1. State your goal. *Double-click to type your answer here.*\n",
    "2. State what data you would use. *Double-click to type your answer here.*\n",
    "3. Outline your tool. *Double-click to type your answer here.*\n",
    "4. How could you evaluate your model? *Double-click to type your answer here.*"
   ]
  }
 ],
 "metadata": {
  "kernelspec": {
   "display_name": "3.11.9",
   "language": "python",
   "name": "python3"
  },
  "language_info": {
   "codemirror_mode": {
    "name": "ipython",
    "version": 3
   },
   "file_extension": ".py",
   "mimetype": "text/x-python",
   "name": "python",
   "nbconvert_exporter": "python",
   "pygments_lexer": "ipython3",
   "version": "3.11.9"
  }
 },
 "nbformat": 4,
 "nbformat_minor": 4
}
